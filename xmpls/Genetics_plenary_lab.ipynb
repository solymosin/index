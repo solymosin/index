{
 "cells": [
  {
   "cell_type": "markdown",
   "metadata": {},
   "source": [
    "# Case studies in microbial genomics\n",
    "\n",
    "Norbert Solymosi DVM, PhD<br>\n",
    "Centre for Bioinformatics<br>\n",
    "University of Veterinary Medicine Budapest, Hungary<br>\n",
    "\n",
    "\n",
    "https://jupyter.org/\n",
    "\n",
    "https://www.nature.com/articles/d41586-018-07196-1"
   ]
  },
  {
   "cell_type": "markdown",
   "metadata": {},
   "source": [
    "## Next Generation Sequencing (NGS)\n",
    "\n",
    "![](https://media.springernature.com/lw785/springer-static/image/chp%3A10.1007%2F978-981-13-8844-6_15/MediaObjects/480237_1_En_15_Fig2_HTML.png)\n",
    "\n",
    "https://www.youtube.com/watch?v=9vNBYyHedLg\n",
    "<br>\n",
    "https://www.youtube.com/watch?v=ToKUGz_YhC4\n",
    "<br>\n",
    "https://www.youtube.com/watch?v=9YxExTSwgPM\n",
    "\n",
    "\n",
    "## Short reads 100 000 -- millions\n",
    "\n",
    "```\n",
    "1: TTTGGTTGGTTTCACAGATGCCAAAGGCTTGATACTCCCCGGGTCTTTAGCCATTTCCTACCAACAGGTAAGATGGTGCTACCAACATTTCATTGTTCCTGAAAAAGCAGTGTACACCTCTTGTATCCATGTGAAAGTATTTCCCTGAGGTAGGTATCAAGAACTCAAATTGCTTGATTAAAGAGAATGAATGTTTAAAATTGTTATGGATTCTGCCAAATTGCCCTCAAAAGAGTCCACTGATGTGCATTCCTGCAAGCAGTTTTTAAGAGCATGCCATTCCG\n",
    "\n",
    "2: CAGCATTGCTGATTCACTTTGCTGTACAGCAGAAACAAACAGCAATTTAAGCAACTATATGCCAACAAAAACTTCTAAAACCTACAGAGTATTTATTATGTGCTAGATTAAATTTGAATGCAGCTACACGTTTTAACCAGAAACAAAACAGACTGTTTCTGCCCATTGGAGTGCTACTTTCTGGTTGATTTTTTATGGTACCACTAGTAAATCTCCACTTCTCTACCTCACCATGTCTAACTGCTATTACAGGAAACTATTGAGGGGGTGCTTTCTTTACATTTTTGTCTTTGAATTTCTTCTGTGTTTG\n",
    "\n",
    "3: CAAACATTCTTTGGCATTGCCCTTCTTTGGAATTGGAATGAAAACTGACCTTTTCCAGTCCTGTGGCCACTGCTGACTTTTCCAGTTTGCTGGCATATTGAGTGCAGCACTTTAATAGTATCATCTTTTAGGATTTTAAATAGCTCAACTGGAATTCCATTACCTCCAGTAGCTTTGTTCATAGTAACGCTTCCTAAGGCCTACTTGACTTCATACTCCATGATGTCTGACTCTAGCTGAGTGACCATACCATCATGGTTATCTAGATCATTAAGACATTTTTATATAGTTC\n",
    "\n",
    ".\n",
    ".\n",
    ".\n",
    "\n",
    "```"
   ]
  },
  {
   "cell_type": "markdown",
   "metadata": {},
   "source": [
    "## SARS-CoV-2 genome variation analysis\n",
    "\n",
    "[Complete Genome Sequence of a 2019 Novel Coronavirus (SARS-CoV-2) Strain Isolated in Nepal](https://mra.asm.org/content/9/11/e00169-20)\n",
    "\n",
    "https://www.ncbi.nlm.nih.gov/sra/SRR11177792\n",
    "\n",
    "We align the isolated virus NGS short reads to the virus reference genome to identify the genomic variation (e.g. single nucleotide polymorisms, SNPs)."
   ]
  },
  {
   "cell_type": "code",
   "execution_count": 2,
   "metadata": {},
   "outputs": [
    {
     "name": "stdout",
     "output_type": "stream",
     "text": [
      "\n",
      "2020-10-24T09:08:34 prefetch.2.9.2: 1) Downloading 'SRR11177792'...\n",
      "2020-10-24T09:08:34 prefetch.2.9.2:  Downloading via https...\n",
      "2020-10-24T09:09:39 prefetch.2.9.2: 1) 'SRR11177792' was downloaded successfully\n",
      "2020-10-24T09:09:42 prefetch.2.9.2: 'SRR11177792' has 0 unresolved dependencies\n"
     ]
    }
   ],
   "source": [
    "%%bash\n",
    "\n",
    "export PATH=$PATH:/data/tools/sratoolkit.2.9.2-ubuntu64/bin\n",
    "\n",
    "cd /data/sn/Benha\n",
    "\n",
    "prefetch --output-directory . SRR11177792\n"
   ]
  },
  {
   "cell_type": "code",
   "execution_count": 3,
   "metadata": {},
   "outputs": [
    {
     "name": "stdout",
     "output_type": "stream",
     "text": [
      "total 1.3G\n",
      "-rw-rw-r-- 1 sn sn 1.3G Oct 24 11:09 SRR11177792.sra\n"
     ]
    }
   ],
   "source": [
    "%%bash \n",
    "\n",
    "cd /data/sn/Benha\n",
    "\n",
    "ls -lh "
   ]
  },
  {
   "cell_type": "code",
   "execution_count": 4,
   "metadata": {},
   "outputs": [
    {
     "name": "stdout",
     "output_type": "stream",
     "text": [
      "Read 5246584 spots for SRR11177792.sra\n",
      "Written 5246584 spots for SRR11177792.sra\n"
     ]
    }
   ],
   "source": [
    "%%bash\n",
    "export PATH=$PATH:/data/tools/sratoolkit.2.9.2-ubuntu64/bin\n",
    "\n",
    "cd /data/sn/Benha\n",
    "fastq-dump --split-files SRR11177792.sra"
   ]
  },
  {
   "cell_type": "code",
   "execution_count": 5,
   "metadata": {},
   "outputs": [
    {
     "name": "stdout",
     "output_type": "stream",
     "text": [
      "total 7.3G\n",
      "-rw-rw-r-- 1 sn sn 1.3G Oct 24 11:09 SRR11177792.sra\n",
      "-rw-rw-r-- 1 sn sn 3.1G Oct 24 11:13 SRR11177792_1.fastq\n",
      "-rw-rw-r-- 1 sn sn 3.1G Oct 24 11:13 SRR11177792_2.fastq\n"
     ]
    }
   ],
   "source": [
    "%%bash \n",
    "\n",
    "cd /data/sn/Benha\n",
    "\n",
    "ls -lh "
   ]
  },
  {
   "cell_type": "markdown",
   "metadata": {},
   "source": [
    "### FASTQ\n",
    "\n",
    "[Cock PJA, Fields CJ, Goto N, Heuer ML, Rice PM (2010) The sanger FASTQ file format for sequences with quality scores and the Solexa/Illumina FASTQ variants. Nucleic Acids Research Vol.38 No.6 1767-1771](https://www.ncbi.nlm.nih.gov/pmc/articles/PMC2847217)\n",
    "\n",
    "https://en.wikipedia.org/wiki/FASTQ_format\n"
   ]
  },
  {
   "cell_type": "code",
   "execution_count": 6,
   "metadata": {},
   "outputs": [
    {
     "name": "stdout",
     "output_type": "stream",
     "text": [
      "@SRR11177792.1 1 length=152\n",
      "TTATGATCCTTTGCAACCTGAATTAGACTCATTCAAGGAGGAGTTAGATAAATATTTTAAGAATCATACATCACCAGATGTTGATTTAGGTTACATCTCTGGCATTAATGCTTCAGTTGTAAACATTCAAAAAGAAATTGACCGCCTCAATG\n",
      "+SRR11177792.1 1 length=152\n",
      "AC-B--CCEEFG-C--CCF---CF,,,;CE,CEC,,,,,,,,,;C,,,C,,,<,CEEF9,,,,CC,C9C,CC,CE,,,;,CE,,CEF9,,<,,:,C<E@F,,:,CE,,<,<CEE,,<E,C,,,C,CE?,,,,,,,,,<C,,<C+4>?C,,<,\n",
      "@SRR11177792.2 2 length=213\n",
      "CTAAAGCATACAATGTAACACAAGCTTTCGGCAGACGTGGTCCAGAACAAACCCAAGGAAATTTTGGGGACCAGGAACTAATCAGACAAGGAACTGATTGCAAACATTTTCCGCAAATTGCACAATTTGCCCCCAGCGCTTCAGCGTTCTTCGGAATGTCGCGCATTGGCATGGAAGTCACACCTTCGGGAACGTGGTTGACCTACACAGGTT\n",
      "+SRR11177792.2 2 length=213\n",
      "8B----C<F-C--C-C9-C-C-,,CEEFE,+@++,;+C,,:CC,,,,;,,,;@@,,,,,,,CCEF,+,+,8B,,,,,:C,,CC,,,:,,,,,,:C,,CE,9,,6=,CC,,<9,8+++CE,9,B,,BEE,9B=A>++9+>BCC,,5+BBCFFF7+++:,CB8>+>+BC,,3,:,,,,,:>,:,:<DFC*****6*>**>F*,7?F,>,?,,,7,\n",
      "@SRR11177792.3 3 length=282\n",
      "AACACCAGCTTCTGATCTTTCACAAGTTCCGTGTCTACAGTACTCAGAATCAAAAGTTGTTACCACTCTAACAGAACCTTCAAGGTAGGTGTTAGGAAATTGAATAATAGAGCCATCCATTAGCACATAACGTGTGTCAGGGCGTAAACTTTCATAAGCAACAGAACCTTCTAGTTCATTTGTATCATAACAATATGGTACTGGCTTACCAGAAGCATCTTTAAAAATTGTACATTCAGCAGCCAAAACACAAGCTGATGTTGCAAAGTCAGTGTACTTTAT\n"
     ]
    }
   ],
   "source": [
    "%%bash \n",
    "\n",
    "cd /data/sn/Benha\n",
    "\n",
    "head SRR11177792_1.fastq"
   ]
  },
  {
   "cell_type": "markdown",
   "metadata": {},
   "source": [
    "[Phred quality score](https://en.wikipedia.org/wiki/Phred_quality_score)"
   ]
  },
  {
   "cell_type": "markdown",
   "metadata": {},
   "source": [
    "### Quality assessment\n",
    "\n",
    "FastQC: https://github.com/s-andrews/FastQC\n",
    "<br>\n",
    "https://www.youtube.com/watch?v=bz93ReOv87Y"
   ]
  },
  {
   "cell_type": "code",
   "execution_count": 8,
   "metadata": {},
   "outputs": [
    {
     "name": "stdout",
     "output_type": "stream",
     "text": [
      "Analysis complete for SRR11177792_1.fastq\n",
      "Analysis complete for SRR11177792_2.fastq\n"
     ]
    },
    {
     "name": "stderr",
     "output_type": "stream",
     "text": [
      "Started analysis of SRR11177792_1.fastq\n",
      "Started analysis of SRR11177792_2.fastq\n",
      "Approx 5% complete for SRR11177792_1.fastq\n",
      "Approx 5% complete for SRR11177792_2.fastq\n",
      "Approx 10% complete for SRR11177792_1.fastq\n",
      "Approx 10% complete for SRR11177792_2.fastq\n",
      "Approx 15% complete for SRR11177792_1.fastq\n",
      "Approx 15% complete for SRR11177792_2.fastq\n",
      "Approx 20% complete for SRR11177792_1.fastq\n",
      "Approx 20% complete for SRR11177792_2.fastq\n",
      "Approx 25% complete for SRR11177792_1.fastq\n",
      "Approx 25% complete for SRR11177792_2.fastq\n",
      "Approx 30% complete for SRR11177792_1.fastq\n",
      "Approx 30% complete for SRR11177792_2.fastq\n",
      "Approx 35% complete for SRR11177792_1.fastq\n",
      "Approx 35% complete for SRR11177792_2.fastq\n",
      "Approx 40% complete for SRR11177792_1.fastq\n",
      "Approx 40% complete for SRR11177792_2.fastq\n",
      "Approx 45% complete for SRR11177792_1.fastq\n",
      "Approx 45% complete for SRR11177792_2.fastq\n",
      "Approx 50% complete for SRR11177792_1.fastq\n",
      "Approx 50% complete for SRR11177792_2.fastq\n",
      "Approx 55% complete for SRR11177792_1.fastq\n",
      "Approx 55% complete for SRR11177792_2.fastq\n",
      "Approx 60% complete for SRR11177792_1.fastq\n",
      "Approx 60% complete for SRR11177792_2.fastq\n",
      "Approx 65% complete for SRR11177792_1.fastq\n",
      "Approx 65% complete for SRR11177792_2.fastq\n",
      "Approx 70% complete for SRR11177792_1.fastq\n",
      "Approx 70% complete for SRR11177792_2.fastq\n",
      "Approx 75% complete for SRR11177792_1.fastq\n",
      "Approx 75% complete for SRR11177792_2.fastq\n",
      "Approx 80% complete for SRR11177792_1.fastq\n",
      "Approx 80% complete for SRR11177792_2.fastq\n",
      "Approx 85% complete for SRR11177792_1.fastq\n",
      "Approx 85% complete for SRR11177792_2.fastq\n",
      "Approx 90% complete for SRR11177792_1.fastq\n",
      "Approx 90% complete for SRR11177792_2.fastq\n",
      "Approx 95% complete for SRR11177792_1.fastq\n",
      "Approx 95% complete for SRR11177792_2.fastq\n"
     ]
    }
   ],
   "source": [
    "%%bash \n",
    "\n",
    "export PATH=$PATH:/data/tools/FastQC\n",
    "\n",
    "cd /data/sn/Benha\n",
    "\n",
    "fastqc -t 38 *.fastq\n"
   ]
  },
  {
   "cell_type": "code",
   "execution_count": 9,
   "metadata": {},
   "outputs": [
    {
     "name": "stdout",
     "output_type": "stream",
     "text": [
      "total 7.3G\n",
      "-rw-rw-r-- 1 sn sn 1.3G Oct 24 11:09 SRR11177792.sra\n",
      "-rw-rw-r-- 1 sn sn 3.1G Oct 24 11:13 SRR11177792_1.fastq\n",
      "-rw-rw-r-- 1 sn sn 686K Oct 24 11:40 SRR11177792_1_fastqc.html\n",
      "-rw-rw-r-- 1 sn sn 335K Oct 24 11:40 SRR11177792_1_fastqc.zip\n",
      "-rw-rw-r-- 1 sn sn 3.1G Oct 24 11:13 SRR11177792_2.fastq\n",
      "-rw-rw-r-- 1 sn sn 687K Oct 24 11:40 SRR11177792_2_fastqc.html\n",
      "-rw-rw-r-- 1 sn sn 343K Oct 24 11:40 SRR11177792_2_fastqc.zip\n"
     ]
    }
   ],
   "source": [
    "%%bash \n",
    "\n",
    "cd /data/sn/Benha\n",
    "\n",
    "ls -lh "
   ]
  },
  {
   "cell_type": "code",
   "execution_count": 10,
   "metadata": {},
   "outputs": [],
   "source": [
    "%%bash \n",
    "\n",
    "cp /data/sn/Benha/SRR11177792_1_fastqc.html /home/sn\n",
    "cp /data/sn/Benha/SRR11177792_2_fastqc.html /home/sn"
   ]
  },
  {
   "cell_type": "markdown",
   "metadata": {},
   "source": [
    "[SRR11177792_1_fastqc.html](SRR11177792_1_fastqc.html)\n",
    "\n",
    "[SRR11177792_2_fastqc.html](SRR11177792_2_fastqc.html)"
   ]
  },
  {
   "cell_type": "code",
   "execution_count": 11,
   "metadata": {},
   "outputs": [
    {
     "name": "stdout",
     "output_type": "stream",
     "text": [
      "total 7.3G\n",
      "-rw-rw-r-- 1 sn sn 1.3G Oct 24 11:09 SRR11177792.sra\n",
      "-rw-rw-r-- 1 sn sn 3.1G Oct 24 11:13 SRR11177792_1.fastq\n",
      "-rw-rw-r-- 1 sn sn 686K Oct 24 11:40 SRR11177792_1_fastqc.html\n",
      "-rw-rw-r-- 1 sn sn 335K Oct 24 11:40 SRR11177792_1_fastqc.zip\n",
      "-rw-rw-r-- 1 sn sn 3.1G Oct 24 11:13 SRR11177792_2.fastq\n",
      "-rw-rw-r-- 1 sn sn 687K Oct 24 11:40 SRR11177792_2_fastqc.html\n",
      "-rw-rw-r-- 1 sn sn 343K Oct 24 11:40 SRR11177792_2_fastqc.zip\n"
     ]
    },
    {
     "name": "stderr",
     "output_type": "stream",
     "text": [
      "[INFO   ]         multiqc : This is MultiQC v1.10.dev0\n",
      "[INFO   ]         multiqc : Template    : default\n",
      "[INFO   ]         multiqc : Searching   : /data/sn/Benha\n",
      "[INFO   ]          fastqc : Found 2 reports\n",
      "[INFO   ]         multiqc : Compressing plot data\n",
      "[INFO   ]         multiqc : Report      : multiqc_report.html\n",
      "[INFO   ]         multiqc : Data        : multiqc_data\n",
      "[INFO   ]         multiqc : MultiQC complete\n"
     ]
    }
   ],
   "source": [
    "%%bash \n",
    "\n",
    "cd /data/sn/Benha\n",
    "\n",
    "ls -lh \n",
    "\n",
    "multiqc .\n"
   ]
  },
  {
   "cell_type": "code",
   "execution_count": 12,
   "metadata": {},
   "outputs": [],
   "source": [
    "%%bash \n",
    "\n",
    "cp /data/sn/Benha/multiqc_report.html /home/sn"
   ]
  },
  {
   "cell_type": "markdown",
   "metadata": {},
   "source": [
    "[multiqc_report.html](multiqc_report.html)"
   ]
  },
  {
   "cell_type": "markdown",
   "metadata": {},
   "source": [
    "### Filtering and trimming"
   ]
  },
  {
   "cell_type": "code",
   "execution_count": 13,
   "metadata": {},
   "outputs": [
    {
     "name": "stderr",
     "output_type": "stream",
     "text": [
      "TrimmomaticPE: Started with arguments:\n",
      " SRR11177792_1.fastq SRR11177792_2.fastq SRR11177792_trim_1.fq SRR11177792_trim_1_un.fq SRR11177792_trim_2.fq SRR11177792_trim_2_un.fq -threads 38 SLIDINGWINDOW:5:30 MINLEN:50\n",
      "Quality encoding detected as phred33\n",
      "Input Read Pairs: 5246584 Both Surviving: 4423882 (84.32%) Forward Only Surviving: 296093 (5.64%) Reverse Only Surviving: 225578 (4.30%) Dropped: 301031 (5.74%)\n",
      "TrimmomaticPE: Completed successfully\n"
     ]
    }
   ],
   "source": [
    "%%bash \n",
    "\n",
    "TRIM='/data/tools/Trimmomatic-0.39/trimmomatic-0.39.jar'\n",
    "\n",
    "cd /data/sn/Benha\n",
    "\n",
    "for f in *_1.fastq\n",
    "do\n",
    "  r=${f/'_1'/'_2'}\n",
    "  of=${f/'_1.fastq'/'_trim_1.fq'}\n",
    "  or=${r/'_2.fastq'/'_trim_2.fq'}\n",
    "  uf=${f/'_1.fastq'/'_trim_1_un.fq'}\n",
    "  ur=${r/'_2.fastq'/'_trim_2_un.fq'}\n",
    "  java -jar $TRIM PE $f $r $of $uf $or $ur -threads 38 \\\n",
    "    SLIDINGWINDOW:5:30 \\\n",
    "    MINLEN:50\n",
    "done\n"
   ]
  },
  {
   "cell_type": "code",
   "execution_count": 14,
   "metadata": {},
   "outputs": [
    {
     "name": "stdout",
     "output_type": "stream",
     "text": [
      "total 13G\n",
      "-rw-rw-r-- 1 sn sn 1.3G Oct 24 11:09 SRR11177792.sra\n",
      "-rw-rw-r-- 1 sn sn 3.1G Oct 24 11:13 SRR11177792_1.fastq\n",
      "-rw-rw-r-- 1 sn sn 686K Oct 24 11:40 SRR11177792_1_fastqc.html\n",
      "-rw-rw-r-- 1 sn sn 335K Oct 24 11:40 SRR11177792_1_fastqc.zip\n",
      "-rw-rw-r-- 1 sn sn 3.1G Oct 24 11:13 SRR11177792_2.fastq\n",
      "-rw-rw-r-- 1 sn sn 687K Oct 24 11:40 SRR11177792_2_fastqc.html\n",
      "-rw-rw-r-- 1 sn sn 343K Oct 24 11:40 SRR11177792_2_fastqc.zip\n",
      "-rw-rw-r-- 1 sn sn 2.5G Oct 24 11:51 SRR11177792_trim_1.fq\n",
      "-rw-rw-r-- 1 sn sn 126M Oct 24 11:51 SRR11177792_trim_1_un.fq\n",
      "-rw-rw-r-- 1 sn sn 2.4G Oct 24 11:51 SRR11177792_trim_2.fq\n",
      "-rw-rw-r-- 1 sn sn  89M Oct 24 11:51 SRR11177792_trim_2_un.fq\n",
      "drwxrwxr-x 2 sn sn    7 Oct 24 11:46 multiqc_data\n",
      "-rw-rw-r-- 1 sn sn 1.2M Oct 24 11:46 multiqc_report.html\n"
     ]
    }
   ],
   "source": [
    "%%bash \n",
    "\n",
    "cd /data/sn/Benha\n",
    "\n",
    "ls -lh "
   ]
  },
  {
   "cell_type": "markdown",
   "metadata": {},
   "source": [
    "### Filter the human contaminants"
   ]
  },
  {
   "cell_type": "code",
   "execution_count": 16,
   "metadata": {},
   "outputs": [
    {
     "name": "stderr",
     "output_type": "stream",
     "text": [
      "4945553 reads; of these:\n",
      "  4423882 (89.45%) were paired; of these:\n",
      "    4422120 (99.96%) aligned concordantly 0 times\n",
      "    804 (0.02%) aligned concordantly exactly 1 time\n",
      "    958 (0.02%) aligned concordantly >1 times\n",
      "    ----\n",
      "    4422120 pairs aligned concordantly 0 times; of these:\n",
      "      70 (0.00%) aligned discordantly 1 time\n",
      "    ----\n",
      "    4422050 pairs aligned 0 times concordantly or discordantly; of these:\n",
      "      8844100 mates make up the pairs; of these:\n",
      "        8843972 (100.00%) aligned 0 times\n",
      "        75 (0.00%) aligned exactly 1 time\n",
      "        53 (0.00%) aligned >1 times\n",
      "  521671 (10.55%) were unpaired; of these:\n",
      "    521357 (99.94%) aligned 0 times\n",
      "    163 (0.03%) aligned exactly 1 time\n",
      "    151 (0.03%) aligned >1 times\n",
      "0.04% overall alignment rate\n",
      "[M::bam2fq_mainloop] discarded 72 singletons\n",
      "[M::bam2fq_mainloop] processed 9365329 reads\n"
     ]
    }
   ],
   "source": [
    "%%bash \n",
    "\n",
    "export PATH=$PATH:/data/tools/bowtie2-2.4.1-linux-x86_64\n",
    "export PATH=/data/tools/samtools-1.10:$PATH\n",
    "\n",
    "hidx='/data/dbs/idxs/HG38' \n",
    "\n",
    "cd /data/sn/Benha\n",
    "\n",
    "for f in *_1.fq\n",
    "do\n",
    "  r=${f/'_trim_1.fq'/'_trim_2.fq'}\n",
    "  uf=${f/'.fq'/'_un.fq'}\n",
    "  ur=${r/'.fq'/'_un.fq'}\n",
    "  bam=${f/'_trim_1.fq'/'_nohuman.bam'}\n",
    "  bowtie2 --very-sensitive-local -p 38 -x $hidx -1 $f -2 $r -U $uf','$ur | \\\n",
    "    samtools view -Sb -f 4 > $bam\n",
    "  f=${bam/'.bam'/'_1.fq'}\n",
    "  r=${bam/'.bam'/'_2.fq'}  \n",
    "  u=${bam/'.bam'/'_3.fq'}\n",
    "  s=${bam/'.bam'/'_s.fq'}\n",
    "  samtools bam2fq -N -1 $f -2 $r -s $s $bam > $u\n",
    "done\n"
   ]
  },
  {
   "cell_type": "code",
   "execution_count": 17,
   "metadata": {},
   "outputs": [
    {
     "name": "stdout",
     "output_type": "stream",
     "text": [
      "total 18G\n",
      "-rw-rw-r-- 1 sn sn 1.3G Oct 24 11:09 SRR11177792.sra\n",
      "-rw-rw-r-- 1 sn sn 3.1G Oct 24 11:13 SRR11177792_1.fastq\n",
      "-rw-rw-r-- 1 sn sn 686K Oct 24 11:40 SRR11177792_1_fastqc.html\n",
      "-rw-rw-r-- 1 sn sn 335K Oct 24 11:40 SRR11177792_1_fastqc.zip\n",
      "-rw-rw-r-- 1 sn sn 3.1G Oct 24 11:13 SRR11177792_2.fastq\n",
      "-rw-rw-r-- 1 sn sn 687K Oct 24 11:40 SRR11177792_2_fastqc.html\n",
      "-rw-rw-r-- 1 sn sn 343K Oct 24 11:40 SRR11177792_2_fastqc.zip\n",
      "-rw-rw-r-- 1 sn sn 1.1G Oct 24 12:07 SRR11177792_nohuman.bam\n",
      "-rw-rw-r-- 1 sn sn 2.2G Oct 24 12:08 SRR11177792_nohuman_1.fq\n",
      "-rw-rw-r-- 1 sn sn 2.2G Oct 24 12:08 SRR11177792_nohuman_2.fq\n",
      "-rw-rw-r-- 1 sn sn 186M Oct 24 12:08 SRR11177792_nohuman_3.fq\n",
      "-rw-rw-r-- 1 sn sn  30K Oct 24 12:08 SRR11177792_nohuman_s.fq\n",
      "-rw-rw-r-- 1 sn sn 2.5G Oct 24 11:51 SRR11177792_trim_1.fq\n",
      "-rw-rw-r-- 1 sn sn 126M Oct 24 11:51 SRR11177792_trim_1_un.fq\n",
      "-rw-rw-r-- 1 sn sn 2.4G Oct 24 11:51 SRR11177792_trim_2.fq\n",
      "-rw-rw-r-- 1 sn sn  89M Oct 24 11:51 SRR11177792_trim_2_un.fq\n",
      "drwxrwxr-x 2 sn sn    7 Oct 24 11:46 multiqc_data\n",
      "-rw-rw-r-- 1 sn sn 1.2M Oct 24 11:46 multiqc_report.html\n"
     ]
    }
   ],
   "source": [
    "%%bash \n",
    "\n",
    "cd /data/sn/Benha\n",
    "\n",
    "ls -lh "
   ]
  },
  {
   "cell_type": "markdown",
   "metadata": {},
   "source": [
    "### Alignment on reference genome"
   ]
  },
  {
   "cell_type": "code",
   "execution_count": 18,
   "metadata": {},
   "outputs": [
    {
     "name": "stderr",
     "output_type": "stream",
     "text": [
      "4943307 reads; of these:\n",
      "  4421950 (89.45%) were paired; of these:\n",
      "    479628 (10.85%) aligned concordantly 0 times\n",
      "    3938624 (89.07%) aligned concordantly exactly 1 time\n",
      "    3698 (0.08%) aligned concordantly >1 times\n",
      "    ----\n",
      "    479628 pairs aligned concordantly 0 times; of these:\n",
      "      478822 (99.83%) aligned discordantly 1 time\n",
      "    ----\n",
      "    806 pairs aligned 0 times concordantly or discordantly; of these:\n",
      "      1612 mates make up the pairs; of these:\n",
      "        154 (9.55%) aligned 0 times\n",
      "        741 (45.97%) aligned exactly 1 time\n",
      "        717 (44.48%) aligned >1 times\n",
      "  521357 (10.55%) were unpaired; of these:\n",
      "    116 (0.02%) aligned 0 times\n",
      "    520678 (99.87%) aligned exactly 1 time\n",
      "    563 (0.11%) aligned >1 times\n",
      "100.00% overall alignment rate\n",
      "[bam_sort_core] merging from 6 files and 1 in-memory blocks...\n"
     ]
    }
   ],
   "source": [
    "%%bash \n",
    "\n",
    "cd /data/sn/Benha\n",
    "\n",
    "export PATH=$PATH:/data/tools/bowtie2-2.4.1-linux-x86_64\n",
    "export PATH=/data/tools/samtools-1.10:$PATH\n",
    "\n",
    "vidx='/data/sn/MN/dat_2020_03_30/NC_045512'\n",
    "\n",
    "for f in *nohuman_1.fq\n",
    "do\n",
    "  r=${f/'_1.fq'/'_2.fq'}\n",
    "  u=${f/'_1.fq'/'_3.fq'}\n",
    "  bam=${f/'_nohuman_1.fq'/'.bam'}\n",
    "  bowtie2 --local -a -p 38 -x $vidx -1 $f -2 $r -U $u | \\\n",
    "    samtools view -Sb -F 4 | \\\n",
    "    samtools sort > $bam\n",
    "  samtools index $bam\n",
    "done\n"
   ]
  },
  {
   "cell_type": "code",
   "execution_count": 20,
   "metadata": {},
   "outputs": [
    {
     "name": "stdout",
     "output_type": "stream",
     "text": [
      "total 19G\n",
      "-rw-rw-r-- 1 sn sn 659M Oct 24 12:58 SRR11177792.bam\n",
      "-rw-rw-r-- 1 sn sn  12K Oct 24 12:58 SRR11177792.bam.bai\n",
      "-rw-rw-r-- 1 sn sn 4.5K Oct 24 14:51 SRR11177792.bam_marked_dup_metrics.txt\n",
      "-rw-rw-r-- 1 sn sn 1.3G Oct 24 11:09 SRR11177792.sra\n",
      "-rw-rw-r-- 1 sn sn 3.1G Oct 24 11:13 SRR11177792_1.fastq\n",
      "-rw-rw-r-- 1 sn sn 686K Oct 24 11:40 SRR11177792_1_fastqc.html\n",
      "-rw-rw-r-- 1 sn sn 335K Oct 24 11:40 SRR11177792_1_fastqc.zip\n",
      "-rw-rw-r-- 1 sn sn 3.1G Oct 24 11:13 SRR11177792_2.fastq\n",
      "-rw-rw-r-- 1 sn sn 687K Oct 24 11:40 SRR11177792_2_fastqc.html\n",
      "-rw-rw-r-- 1 sn sn 343K Oct 24 11:40 SRR11177792_2_fastqc.zip\n",
      "-rw-rw-r-- 1 sn sn 1.1G Oct 24 12:07 SRR11177792_nohuman.bam\n",
      "-rw-rw-r-- 1 sn sn 2.2G Oct 24 12:08 SRR11177792_nohuman_1.fq\n",
      "-rw-rw-r-- 1 sn sn 2.2G Oct 24 12:08 SRR11177792_nohuman_2.fq\n",
      "-rw-rw-r-- 1 sn sn 186M Oct 24 12:08 SRR11177792_nohuman_3.fq\n",
      "-rw-rw-r-- 1 sn sn  30K Oct 24 12:08 SRR11177792_nohuman_s.fq\n",
      "-rw-rw-r-- 1 sn sn 2.5G Oct 24 11:51 SRR11177792_trim_1.fq\n",
      "-rw-rw-r-- 1 sn sn 126M Oct 24 11:51 SRR11177792_trim_1_un.fq\n",
      "-rw-rw-r-- 1 sn sn 2.4G Oct 24 11:51 SRR11177792_trim_2.fq\n",
      "-rw-rw-r-- 1 sn sn  89M Oct 24 11:51 SRR11177792_trim_2_un.fq\n",
      "drwxrwxr-x 2 sn sn    7 Oct 24 11:46 multiqc_data\n",
      "-rw-rw-r-- 1 sn sn 1.2M Oct 24 11:46 multiqc_report.html\n"
     ]
    }
   ],
   "source": [
    "%%bash \n",
    "\n",
    "cd /data/sn/Benha\n",
    "\n",
    "ls -lh "
   ]
  },
  {
   "cell_type": "markdown",
   "metadata": {},
   "source": [
    "#### Deduplication"
   ]
  },
  {
   "cell_type": "code",
   "execution_count": 21,
   "metadata": {},
   "outputs": [
    {
     "name": "stderr",
     "output_type": "stream",
     "text": [
      "INFO\t2020-10-24 14:54:02\tMarkDuplicates\t\n",
      "\n",
      "********** NOTE: Picard's command line syntax is changing.\n",
      "**********\n",
      "********** For more information, please see:\n",
      "********** https://github.com/broadinstitute/picard/wiki/Command-Line-Syntax-Transition-For-Users-(Pre-Transition)\n",
      "**********\n",
      "********** The command line looks like this in the new syntax:\n",
      "**********\n",
      "**********    MarkDuplicates -I SRR11177792.bam -O SRR11177792_dep.bam -REMOVE_DUPLICATES true -M SRR11177792.bam_marked_dup_metrics.txt\n",
      "**********\n",
      "\n",
      "\n",
      "14:54:02.452 INFO  NativeLibraryLoader - Loading libgkl_compression.so from jar:file:/data/tools/picard/picard.jar!/com/intel/gkl/native/libgkl_compression.so\n",
      "[Sat Oct 24 14:54:02 CEST 2020] MarkDuplicates INPUT=[SRR11177792.bam] OUTPUT=SRR11177792_dep.bam METRICS_FILE=SRR11177792.bam_marked_dup_metrics.txt REMOVE_DUPLICATES=true    MAX_SEQUENCES_FOR_DISK_READ_ENDS_MAP=50000 MAX_FILE_HANDLES_FOR_READ_ENDS_MAP=8000 SORTING_COLLECTION_SIZE_RATIO=0.25 TAG_DUPLICATE_SET_MEMBERS=false REMOVE_SEQUENCING_DUPLICATES=false TAGGING_POLICY=DontTag CLEAR_DT=true DUPLEX_UMI=false ADD_PG_TAG_TO_READS=true ASSUME_SORTED=false DUPLICATE_SCORING_STRATEGY=SUM_OF_BASE_QUALITIES PROGRAM_RECORD_ID=MarkDuplicates PROGRAM_GROUP_NAME=MarkDuplicates READ_NAME_REGEX=<optimized capture of last three ':' separated fields as numeric values> OPTICAL_DUPLICATE_PIXEL_DISTANCE=100 MAX_OPTICAL_DUPLICATE_SET_SIZE=300000 VERBOSITY=INFO QUIET=false VALIDATION_STRINGENCY=STRICT COMPRESSION_LEVEL=5 MAX_RECORDS_IN_RAM=500000 CREATE_INDEX=false CREATE_MD5_FILE=false GA4GH_CLIENT_SECRETS=client_secrets.json USE_JDK_DEFLATER=false USE_JDK_INFLATER=false\n",
      "[Sat Oct 24 14:54:02 CEST 2020] Executing as sn@bioinfsrv on Linux 4.15.0-118-generic amd64; Java HotSpot(TM) 64-Bit Server VM 12.0.2+10; Deflater: Intel; Inflater: Intel; Provider GCS is not available; Picard version: 2.22.2\n",
      "INFO\t2020-10-24 14:54:02\tMarkDuplicates\tStart of doWork freeMemory: 175299552; totalMemory: 184549376; maxMemory: 32178700288\n",
      "INFO\t2020-10-24 14:54:02\tMarkDuplicates\tReading input file and constructing read end information.\n",
      "INFO\t2020-10-24 14:54:02\tMarkDuplicates\tWill retain up to 116589493 data points before spilling to disk.\n",
      "WARNING\t2020-10-24 14:54:03\tAbstractOpticalDuplicateFinderCommandLineProgram\tA field field parsed out of a read name was expected to contain an integer and did not. Read name: SRR11177792.960345. Cause: String 'SRR11177792.960345' did not start with a parsable number.\n",
      "INFO\t2020-10-24 14:54:09\tMarkDuplicates\tRead     1,000,000 records.  Elapsed time: 00:00:06s.  Time for last 1,000,000:    6s.  Last read position: NC_045512.2:2,654\n",
      "INFO\t2020-10-24 14:54:09\tMarkDuplicates\tTracking 25761 as yet unmatched pairs. 25761 records in RAM.\n",
      "INFO\t2020-10-24 14:54:15\tMarkDuplicates\tRead     2,000,000 records.  Elapsed time: 00:00:12s.  Time for last 1,000,000:    5s.  Last read position: NC_045512.2:5,226\n",
      "INFO\t2020-10-24 14:54:15\tMarkDuplicates\tTracking 23323 as yet unmatched pairs. 23323 records in RAM.\n",
      "INFO\t2020-10-24 14:54:21\tMarkDuplicates\tRead     3,000,000 records.  Elapsed time: 00:00:18s.  Time for last 1,000,000:    5s.  Last read position: NC_045512.2:8,831\n",
      "INFO\t2020-10-24 14:54:21\tMarkDuplicates\tTracking 19838 as yet unmatched pairs. 19838 records in RAM.\n",
      "INFO\t2020-10-24 14:54:26\tMarkDuplicates\tRead     4,000,000 records.  Elapsed time: 00:00:23s.  Time for last 1,000,000:    5s.  Last read position: NC_045512.2:11,831\n",
      "INFO\t2020-10-24 14:54:26\tMarkDuplicates\tTracking 1438 as yet unmatched pairs. 1438 records in RAM.\n",
      "INFO\t2020-10-24 14:54:32\tMarkDuplicates\tRead     5,000,000 records.  Elapsed time: 00:00:29s.  Time for last 1,000,000:    5s.  Last read position: NC_045512.2:14,694\n",
      "INFO\t2020-10-24 14:54:32\tMarkDuplicates\tTracking 13722 as yet unmatched pairs. 13722 records in RAM.\n",
      "INFO\t2020-10-24 14:54:37\tMarkDuplicates\tRead     6,000,000 records.  Elapsed time: 00:00:34s.  Time for last 1,000,000:    5s.  Last read position: NC_045512.2:17,436\n",
      "INFO\t2020-10-24 14:54:37\tMarkDuplicates\tTracking 19908 as yet unmatched pairs. 19908 records in RAM.\n",
      "INFO\t2020-10-24 14:54:42\tMarkDuplicates\tRead     7,000,000 records.  Elapsed time: 00:00:39s.  Time for last 1,000,000:    5s.  Last read position: NC_045512.2:20,724\n",
      "INFO\t2020-10-24 14:54:42\tMarkDuplicates\tTracking 8854 as yet unmatched pairs. 8854 records in RAM.\n",
      "INFO\t2020-10-24 14:54:47\tMarkDuplicates\tRead     8,000,000 records.  Elapsed time: 00:00:44s.  Time for last 1,000,000:    5s.  Last read position: NC_045512.2:24,649\n",
      "INFO\t2020-10-24 14:54:47\tMarkDuplicates\tTracking 18596 as yet unmatched pairs. 18596 records in RAM.\n",
      "INFO\t2020-10-24 14:54:53\tMarkDuplicates\tRead     9,000,000 records.  Elapsed time: 00:00:50s.  Time for last 1,000,000:    5s.  Last read position: NC_045512.2:28,531\n",
      "INFO\t2020-10-24 14:54:53\tMarkDuplicates\tTracking 20654 as yet unmatched pairs. 20654 records in RAM.\n",
      "INFO\t2020-10-24 14:54:55\tMarkDuplicates\tRead 9373879 records. 0 pairs never matched.\n",
      "INFO\t2020-10-24 14:54:55\tMarkDuplicates\tAfter buildSortedReadEndLists freeMemory: 3576474792; totalMemory: 5519704064; maxMemory: 32178700288\n",
      "INFO\t2020-10-24 14:54:55\tMarkDuplicates\tWill retain up to 1005584384 duplicate indices before spilling to disk.\n",
      "INFO\t2020-10-24 14:55:00\tMarkDuplicates\tTraversing read pair information and detecting duplicates.\n",
      "INFO\t2020-10-24 14:55:02\tMarkDuplicates\tTraversing fragment information and detecting duplicates.\n",
      "INFO\t2020-10-24 14:55:04\tMarkDuplicates\tSorting list of duplicate records.\n",
      "INFO\t2020-10-24 14:55:04\tMarkDuplicates\tAfter generateDuplicateIndexes freeMemory: 8690719336; totalMemory: 16752050176; maxMemory: 32178700288\n",
      "INFO\t2020-10-24 14:55:04\tMarkDuplicates\tMarking 5781610 records as duplicates.\n",
      "INFO\t2020-10-24 14:55:04\tMarkDuplicates\tFound 0 optical duplicate clusters.\n",
      "INFO\t2020-10-24 14:55:04\tMarkDuplicates\tReads are assumed to be ordered by: coordinate\n",
      "INFO\t2020-10-24 14:56:08\tMarkDuplicates\tWriting complete. Closing input iterator.\n",
      "INFO\t2020-10-24 14:56:08\tMarkDuplicates\tDuplicate Index cleanup.\n",
      "INFO\t2020-10-24 14:56:08\tMarkDuplicates\tGetting Memory Stats.\n",
      "INFO\t2020-10-24 14:56:09\tMarkDuplicates\tBefore output close freeMemory: 196932960; totalMemory: 209715200; maxMemory: 32178700288\n",
      "INFO\t2020-10-24 14:56:09\tMarkDuplicates\tClosed outputs. Getting more Memory Stats.\n",
      "INFO\t2020-10-24 14:56:09\tMarkDuplicates\tAfter output close freeMemory: 72279336; totalMemory: 83886080; maxMemory: 32178700288\n",
      "[Sat Oct 24 14:56:09 CEST 2020] picard.sam.markduplicates.MarkDuplicates done. Elapsed time: 2.11 minutes.\n",
      "Runtime.totalMemory()=83886080\n"
     ]
    }
   ],
   "source": [
    "%%bash \n",
    "\n",
    "cd /data/sn/Benha\n",
    "\n",
    "picard='/data/tools/picard/picard.jar'\n",
    "\n",
    "for f in *.bai\n",
    "do\n",
    "  ibam=${f/'.bai'/''}  \n",
    "  obam=${ibam/'.bam'/'_dep.bam'}\n",
    "  java -jar $picard MarkDuplicates \\\n",
    "    I=$ibam \\\n",
    "    O=$obam \\\n",
    "    REMOVE_DUPLICATES=true \\\n",
    "    M=$ibam'_marked_dup_metrics.txt'\n",
    "done\n"
   ]
  },
  {
   "cell_type": "code",
   "execution_count": 22,
   "metadata": {},
   "outputs": [
    {
     "name": "stdout",
     "output_type": "stream",
     "text": [
      "total 19G\n",
      "-rw-rw-r-- 1 sn sn 659M Oct 24 12:58 SRR11177792.bam\n",
      "-rw-rw-r-- 1 sn sn  12K Oct 24 12:58 SRR11177792.bam.bai\n",
      "-rw-rw-r-- 1 sn sn 4.5K Oct 24 14:56 SRR11177792.bam_marked_dup_metrics.txt\n",
      "-rw-rw-r-- 1 sn sn 1.3G Oct 24 11:09 SRR11177792.sra\n",
      "-rw-rw-r-- 1 sn sn 3.1G Oct 24 11:13 SRR11177792_1.fastq\n",
      "-rw-rw-r-- 1 sn sn 686K Oct 24 11:40 SRR11177792_1_fastqc.html\n",
      "-rw-rw-r-- 1 sn sn 335K Oct 24 11:40 SRR11177792_1_fastqc.zip\n",
      "-rw-rw-r-- 1 sn sn 3.1G Oct 24 11:13 SRR11177792_2.fastq\n",
      "-rw-rw-r-- 1 sn sn 687K Oct 24 11:40 SRR11177792_2_fastqc.html\n",
      "-rw-rw-r-- 1 sn sn 343K Oct 24 11:40 SRR11177792_2_fastqc.zip\n",
      "-rw-rw-r-- 1 sn sn 251M Oct 24 14:56 SRR11177792_dep.bam\n",
      "-rw-rw-r-- 1 sn sn 1.1G Oct 24 12:07 SRR11177792_nohuman.bam\n",
      "-rw-rw-r-- 1 sn sn 2.2G Oct 24 12:08 SRR11177792_nohuman_1.fq\n",
      "-rw-rw-r-- 1 sn sn 2.2G Oct 24 12:08 SRR11177792_nohuman_2.fq\n",
      "-rw-rw-r-- 1 sn sn 186M Oct 24 12:08 SRR11177792_nohuman_3.fq\n",
      "-rw-rw-r-- 1 sn sn  30K Oct 24 12:08 SRR11177792_nohuman_s.fq\n",
      "-rw-rw-r-- 1 sn sn 2.5G Oct 24 11:51 SRR11177792_trim_1.fq\n",
      "-rw-rw-r-- 1 sn sn 126M Oct 24 11:51 SRR11177792_trim_1_un.fq\n",
      "-rw-rw-r-- 1 sn sn 2.4G Oct 24 11:51 SRR11177792_trim_2.fq\n",
      "-rw-rw-r-- 1 sn sn  89M Oct 24 11:51 SRR11177792_trim_2_un.fq\n",
      "drwxrwxr-x 2 sn sn    7 Oct 24 11:46 multiqc_data\n",
      "-rw-rw-r-- 1 sn sn 1.2M Oct 24 11:46 multiqc_report.html\n"
     ]
    }
   ],
   "source": [
    "%%bash \n",
    "\n",
    "cd /data/sn/Benha\n",
    "\n",
    "ls -lh"
   ]
  },
  {
   "cell_type": "markdown",
   "metadata": {},
   "source": [
    "### Variant calling"
   ]
  },
  {
   "cell_type": "code",
   "execution_count": 1,
   "metadata": {},
   "outputs": [
    {
     "name": "stdout",
     "output_type": "stream",
     "text": [
      "##INFO=<ID=ICB,Number=1,Type=Float,Description=\"Inbreeding Coefficient Binomial test (bigger is better)\">\n",
      "##INFO=<ID=HOB,Number=1,Type=Float,Description=\"Bias in the number of HOMs number (smaller is better)\">\n",
      "##INFO=<ID=AC,Number=A,Type=Integer,Description=\"Allele count in genotypes for each ALT allele, in the same order as listed\">\n",
      "##INFO=<ID=AN,Number=1,Type=Integer,Description=\"Total number of alleles in called genotypes\">\n",
      "##INFO=<ID=DP4,Number=4,Type=Integer,Description=\"Number of high-quality ref-forward , ref-reverse, alt-forward and alt-reverse bases\">\n",
      "##INFO=<ID=MQ,Number=1,Type=Integer,Description=\"Average mapping quality\">\n",
      "##bcftools_callVersion=1.9-20-g34a5b0d+htslib-1.9-14-gf35b9ca\n",
      "##bcftools_callCommand=call --ploidy 1 -mv -Oz -o calls.vcf.gz; Date=Sun Oct 25 11:19:59 2020\n",
      "#CHROM\tPOS\tID\tREF\tALT\tQUAL\tFILTER\tINFO\tFORMAT\tSRR11177792_dep.bam\n",
      "NC_045512.2\t24034\t.\tC\tT\t23.7151\t.\tDP=249;VDB=1.93411e-19;SGB=-0.693147;RPB=4.83235e-33;MQB=0.997289;MQSB=0.999404;BQB=0.501918;MQ0F=0;AC=1;AN=1;DP4=64,12,160,10;MQ=20\tGT:PL\t1:51,0\n"
     ]
    },
    {
     "name": "stderr",
     "output_type": "stream",
     "text": [
      "[mpileup] 1 samples in 1 input files\n",
      "gzip: calls.vcf already exists;\tnot overwritten\n"
     ]
    }
   ],
   "source": [
    "%%bash \n",
    "\n",
    "cd /data/sn/Benha\n",
    "\n",
    "vfa='/data/sn/MN/dat_2020_03_30/NC_045512.fa'\n",
    "\n",
    "bcftools mpileup -Ou -f $vfa SRR11177792_dep.bam | \\\n",
    "bcftools call --ploidy 1 -mv -Oz -o calls.vcf.gz\n",
    "\n",
    "gunzip calls.vcf.gz\n",
    "\n",
    "tail calls.vcf"
   ]
  },
  {
   "cell_type": "code",
   "execution_count": 1,
   "metadata": {},
   "outputs": [],
   "source": [
    "%%bash \n",
    "\n",
    "cd /data/sn/Benha\n",
    "\n",
    "export PATH=/data/tools/samtools-1.10:$PATH\n",
    "\n",
    "samtools index SRR11177792_dep.bam"
   ]
  },
  {
   "cell_type": "code",
   "execution_count": 8,
   "metadata": {},
   "outputs": [
    {
     "data": {
      "image/png": "[encoded data removed]",
      "text/plain": [
       "plot without title"
      ]
     },
     "metadata": {
      "image/png": {
       "height": 360,
       "width": 1080
      }
     },
     "output_type": "display_data"
    }
   ],
   "source": [
    "library(rentrez)\n",
    "library(seqinr)\n",
    "library(Gviz)\n",
    "library(Rsamtools)\n",
    "library(repr)\n",
    "\n",
    "options(repr.plot.width=18, repr.plot.height=6)\n",
    "\n",
    "options(ucscChromosomeNames=FALSE)\n",
    "\n",
    "setwd('/data/sn/Benha')\n",
    "\n",
    "chr = 'NC_045512.2'\n",
    "ref = readDNAStringSet('/data/sn/MN/dat_2020_03_30/NC_045512.fa')\n",
    "names(ref) = chr \n",
    "\n",
    "tengely.track = GenomeAxisTrack()\n",
    "szekvencia.track = SequenceTrack(ref)\n",
    "\n",
    "bam='SRR11177792_dep.bam'\n",
    "\n",
    "illesztes.track = AlignmentsTrack(bam, start=24000, end=24064)\n",
    "plotTracks(\n",
    "    trackList = list(tengely.track, illesztes.track, szekvencia.track), \n",
    "    type = c('coverage', 'pileup'), chromosome=chr, from=24000, to=24064\n",
    ") \n"
   ]
  },
  {
   "cell_type": "markdown",
   "metadata": {},
   "source": [
    "### Consensus sequence construction"
   ]
  },
  {
   "cell_type": "code",
   "execution_count": 5,
   "metadata": {},
   "outputs": [
    {
     "name": "stderr",
     "output_type": "stream",
     "text": [
      "Note: the --sample option not given, applying all records regardless of the genotype\n"
     ]
    }
   ],
   "source": [
    "%%bash \n",
    "\n",
    "cd /data/sn/Benha\n",
    "\n",
    "export PATH=$PATH:/data/tools/htslib\n",
    "export PATH=/data/tools/samtools-1.10:$PATH\n",
    "\n",
    "vfa='/data/sn/MN/dat_2020_03_30/NC_045512.fa'\n",
    "\n",
    "for f in *.vcf\n",
    "do  \n",
    "  fa=${f/'.vcf'/'.fa'}\n",
    "  bgzip $f\n",
    "  bcftools index $f'.gz'\n",
    "  bcftools consensus -f $vfa $f'.gz' > $fa\n",
    "done\n"
   ]
  },
  {
   "cell_type": "code",
   "execution_count": 6,
   "metadata": {},
   "outputs": [
    {
     "name": "stdout",
     "output_type": "stream",
     "text": [
      "total 20G\n",
      "-rw-rw-r-- 1 sn sn 659M Oct 24 12:58 SRR11177792.bam\n",
      "-rw-rw-r-- 1 sn sn  12K Oct 24 12:58 SRR11177792.bam.bai\n",
      "-rw-rw-r-- 1 sn sn 4.5K Oct 24 14:56 SRR11177792.bam_marked_dup_metrics.txt\n",
      "-rw-rw-r-- 1 sn sn 1.3G Oct 24 11:09 SRR11177792.sra\n",
      "-rw-rw-r-- 1 sn sn 3.1G Oct 24 11:13 SRR11177792_1.fastq\n",
      "-rw-rw-r-- 1 sn sn 686K Oct 24 11:40 SRR11177792_1_fastqc.html\n",
      "-rw-rw-r-- 1 sn sn 335K Oct 24 11:40 SRR11177792_1_fastqc.zip\n",
      "-rw-rw-r-- 1 sn sn 3.1G Oct 24 11:13 SRR11177792_2.fastq\n",
      "-rw-rw-r-- 1 sn sn 687K Oct 24 11:40 SRR11177792_2_fastqc.html\n",
      "-rw-rw-r-- 1 sn sn 343K Oct 24 11:40 SRR11177792_2_fastqc.zip\n",
      "-rw-rw-r-- 1 sn sn 251M Oct 24 14:56 SRR11177792_dep.bam\n",
      "-rw-rw-r-- 1 sn sn 1.2G Oct 24 15:05 SRR11177792_dep.pileup\n",
      "-rw-rw-r-- 1 sn sn 1.1G Oct 24 12:07 SRR11177792_nohuman.bam\n",
      "-rw-rw-r-- 1 sn sn 2.2G Oct 24 12:08 SRR11177792_nohuman_1.fq\n",
      "-rw-rw-r-- 1 sn sn 2.2G Oct 24 12:08 SRR11177792_nohuman_2.fq\n",
      "-rw-rw-r-- 1 sn sn 186M Oct 24 12:08 SRR11177792_nohuman_3.fq\n",
      "-rw-rw-r-- 1 sn sn  30K Oct 24 12:08 SRR11177792_nohuman_s.fq\n",
      "-rw-rw-r-- 1 sn sn 2.5G Oct 24 11:51 SRR11177792_trim_1.fq\n",
      "-rw-rw-r-- 1 sn sn 126M Oct 24 11:51 SRR11177792_trim_1_un.fq\n",
      "-rw-rw-r-- 1 sn sn 2.4G Oct 24 11:51 SRR11177792_trim_2.fq\n",
      "-rw-rw-r-- 1 sn sn  89M Oct 24 11:51 SRR11177792_trim_2_un.fq\n",
      "-rw-rw-r-- 1 sn sn  30K Oct 25 12:00 calls.fa\n",
      "-rw-rw-r-- 1 sn sn 1.1K Oct 25 12:00 calls.vcf.gz\n",
      "-rw-rw-r-- 1 sn sn  123 Oct 25 12:00 calls.vcf.gz.csi\n",
      "drwxrwxr-x 3 sn sn   44 Oct 25 06:34 honey_bee\n",
      "drwxrwxr-x 3 sn sn    8 Oct 24 15:32 megahit_SRR11177792\n",
      "drwxrwxr-x 2 sn sn    7 Oct 24 11:46 multiqc_data\n",
      "-rw-rw-r-- 1 sn sn 1.2M Oct 24 11:46 multiqc_report.html\n",
      "drwxrwxr-x 4 sn sn   19 Oct 25 09:27 resistome\n"
     ]
    }
   ],
   "source": [
    "%%bash \n",
    "\n",
    "cd /data/sn/Benha\n",
    "\n",
    "ls -lh"
   ]
  },
  {
   "cell_type": "code",
   "execution_count": 7,
   "metadata": {},
   "outputs": [
    {
     "name": "stdout",
     "output_type": "stream",
     "text": [
      ">NC_045512.2 Severe acute respiratory syndrome coronavirus 2 isolate Wuhan-Hu-1, complete genome\n",
      "ATTAAAGGTTTATACCTTCCCAGGTAACAAACCAACCAACTTTCGATCTCTTGTAGATCT\n",
      "GTTCTCTAAACGAACTTTAAAATCTGTGTGGCTGTCACTCGGCTGCATGCTTAGTGCACT\n",
      "CACGCAGTATAATTAATAACTAATTACTGTCGTTGACAGGACACGAGTAACTCGTCTATC\n",
      "TTCTGCAGGCTGCTTACGGTTTCGTCCGTGTTGCAGCCGATCATCAGCACATCTAGGTTT\n",
      "CGTCCGGGTGTGACCGAAAGGTAAGATGGAGAGCCTTGTCCCTGGTTTCAACGAGAAAAC\n",
      "ACACGTCCAACTCAGTTTGCCTGTTTTACAGGTTCGCGACGTGCTCGTACGTGGCTTTGG\n",
      "AGACTCCGTGGAGGAGGTCTTATCAGAGGCACGTCAACATCTTAAAGATGGCACTTGTGG\n",
      "CTTAGTAGAAGTTGAAAAAGGCGTTTTGCCTCAACTTGAACAGCCCTATGTGTTCATCAA\n",
      "ACGTTCGGATGCTCGAACTGCACCTCATGGTCATGTTATGGTTGAGCTGGTAGCAGAACT\n"
     ]
    }
   ],
   "source": [
    "%%bash \n",
    "\n",
    "cd /data/sn/Benha\n",
    "\n",
    "head calls.fa"
   ]
  },
  {
   "cell_type": "markdown",
   "metadata": {},
   "source": [
    "## SARS-CoV-2 genome de novo assembly\n"
   ]
  },
  {
   "cell_type": "code",
   "execution_count": 33,
   "metadata": {},
   "outputs": [
    {
     "name": "stderr",
     "output_type": "stream",
     "text": [
      "2020-10-24 15:15:02 - MEGAHIT v1.2.9\n",
      "2020-10-24 15:15:02 - Using megahit_core with POPCNT and BMI2 support\n",
      "2020-10-24 15:15:02 - Convert reads to binary library\n",
      "2020-10-24 15:16:24 - INFO  sequence/io/sequence_lib.cpp  :   77 - Lib 0 (/data/sn/Benha/SRR11177792_trim_1.fq,/data/sn/Benha/SRR11177792_trim_2.fq): pe, 8847764 reads, 301 max length\n",
      "2020-10-24 15:16:24 - INFO  utils/utils.h                 :  152 - Real: 81.7150\tuser: 89.1210\tsys: 3.8315\tmaxrss: 249352\n",
      "2020-10-24 15:16:24 - k-max reset to: 141 \n",
      "2020-10-24 15:16:24 - Start assembly. Number of CPU threads 38 \n",
      "2020-10-24 15:16:24 - k list: 21,29,39,59,79,99,119,141 \n",
      "2020-10-24 15:16:24 - Memory used: 243343956787\n",
      "2020-10-24 15:16:24 - Extract solid (k+1)-mers for k = 21 \n",
      "2020-10-24 15:19:42 - Build graph for k = 21 \n",
      "2020-10-24 15:19:45 - Assemble contigs from SdBG for k = 21\n",
      "2020-10-24 15:19:53 - Local assembly for k = 21\n",
      "2020-10-24 15:20:43 - Extract iterative edges from k = 21 to 29 \n",
      "2020-10-24 15:21:48 - Build graph for k = 29 \n",
      "2020-10-24 15:21:49 - Assemble contigs from SdBG for k = 29\n",
      "2020-10-24 15:21:49 - Local assembly for k = 29\n",
      "2020-10-24 15:22:38 - Extract iterative edges from k = 29 to 39 \n",
      "2020-10-24 15:23:43 - Build graph for k = 39 \n",
      "2020-10-24 15:23:43 - Assemble contigs from SdBG for k = 39\n",
      "2020-10-24 15:23:44 - Local assembly for k = 39\n",
      "2020-10-24 15:24:33 - Extract iterative edges from k = 39 to 59 \n",
      "2020-10-24 15:25:36 - Build graph for k = 59 \n",
      "2020-10-24 15:25:36 - Assemble contigs from SdBG for k = 59\n",
      "2020-10-24 15:25:37 - Local assembly for k = 59\n",
      "2020-10-24 15:26:26 - Extract iterative edges from k = 59 to 79 \n",
      "2020-10-24 15:27:22 - Build graph for k = 79 \n",
      "2020-10-24 15:27:22 - Assemble contigs from SdBG for k = 79\n",
      "2020-10-24 15:27:23 - Local assembly for k = 79\n",
      "2020-10-24 15:28:12 - Extract iterative edges from k = 79 to 99 \n",
      "2020-10-24 15:29:10 - Build graph for k = 99 \n",
      "2020-10-24 15:29:11 - Assemble contigs from SdBG for k = 99\n",
      "2020-10-24 15:29:11 - Local assembly for k = 99\n",
      "2020-10-24 15:30:00 - Extract iterative edges from k = 99 to 119 \n",
      "2020-10-24 15:30:54 - Build graph for k = 119 \n",
      "2020-10-24 15:30:54 - Assemble contigs from SdBG for k = 119\n",
      "2020-10-24 15:30:55 - Local assembly for k = 119\n",
      "2020-10-24 15:31:44 - Extract iterative edges from k = 119 to 141 \n",
      "2020-10-24 15:32:31 - Build graph for k = 141 \n",
      "2020-10-24 15:32:32 - Assemble contigs from SdBG for k = 141\n",
      "2020-10-24 15:32:32 - Merging to output final contigs \n",
      "2020-10-24 15:32:32 - 54 contigs, total 69317 bp, min 276 bp, max 29885 bp, avg 1283 bp, N50 2755 bp\n",
      "2020-10-24 15:32:32 - ALL DONE. Time elapsed: 1050.102508 seconds \n"
     ]
    }
   ],
   "source": [
    "%%bash \n",
    "\n",
    "cd /data/sn/Benha\n",
    "\n",
    "export PATH=/data/tools/megahit/build:$PATH\n",
    "\n",
    "for f in *_trim_1.fq\n",
    "do  \n",
    "  r=${f/'_1'/'_2'}\n",
    "  o=${f/'_trim_1.fq'/''}\n",
    "  d=\"megahit_\"$o\n",
    "  if [ ! -d $d ] \n",
    "  then\n",
    "    megahit -t 38 -1 $f -2 $r -o $d\n",
    "  fi\n",
    "done\n"
   ]
  },
  {
   "cell_type": "code",
   "execution_count": 3,
   "metadata": {},
   "outputs": [
    {
     "name": "stdout",
     "output_type": "stream",
     "text": [
      ">k141_0 flag=1 multi=2.0000 len=329\n",
      "CTATGTTTTCTGCCACTCACCCCCCAGATGGGAACACGCTGTCTGACAAACAGAGTACTTAATGTTCTGTTTGTTGAAATCATTTCTCAATCACCCTCACCCCTCCCTACCTTTCAAGTGTTCTAGTTAATGCAGAAACATCCCGTTTCTTTCCATTGAGGAAACCAAGTGACCCCAACATTCCATAGACCTATTCTTGTCCTACTTTCAAAAAAAAACAGCTCTTCCTGCTGACCGCCTGCCTATAATAAGTCATAGCTTAGTTAGTAGATCTGAATGTCCTAGTTAGAGATAAGTTGGCTGAAGCACAGTACATCTACGTGTAGAAT\n",
      ">k141_20 flag=0 multi=1.0000 len=276\n",
      "ACTCAAATGGAATCATGAAATGGAATGAAATGGAATGATCGAATGAACTCGAATGGAATCAACATCTAATGGAATCAGATGGAATCATCGAATGGACTAGAATGGAATCATCAAATGGACTCCAAAGCAATCATCAAATGGACTTGAGTGGAATCATCATCGAATGGAATCAAATGGAATCATCATCGAATGGAATCAAATGGAATCATCGAATGGACCCGAATGGAATCAACGTCGAATGGAATCGAATGGAATCATCATCGAATGGAATGTAAT\n",
      ">k141_12 flag=1 multi=3.0000 len=358\n",
      "GACAGTAGGAGGTCTAGTCAATGCTCTGCTTGGCCCCGCACTGGAAAAGCTTTCAGCAGCAATAAGATAAACGCCATCTTTAGCAGCACCCTTAGAACAGGTGAGTGCATCAACAAGCTCATACCGGAGAGGAAGGAAGTCTGGATGAACACCACACACACAGCAAGAGGAATGGGCTGTACCAGTTGACAGGAACCCTTAGAGAGTGTGCCGTTGAATTACGATTTCCAAGAGAAGAGGGCTACAGCAGAAGATGGATGGTGCGATGTAAAACAAATGTTTCTGAGCAACAGAATGCGCCCAAAGCCACCTTAGGACCTCCACCAAGACTGGAATCAGAGGGAGGGAGGATTAAAAG\n",
      ">k141_8 flag=1 multi=3.0000 len=328\n",
      "CTTCAACTCGAGTCAGATTTCACCGGGATGAAGTTTATATTGACAGCTCTGGGAATCTTGAGGTTGGCCATGTCATCAGGTAAATGACTTCTCCTTAAGGATCCTAGGAAAGGAGACTGCACAGTTCCTCTGAGGTGCTTACCTGGAGGAGGGTATAGAGAATACGGAGAGGCTCAGCAGAGAGAAGCCACAGAAATGATTGAGCTATTTGGAAAACAAGACCTATGTGGAAAGATTTAAAAACACTTATGCACCAAAAAAGAAGACTGACAGAGAAATTTAACAGTGGTACTTGAGGGCAGAGCACATGTTTCATAGAATATCATAA\n",
      ">k141_33 flag=1 multi=2.0000 len=340\n",
      "GGGAGAATGGAACCAAGTTGGAAAACACTCTGCAGGATATTATGCAGGAGAACTTCCCCAATCTAGCAAGGCAGGCCAACATTCAGATTCAGGAAATACAGAAAACGCCACAAAGATACTCCTCGAGAAGAGCAACTCCAAGACACATAATTGTCAGATTCACCAAAGTAGAAATGAAGGAAAAAATATTAAGGGCAGCGAGAGAGGAAGGTCGGGTTACCCACAAAGGGAAGCCTATCAGACTAACAGCAGATCTCTCAGCAGAAACTCTACAAGCCAGAAGAGAGTGGGGGCCGATATTCAACATTCTTAAAGAAAAGAATTTTCAACCCAGAATTTC\n"
     ]
    }
   ],
   "source": [
    "%%bash\n",
    "\n",
    "cd /data/sn/Benha\n",
    "\n",
    "head megahit_SRR11177792/final.contigs.fa"
   ]
  },
  {
   "cell_type": "markdown",
   "metadata": {},
   "source": [
    "## Honey bee gut metagenome"
   ]
  },
  {
   "cell_type": "code",
   "execution_count": 34,
   "metadata": {},
   "outputs": [
    {
     "name": "stdout",
     "output_type": "stream",
     "text": [
      "total 1.3G\n",
      "-rw-rw-r-- 1 sn sn 303M Oct 25 05:49 strong01.fastq\n",
      "-rw-rw-r-- 1 sn sn 285M Oct 25 05:49 strong02.fastq\n",
      "-rw-rw-r-- 1 sn sn 326M Oct 25 05:49 weak01.fastq\n",
      "-rw-rw-r-- 1 sn sn 332M Oct 25 05:49 weak02.fastq\n"
     ]
    }
   ],
   "source": [
    "%%bash\n",
    "\n",
    "cd /data/sn/Benha/honey_bee\n",
    "\n",
    "ls -lh"
   ]
  },
  {
   "cell_type": "code",
   "execution_count": 35,
   "metadata": {},
   "outputs": [
    {
     "name": "stdout",
     "output_type": "stream",
     "text": [
      "Analysis complete for strong01.fastq\n",
      "Analysis complete for strong02.fastq\n",
      "Analysis complete for weak01.fastq\n",
      "Analysis complete for weak02.fastq\n"
     ]
    },
    {
     "name": "stderr",
     "output_type": "stream",
     "text": [
      "Started analysis of strong01.fastq\n",
      "Approx 5% complete for strong01.fastq\n",
      "Approx 10% complete for strong01.fastq\n",
      "Approx 15% complete for strong01.fastq\n",
      "Approx 20% complete for strong01.fastq\n",
      "Approx 25% complete for strong01.fastq\n",
      "Approx 30% complete for strong01.fastq\n",
      "Approx 35% complete for strong01.fastq\n",
      "Approx 40% complete for strong01.fastq\n",
      "Approx 45% complete for strong01.fastq\n",
      "Approx 50% complete for strong01.fastq\n",
      "Approx 55% complete for strong01.fastq\n",
      "Approx 60% complete for strong01.fastq\n",
      "Approx 65% complete for strong01.fastq\n",
      "Approx 70% complete for strong01.fastq\n",
      "Approx 75% complete for strong01.fastq\n",
      "Approx 80% complete for strong01.fastq\n",
      "Approx 85% complete for strong01.fastq\n",
      "Approx 90% complete for strong01.fastq\n",
      "Approx 95% complete for strong01.fastq\n",
      "Started analysis of strong02.fastq\n",
      "Approx 5% complete for strong02.fastq\n",
      "Approx 10% complete for strong02.fastq\n",
      "Approx 15% complete for strong02.fastq\n",
      "Approx 20% complete for strong02.fastq\n",
      "Approx 25% complete for strong02.fastq\n",
      "Approx 30% complete for strong02.fastq\n",
      "Approx 35% complete for strong02.fastq\n",
      "Approx 40% complete for strong02.fastq\n",
      "Approx 45% complete for strong02.fastq\n",
      "Approx 50% complete for strong02.fastq\n",
      "Approx 55% complete for strong02.fastq\n",
      "Approx 60% complete for strong02.fastq\n",
      "Approx 65% complete for strong02.fastq\n",
      "Approx 70% complete for strong02.fastq\n",
      "Approx 75% complete for strong02.fastq\n",
      "Approx 80% complete for strong02.fastq\n",
      "Approx 85% complete for strong02.fastq\n",
      "Approx 90% complete for strong02.fastq\n",
      "Approx 95% complete for strong02.fastq\n",
      "Started analysis of weak01.fastq\n",
      "Approx 5% complete for weak01.fastq\n",
      "Approx 10% complete for weak01.fastq\n",
      "Approx 15% complete for weak01.fastq\n",
      "Approx 20% complete for weak01.fastq\n",
      "Approx 25% complete for weak01.fastq\n",
      "Approx 30% complete for weak01.fastq\n",
      "Approx 35% complete for weak01.fastq\n",
      "Approx 40% complete for weak01.fastq\n",
      "Approx 45% complete for weak01.fastq\n",
      "Approx 50% complete for weak01.fastq\n",
      "Approx 55% complete for weak01.fastq\n",
      "Approx 60% complete for weak01.fastq\n",
      "Approx 65% complete for weak01.fastq\n",
      "Approx 70% complete for weak01.fastq\n",
      "Approx 75% complete for weak01.fastq\n",
      "Approx 80% complete for weak01.fastq\n",
      "Approx 85% complete for weak01.fastq\n",
      "Approx 90% complete for weak01.fastq\n",
      "Approx 95% complete for weak01.fastq\n",
      "Started analysis of weak02.fastq\n",
      "Approx 5% complete for weak02.fastq\n",
      "Approx 10% complete for weak02.fastq\n",
      "Approx 15% complete for weak02.fastq\n",
      "Approx 20% complete for weak02.fastq\n",
      "Approx 25% complete for weak02.fastq\n",
      "Approx 30% complete for weak02.fastq\n",
      "Approx 35% complete for weak02.fastq\n",
      "Approx 40% complete for weak02.fastq\n",
      "Approx 45% complete for weak02.fastq\n",
      "Approx 50% complete for weak02.fastq\n",
      "Approx 55% complete for weak02.fastq\n",
      "Approx 60% complete for weak02.fastq\n",
      "Approx 65% complete for weak02.fastq\n",
      "Approx 70% complete for weak02.fastq\n",
      "Approx 75% complete for weak02.fastq\n",
      "Approx 80% complete for weak02.fastq\n",
      "Approx 85% complete for weak02.fastq\n",
      "Approx 90% complete for weak02.fastq\n",
      "Approx 95% complete for weak02.fastq\n",
      "[INFO   ]         multiqc : This is MultiQC v1.10.dev0\n",
      "[INFO   ]         multiqc : Template    : default\n",
      "[INFO   ]         multiqc : Searching   : /data/sn/Benha/honey_bee/qc\n",
      "[INFO   ]          fastqc : Found 4 reports\n",
      "[INFO   ]         multiqc : Compressing plot data\n",
      "[INFO   ]         multiqc : Report      : ../../../../home/sn/pogany2018_honey_bee.html\n",
      "[INFO   ]         multiqc : Data        : ../../../../home/sn/pogany2018_honey_bee_data\n",
      "[INFO   ]         multiqc : MultiQC complete\n",
      "TrimmomaticSE: Started with arguments:\n",
      " strong01.fastq strong01.fq ILLUMINACLIP:/data/tools/Trimmomatic-0.39/adapters/TruSeq3-SE.fa:2:30:10 LEADING:3 TRAILING:3 SLIDINGWINDOW:4:15 MINLEN:50\n",
      "Automatically using 1 threads\n",
      "Using Long Clipping Sequence: 'AGATCGGAAGAGCGTCGTGTAGGGAAAGAGTGTA'\n",
      "Using Long Clipping Sequence: 'AGATCGGAAGAGCACACGTCTGAACTCCAGTCAC'\n",
      "ILLUMINACLIP: Using 0 prefix pairs, 2 forward/reverse sequences, 0 forward only sequences, 0 reverse only sequences\n",
      "Quality encoding detected as phred33\n",
      "Input Reads: 612846 Surviving: 605338 (98.77%) Dropped: 7508 (1.23%)\n",
      "TrimmomaticSE: Completed successfully\n",
      "TrimmomaticSE: Started with arguments:\n",
      " strong02.fastq strong02.fq ILLUMINACLIP:/data/tools/Trimmomatic-0.39/adapters/TruSeq3-SE.fa:2:30:10 LEADING:3 TRAILING:3 SLIDINGWINDOW:4:15 MINLEN:50\n",
      "Automatically using 1 threads\n",
      "Using Long Clipping Sequence: 'AGATCGGAAGAGCGTCGTGTAGGGAAAGAGTGTA'\n",
      "Using Long Clipping Sequence: 'AGATCGGAAGAGCACACGTCTGAACTCCAGTCAC'\n",
      "ILLUMINACLIP: Using 0 prefix pairs, 2 forward/reverse sequences, 0 forward only sequences, 0 reverse only sequences\n",
      "Quality encoding detected as phred33\n",
      "Input Reads: 565692 Surviving: 557465 (98.55%) Dropped: 8227 (1.45%)\n",
      "TrimmomaticSE: Completed successfully\n",
      "TrimmomaticSE: Started with arguments:\n",
      " weak01.fastq weak01.fq ILLUMINACLIP:/data/tools/Trimmomatic-0.39/adapters/TruSeq3-SE.fa:2:30:10 LEADING:3 TRAILING:3 SLIDINGWINDOW:4:15 MINLEN:50\n",
      "Automatically using 1 threads\n",
      "Using Long Clipping Sequence: 'AGATCGGAAGAGCGTCGTGTAGGGAAAGAGTGTA'\n",
      "Using Long Clipping Sequence: 'AGATCGGAAGAGCACACGTCTGAACTCCAGTCAC'\n",
      "ILLUMINACLIP: Using 0 prefix pairs, 2 forward/reverse sequences, 0 forward only sequences, 0 reverse only sequences\n",
      "Quality encoding detected as phred33\n",
      "Input Reads: 654928 Surviving: 647468 (98.86%) Dropped: 7460 (1.14%)\n",
      "TrimmomaticSE: Completed successfully\n",
      "TrimmomaticSE: Started with arguments:\n",
      " weak02.fastq weak02.fq ILLUMINACLIP:/data/tools/Trimmomatic-0.39/adapters/TruSeq3-SE.fa:2:30:10 LEADING:3 TRAILING:3 SLIDINGWINDOW:4:15 MINLEN:50\n",
      "Automatically using 1 threads\n",
      "Using Long Clipping Sequence: 'AGATCGGAAGAGCGTCGTGTAGGGAAAGAGTGTA'\n",
      "Using Long Clipping Sequence: 'AGATCGGAAGAGCACACGTCTGAACTCCAGTCAC'\n",
      "ILLUMINACLIP: Using 0 prefix pairs, 2 forward/reverse sequences, 0 forward only sequences, 0 reverse only sequences\n",
      "Quality encoding detected as phred33\n",
      "Input Reads: 664562 Surviving: 652382 (98.17%) Dropped: 12180 (1.83%)\n",
      "TrimmomaticSE: Completed successfully\n",
      "605338 reads; of these:\n",
      "  605338 (100.00%) were unpaired; of these:\n",
      "    240772 (39.77%) aligned 0 times\n",
      "    322211 (53.23%) aligned exactly 1 time\n",
      "    42355 (7.00%) aligned >1 times\n",
      "60.23% overall alignment rate\n",
      "[M::bam2fq_mainloop] discarded 0 singletons\n",
      "[M::bam2fq_mainloop] processed 240772 reads\n",
      "557465 reads; of these:\n",
      "  557465 (100.00%) were unpaired; of these:\n",
      "    84072 (15.08%) aligned 0 times\n",
      "    427856 (76.75%) aligned exactly 1 time\n",
      "    45537 (8.17%) aligned >1 times\n",
      "84.92% overall alignment rate\n",
      "[M::bam2fq_mainloop] discarded 0 singletons\n",
      "[M::bam2fq_mainloop] processed 84072 reads\n",
      "647468 reads; of these:\n",
      "  647468 (100.00%) were unpaired; of these:\n",
      "    93203 (14.39%) aligned 0 times\n",
      "    495950 (76.60%) aligned exactly 1 time\n",
      "    58315 (9.01%) aligned >1 times\n",
      "85.61% overall alignment rate\n",
      "[M::bam2fq_mainloop] discarded 0 singletons\n",
      "[M::bam2fq_mainloop] processed 93203 reads\n",
      "652382 reads; of these:\n",
      "  652382 (100.00%) were unpaired; of these:\n",
      "    101353 (15.54%) aligned 0 times\n",
      "    499185 (76.52%) aligned exactly 1 time\n",
      "    51844 (7.95%) aligned >1 times\n",
      "84.46% overall alignment rate\n",
      "[M::bam2fq_mainloop] discarded 0 singletons\n",
      "[M::bam2fq_mainloop] processed 101353 reads\n",
      "130614 reads; of these:\n",
      "  130614 (100.00%) were unpaired; of these:\n",
      "    130614 (100.00%) aligned 0 times\n",
      "    0 (0.00%) aligned exactly 1 time\n",
      "    0 (0.00%) aligned >1 times\n",
      "0.00% overall alignment rate\n",
      "[M::bam2fq_mainloop] discarded 0 singletons\n",
      "[M::bam2fq_mainloop] processed 130614 reads\n",
      "46954 reads; of these:\n",
      "  46954 (100.00%) were unpaired; of these:\n",
      "    46953 (100.00%) aligned 0 times\n",
      "    1 (0.00%) aligned exactly 1 time\n",
      "    0 (0.00%) aligned >1 times\n",
      "0.00% overall alignment rate\n",
      "[M::bam2fq_mainloop] discarded 0 singletons\n",
      "[M::bam2fq_mainloop] processed 46953 reads\n",
      "51805 reads; of these:\n",
      "  51805 (100.00%) were unpaired; of these:\n",
      "    51805 (100.00%) aligned 0 times\n",
      "    0 (0.00%) aligned exactly 1 time\n",
      "    0 (0.00%) aligned >1 times\n",
      "0.00% overall alignment rate\n",
      "[M::bam2fq_mainloop] discarded 0 singletons\n",
      "[M::bam2fq_mainloop] processed 51805 reads\n",
      "56932 reads; of these:\n",
      "  56932 (100.00%) were unpaired; of these:\n",
      "    56931 (100.00%) aligned 0 times\n",
      "    1 (0.00%) aligned exactly 1 time\n",
      "    0 (0.00%) aligned >1 times\n",
      "0.00% overall alignment rate\n",
      "[M::bam2fq_mainloop] discarded 0 singletons\n",
      "[M::bam2fq_mainloop] processed 56931 reads\n"
     ]
    }
   ],
   "source": [
    "%%bash\n",
    "\n",
    "cd /data/sn/Benha/honey_bee\n",
    "\n",
    "export PATH=$PATH:/data/tools/FastQC\n",
    "TRIM='/data/tools/Trimmomatic-0.39/trimmomatic-0.39.jar'\n",
    "export PATH=$PATH:/data/tools/bowtie2-2.3.5-linux-x86_64\n",
    "\n",
    "mkdir qc\n",
    "\n",
    "for f in *.fastq\n",
    "do \n",
    "  fastqc -t 38 $f -o qc\n",
    "done  \n",
    "\n",
    "multiqc --filename /home/sn/pogany2018_honey_bee qc\n",
    "\n",
    "for f in *.fastq\n",
    "do\n",
    "  o=${f/'.fastq'/'.fq'}\n",
    "  java -jar $TRIM SE $f $o \\\n",
    "  ILLUMINACLIP:/data/tools/Trimmomatic-0.39/adapters/TruSeq3-SE.fa:2:30:10 \\\n",
    "  LEADING:3 \\\n",
    "  TRAILING:3 \\\n",
    "  SLIDINGWINDOW:4:15 \\\n",
    "  MINLEN:50\n",
    "done\n",
    "\n",
    "for f in *.fq\n",
    "do\n",
    "  bam=${f/'.fq'/'.bam'}\n",
    "  o=${bam/'.bam'/'_no_bee.fq'}\n",
    "  bowtie2 -p 38 --very-sensitive -x /data/sn/bee/pogany2018/bee $f | samtools view -Sb -f 4 > $bam\n",
    "  samtools bam2fq $bam > $o\n",
    "done\n",
    "\n",
    "for f in *no_bee.fq\n",
    "do\n",
    "  bam=${f/'no_bee.fq'/'no_bee_no_phix.bam'}\n",
    "  o=${bam/'no_bee_no_phix.bam'/'no_bee_no_phix.fq'}\n",
    "  bowtie2 -p 38 --very-sensitive -x /data/dbs/idxs/PhiX/Illumina/RTA/Sequence/Bowtie2Index/genome $f | samtools view -Sb -f 4 > $bam\n",
    "  samtools bam2fq $bam > $o\n",
    "done\n"
   ]
  },
  {
   "cell_type": "code",
   "execution_count": 36,
   "metadata": {},
   "outputs": [
    {
     "name": "stdout",
     "output_type": "stream",
     "text": [
      "total 2.8G\n",
      "drwxrwxr-x 2 sn sn   10 Oct 25 06:00 qc\n",
      "-rw-rw-r-- 1 sn sn  37M Oct 25 06:02 strong01.bam\n",
      "-rw-rw-r-- 1 sn sn 303M Oct 25 05:49 strong01.fastq\n",
      "-rw-rw-r-- 1 sn sn 288M Oct 25 06:01 strong01.fq\n",
      "-rw-rw-r-- 1 sn sn  63M Oct 25 06:02 strong01_no_bee.fq\n",
      "-rw-rw-r-- 1 sn sn  20M Oct 25 06:03 strong01_no_bee_no_phix.bam\n",
      "-rw-rw-r-- 1 sn sn  63M Oct 25 06:03 strong01_no_bee_no_phix.fq\n",
      "-rw-rw-r-- 1 sn sn  14M Oct 25 06:02 strong02.bam\n",
      "-rw-rw-r-- 1 sn sn 285M Oct 25 05:49 strong02.fastq\n",
      "-rw-rw-r-- 1 sn sn 269M Oct 25 06:01 strong02.fq\n",
      "-rw-rw-r-- 1 sn sn  23M Oct 25 06:02 strong02_no_bee.fq\n",
      "-rw-rw-r-- 1 sn sn 7.2M Oct 25 06:03 strong02_no_bee_no_phix.bam\n",
      "-rw-rw-r-- 1 sn sn  23M Oct 25 06:03 strong02_no_bee_no_phix.fq\n",
      "-rw-rw-r-- 1 sn sn  15M Oct 25 06:02 weak01.bam\n",
      "-rw-rw-r-- 1 sn sn 326M Oct 25 05:49 weak01.fastq\n",
      "-rw-rw-r-- 1 sn sn 311M Oct 25 06:01 weak01.fq\n",
      "-rw-rw-r-- 1 sn sn  26M Oct 25 06:02 weak01_no_bee.fq\n",
      "-rw-rw-r-- 1 sn sn 7.8M Oct 25 06:03 weak01_no_bee_no_phix.bam\n",
      "-rw-rw-r-- 1 sn sn  26M Oct 25 06:03 weak01_no_bee_no_phix.fq\n",
      "-rw-rw-r-- 1 sn sn  16M Oct 25 06:03 weak02.bam\n",
      "-rw-rw-r-- 1 sn sn 332M Oct 25 05:49 weak02.fastq\n",
      "-rw-rw-r-- 1 sn sn 310M Oct 25 06:01 weak02.fq\n",
      "-rw-rw-r-- 1 sn sn  27M Oct 25 06:03 weak02_no_bee.fq\n",
      "-rw-rw-r-- 1 sn sn 8.5M Oct 25 06:03 weak02_no_bee_no_phix.bam\n",
      "-rw-rw-r-- 1 sn sn  27M Oct 25 06:03 weak02_no_bee_no_phix.fq\n"
     ]
    }
   ],
   "source": [
    "%%bash\n",
    "\n",
    "cd /data/sn/Benha/honey_bee\n",
    "\n",
    "ls -lh"
   ]
  },
  {
   "cell_type": "code",
   "execution_count": 38,
   "metadata": {},
   "outputs": [
    {
     "name": "stderr",
     "output_type": "stream",
     "text": [
      "WARNING: The derep_fulllength command does not support multithreading.\n",
      "Only 1 thread used.\n",
      "vsearch v2.14.2_linux_x86_64, 251.8GB RAM, 40 cores\n",
      "https://github.com/torognes/vsearch\n",
      "\n",
      "Dereplicating file strong01_no_bee_no_phix.fq 100%\n",
      "29412815 nt in 130609 seqs, min 50, max 251, avg 225\n",
      "Sorting 100%\n",
      "129544 unique sequences, avg cluster 1.0, median 1, max 57\n",
      "Writing output file 100%\n",
      "Writing uc file, first part 100%\n",
      "Writing uc file, second part 100%\n",
      "WARNING: The derep_fulllength command does not support multithreading.\n",
      "Only 1 thread used.\n",
      "vsearch v2.14.2_linux_x86_64, 251.8GB RAM, 40 cores\n",
      "https://github.com/torognes/vsearch\n",
      "\n",
      "Dereplicating file strong02_no_bee_no_phix.fq 100%\n",
      "10632254 nt in 46952 seqs, min 50, max 251, avg 226\n",
      "Sorting 100%\n",
      "46528 unique sequences, avg cluster 1.0, median 1, max 318\n",
      "Writing output file 100%\n",
      "Writing uc file, first part 100%\n",
      "Writing uc file, second part 100%\n",
      "WARNING: The derep_fulllength command does not support multithreading.\n",
      "Only 1 thread used.\n",
      "vsearch v2.14.2_linux_x86_64, 251.8GB RAM, 40 cores\n",
      "https://github.com/torognes/vsearch\n",
      "\n",
      "Dereplicating file weak01_no_bee_no_phix.fq 100%\n",
      "11850463 nt in 51801 seqs, min 50, max 251, avg 229\n",
      "Sorting 100%\n",
      "51618 unique sequences, avg cluster 1.0, median 1, max 22\n",
      "Writing output file 100%\n",
      "Writing uc file, first part 100%\n",
      "Writing uc file, second part 100%\n",
      "WARNING: The derep_fulllength command does not support multithreading.\n",
      "Only 1 thread used.\n",
      "vsearch v2.14.2_linux_x86_64, 251.8GB RAM, 40 cores\n",
      "https://github.com/torognes/vsearch\n",
      "\n",
      "Dereplicating file weak02_no_bee_no_phix.fq 100%\n",
      "12711018 nt in 56929 seqs, min 50, max 251, avg 223\n",
      "Sorting 100%\n",
      "56282 unique sequences, avg cluster 1.0, median 1, max 161\n",
      "Writing output file 100%\n",
      "Writing uc file, first part 100%\n",
      "Writing uc file, second part 100%\n"
     ]
    }
   ],
   "source": [
    "%%bash\n",
    "\n",
    "cd /data/sn/Benha/honey_bee\n",
    "\n",
    "export PATH=$PATH:/data/tools/vsearch-2.14.2-linux-x86_64/bin/\n",
    "\n",
    "for f in *no_bee_no_phix.fq\n",
    "do\n",
    "  de=${f/'.fq'/'.derep.fa'}\n",
    "  vsearch --threads 38 \\\n",
    "    --derep_fulllength $f \\\n",
    "    --strand plus \\\n",
    "    --output $de \\\n",
    "    --sizeout \\\n",
    "    --uc $de.uc \\\n",
    "    --fasta_width 0\n",
    "done\n"
   ]
  },
  {
   "cell_type": "code",
   "execution_count": 39,
   "metadata": {},
   "outputs": [
    {
     "name": "stdout",
     "output_type": "stream",
     "text": [
      "total 2.9G\n",
      "drwxrwxr-x 2 sn sn   10 Oct 25 06:00 qc\n",
      "-rw-rw-r-- 1 sn sn  37M Oct 25 06:02 strong01.bam\n",
      "-rw-rw-r-- 1 sn sn 303M Oct 25 05:49 strong01.fastq\n",
      "-rw-rw-r-- 1 sn sn 288M Oct 25 06:01 strong01.fq\n",
      "-rw-rw-r-- 1 sn sn  63M Oct 25 06:02 strong01_no_bee.fq\n",
      "-rw-rw-r-- 1 sn sn  20M Oct 25 06:03 strong01_no_bee_no_phix.bam\n",
      "-rw-rw-r-- 1 sn sn  35M Oct 25 06:08 strong01_no_bee_no_phix.derep.fa\n",
      "-rw-rw-r-- 1 sn sn  18M Oct 25 06:08 strong01_no_bee_no_phix.derep.fa.uc\n",
      "-rw-rw-r-- 1 sn sn  63M Oct 25 06:03 strong01_no_bee_no_phix.fq\n",
      "-rw-rw-r-- 1 sn sn  14M Oct 25 06:02 strong02.bam\n",
      "-rw-rw-r-- 1 sn sn 285M Oct 25 05:49 strong02.fastq\n",
      "-rw-rw-r-- 1 sn sn 269M Oct 25 06:01 strong02.fq\n",
      "-rw-rw-r-- 1 sn sn  23M Oct 25 06:02 strong02_no_bee.fq\n",
      "-rw-rw-r-- 1 sn sn 7.2M Oct 25 06:03 strong02_no_bee_no_phix.bam\n",
      "-rw-rw-r-- 1 sn sn  13M Oct 25 06:08 strong02_no_bee_no_phix.derep.fa\n",
      "-rw-rw-r-- 1 sn sn 6.2M Oct 25 06:08 strong02_no_bee_no_phix.derep.fa.uc\n",
      "-rw-rw-r-- 1 sn sn  23M Oct 25 06:03 strong02_no_bee_no_phix.fq\n",
      "-rw-rw-r-- 1 sn sn  15M Oct 25 06:02 weak01.bam\n",
      "-rw-rw-r-- 1 sn sn 326M Oct 25 05:49 weak01.fastq\n",
      "-rw-rw-r-- 1 sn sn 311M Oct 25 06:01 weak01.fq\n",
      "-rw-rw-r-- 1 sn sn  26M Oct 25 06:02 weak01_no_bee.fq\n",
      "-rw-rw-r-- 1 sn sn 7.8M Oct 25 06:03 weak01_no_bee_no_phix.bam\n",
      "-rw-rw-r-- 1 sn sn  14M Oct 25 06:08 weak01_no_bee_no_phix.derep.fa\n",
      "-rw-rw-r-- 1 sn sn 6.8M Oct 25 06:08 weak01_no_bee_no_phix.derep.fa.uc\n",
      "-rw-rw-r-- 1 sn sn  26M Oct 25 06:03 weak01_no_bee_no_phix.fq\n",
      "-rw-rw-r-- 1 sn sn  16M Oct 25 06:03 weak02.bam\n",
      "-rw-rw-r-- 1 sn sn 332M Oct 25 05:49 weak02.fastq\n",
      "-rw-rw-r-- 1 sn sn 310M Oct 25 06:01 weak02.fq\n",
      "-rw-rw-r-- 1 sn sn  27M Oct 25 06:03 weak02_no_bee.fq\n",
      "-rw-rw-r-- 1 sn sn 8.5M Oct 25 06:03 weak02_no_bee_no_phix.bam\n",
      "-rw-rw-r-- 1 sn sn  15M Oct 25 06:08 weak02_no_bee_no_phix.derep.fa\n",
      "-rw-rw-r-- 1 sn sn 7.5M Oct 25 06:08 weak02_no_bee_no_phix.derep.fa.uc\n",
      "-rw-rw-r-- 1 sn sn  27M Oct 25 06:03 weak02_no_bee_no_phix.fq\n"
     ]
    }
   ],
   "source": [
    "%%bash\n",
    "\n",
    "cd /data/sn/Benha/honey_bee\n",
    "\n",
    "ls -lh"
   ]
  },
  {
   "cell_type": "code",
   "execution_count": 40,
   "metadata": {},
   "outputs": [
    {
     "name": "stdout",
     "output_type": "stream",
     "text": [
      ">M02628:193:000000000-C3BTJ:1:1101:14384:2366;size=161\n",
      "CGCCCTGAAGCTGGCTGACCAGCTTGACCCTGCGCTGTGCCGGGTGAAGGTTGGCAAGGAGCTGTTCACCAGCAGCGCTTCGGGCATTGTCGAAACCCTGTGTGACAAGGGCTTCTAAGTGTTCCTGGAC\n",
      ">M02628:193:000000000-C3BTJ:1:1101:13765:7406;size=87\n",
      "CGCCCTGAAGCTGGCTGACCAGCTTGACCCTGCGCTGTGCCGGGTGAAGGTTGGCAAGGAGCTGTTCACCAGCAGCGCTTCGGGCATTGTCGAAACCCTGTGTGACAAGGGCTTCGAAGTGTTCCTGGAC\n",
      ">M02628:193:000000000-C3BTJ:1:1101:15138:21651;size=31\n",
      "CGCCCTGAAGCTGGCTGACCAGCTTGACCCTGCGCTGTGCCGGGTGAAGGTTGGCAAGGAGCTGTTCACCAGCAGCGCTTCGGGCATTGTCCAAACCCTGTGTGACAAGGGCTTCTAAGTGTTCCTGGAC\n",
      ">M02628:193:000000000-C3BTJ:1:1103:18593:6682;size=29\n",
      "CGCCCTGAAGCTGGCTGACCAGCTTGACCCTGCGCTGTGCCGGGTGAAGGTTGGCAAGGAGCTGTTCACCAGCAGCGCTTCGGGCATTGTCTAAACCCTGTGTGACAAGGGCTTCGAAGTGTTCCTGGAC\n",
      ">M02628:193:000000000-C3BTJ:1:1101:23106:11221;size=27\n",
      "CGCCCTGAAGCTGGCTGACCAGCTTGACCCTGCGCTGTGCCGGGTGAAGGTTGGCAAGGAGCTGTTCACCAGCAGCGCTTCGGGCATTGTCGAACCCCTGTGTGACAAGGGCTTCTAAGTGTTCCTGGAC\n"
     ]
    }
   ],
   "source": [
    "%%bash\n",
    "\n",
    "cd /data/sn/Benha/honey_bee\n",
    "\n",
    "head weak02_no_bee_no_phix.derep.fa"
   ]
  },
  {
   "cell_type": "code",
   "execution_count": 41,
   "metadata": {},
   "outputs": [
    {
     "name": "stderr",
     "output_type": "stream",
     "text": [
      "Loading database information... done.\n",
      "129544 sequences (29.18 Mbp) processed in 0.892s (8712.0 Kseq/m, 1962.24 Mbp/m).\n",
      "  102047 sequences classified (78.77%)\n",
      "  27497 sequences unclassified (21.23%)\n",
      "Loading database information... done.\n",
      "46528 sequences (10.58 Mbp) processed in 0.723s (3860.8 Kseq/m, 877.77 Mbp/m).\n",
      "  30882 sequences classified (66.37%)\n",
      "  15646 sequences unclassified (33.63%)\n",
      "Loading database information... done.\n",
      "51618 sequences (11.83 Mbp) processed in 0.725s (4273.1 Kseq/m, 979.27 Mbp/m).\n",
      "  32046 sequences classified (62.08%)\n",
      "  19572 sequences unclassified (37.92%)\n",
      "Loading database information... done.\n",
      "56282 sequences (12.63 Mbp) processed in 0.844s (4001.0 Kseq/m, 897.68 Mbp/m).\n",
      "  35604 sequences classified (63.26%)\n",
      "  20678 sequences unclassified (36.74%)\n"
     ]
    }
   ],
   "source": [
    "%%bash\n",
    "\n",
    "cd /data/sn/Benha/honey_bee\n",
    "\n",
    "export PATH=$PATH:/data/tools/kraken2\n",
    "    \n",
    "db='/data/dbs/kraken2/nt'\n",
    "\n",
    "for f in *derep.fa\n",
    "do\n",
    "  rpt=${f/'.derep.fa'/'.rpt'}\n",
    "  out=${f/'.derep.fa'/'.kraken'}\n",
    "  kraken2 --threads 38 \\\n",
    "    --db $db \\\n",
    "    --report $rpt $f > $out\n",
    "done\n"
   ]
  },
  {
   "cell_type": "code",
   "execution_count": 42,
   "metadata": {},
   "outputs": [
    {
     "name": "stdout",
     "output_type": "stream",
     "text": [
      "total 2.9G\n",
      "drwxrwxr-x 2 sn sn   10 Oct 25 06:00 qc\n",
      "-rw-rw-r-- 1 sn sn  37M Oct 25 06:02 strong01.bam\n",
      "-rw-rw-r-- 1 sn sn 303M Oct 25 05:49 strong01.fastq\n",
      "-rw-rw-r-- 1 sn sn 288M Oct 25 06:01 strong01.fq\n",
      "-rw-rw-r-- 1 sn sn  63M Oct 25 06:02 strong01_no_bee.fq\n",
      "-rw-rw-r-- 1 sn sn  20M Oct 25 06:03 strong01_no_bee_no_phix.bam\n",
      "-rw-rw-r-- 1 sn sn  35M Oct 25 06:08 strong01_no_bee_no_phix.derep.fa\n",
      "-rw-rw-r-- 1 sn sn  18M Oct 25 06:08 strong01_no_bee_no_phix.derep.fa.uc\n",
      "-rw-rw-r-- 1 sn sn  63M Oct 25 06:03 strong01_no_bee_no_phix.fq\n",
      "-rw-rw-r-- 1 sn sn  15M Oct 25 06:16 strong01_no_bee_no_phix.kraken\n",
      "-rw-rw-r-- 1 sn sn 309K Oct 25 06:16 strong01_no_bee_no_phix.rpt\n",
      "-rw-rw-r-- 1 sn sn  14M Oct 25 06:02 strong02.bam\n",
      "-rw-rw-r-- 1 sn sn 285M Oct 25 05:49 strong02.fastq\n",
      "-rw-rw-r-- 1 sn sn 269M Oct 25 06:01 strong02.fq\n",
      "-rw-rw-r-- 1 sn sn  23M Oct 25 06:02 strong02_no_bee.fq\n",
      "-rw-rw-r-- 1 sn sn 7.2M Oct 25 06:03 strong02_no_bee_no_phix.bam\n",
      "-rw-rw-r-- 1 sn sn  13M Oct 25 06:08 strong02_no_bee_no_phix.derep.fa\n",
      "-rw-rw-r-- 1 sn sn 6.2M Oct 25 06:08 strong02_no_bee_no_phix.derep.fa.uc\n",
      "-rw-rw-r-- 1 sn sn  23M Oct 25 06:03 strong02_no_bee_no_phix.fq\n",
      "-rw-rw-r-- 1 sn sn 5.6M Oct 25 06:21 strong02_no_bee_no_phix.kraken\n",
      "-rw-rw-r-- 1 sn sn 233K Oct 25 06:21 strong02_no_bee_no_phix.rpt\n",
      "-rw-rw-r-- 1 sn sn  15M Oct 25 06:02 weak01.bam\n",
      "-rw-rw-r-- 1 sn sn 326M Oct 25 05:49 weak01.fastq\n",
      "-rw-rw-r-- 1 sn sn 311M Oct 25 06:01 weak01.fq\n",
      "-rw-rw-r-- 1 sn sn  26M Oct 25 06:02 weak01_no_bee.fq\n",
      "-rw-rw-r-- 1 sn sn 7.8M Oct 25 06:03 weak01_no_bee_no_phix.bam\n",
      "-rw-rw-r-- 1 sn sn  14M Oct 25 06:08 weak01_no_bee_no_phix.derep.fa\n",
      "-rw-rw-r-- 1 sn sn 6.8M Oct 25 06:08 weak01_no_bee_no_phix.derep.fa.uc\n",
      "-rw-rw-r-- 1 sn sn  26M Oct 25 06:03 weak01_no_bee_no_phix.fq\n",
      "-rw-rw-r-- 1 sn sn 6.0M Oct 25 06:26 weak01_no_bee_no_phix.kraken\n",
      "-rw-rw-r-- 1 sn sn 258K Oct 25 06:26 weak01_no_bee_no_phix.rpt\n",
      "-rw-rw-r-- 1 sn sn  16M Oct 25 06:03 weak02.bam\n",
      "-rw-rw-r-- 1 sn sn 332M Oct 25 05:49 weak02.fastq\n",
      "-rw-rw-r-- 1 sn sn 310M Oct 25 06:01 weak02.fq\n",
      "-rw-rw-r-- 1 sn sn  27M Oct 25 06:03 weak02_no_bee.fq\n",
      "-rw-rw-r-- 1 sn sn 8.5M Oct 25 06:03 weak02_no_bee_no_phix.bam\n",
      "-rw-rw-r-- 1 sn sn  15M Oct 25 06:08 weak02_no_bee_no_phix.derep.fa\n",
      "-rw-rw-r-- 1 sn sn 7.5M Oct 25 06:08 weak02_no_bee_no_phix.derep.fa.uc\n",
      "-rw-rw-r-- 1 sn sn  27M Oct 25 06:03 weak02_no_bee_no_phix.fq\n",
      "-rw-rw-r-- 1 sn sn 6.6M Oct 25 06:31 weak02_no_bee_no_phix.kraken\n",
      "-rw-rw-r-- 1 sn sn 285K Oct 25 06:31 weak02_no_bee_no_phix.rpt\n"
     ]
    }
   ],
   "source": [
    "%%bash\n",
    "\n",
    "cd /data/sn/Benha/honey_bee\n",
    "\n",
    "ls -lh"
   ]
  },
  {
   "cell_type": "code",
   "execution_count": 44,
   "metadata": {},
   "outputs": [
    {
     "name": "stdout",
     "output_type": "stream",
     "text": [
      "U\tM02628:193:000000000-C3BTJ:1:2114:9831:20153;size=1\t0\t54\t0:20\n",
      "C\tM02628:193:000000000-C3BTJ:1:2114:9854:19279;size=1\t38018\t250\t0:6 38018:91 0:2 38018:5 0:1 38018:5 0:7 38018:5 0:4 38018:34 0:39 38018:17\n",
      "C\tM02628:193:000000000-C3BTJ:1:2114:9858:12950;size=1\t1684\t137\t1684:1 0:10 78344:5 0:47 1678:3 1684:5 0:32\n",
      "C\tM02628:193:000000000-C3BTJ:1:2114:9871:23609;size=1\t40302\t250\t40302:174 27974:5 40302:37\n",
      "U\tM02628:193:000000000-C3BTJ:1:2114:9897:18398;size=1\t0\t249\t0:215\n",
      "U\tM02628:193:000000000-C3BTJ:1:2114:9903:16864;size=1\t0\t251\t0:217\n",
      "U\tM02628:193:000000000-C3BTJ:1:2114:9910:20490;size=1\t0\t212\t0:174 1173020:2 0:2\n",
      "C\tM02628:193:000000000-C3BTJ:1:2114:9912:14564;size=1\t2170413\t175\t2170413:11 0:14 2170413:1 0:3 2170413:5 50452:1 2170413:24 0:68 2170413:14\n",
      "C\tM02628:193:000000000-C3BTJ:1:2114:9989:22946;size=1\t40302\t243\t40302:10 0:199\n",
      "C\tM02628:193:000000000-C3BTJ:1:2114:9990:26685;size=1\t1196095\t232\t0:47 131567:4 0:120 1196095:1 0:15 1196095:4 0:3 1196095:4\n"
     ]
    }
   ],
   "source": [
    "%%bash\n",
    "\n",
    "cd /data/sn/Benha/honey_bee\n",
    "\n",
    "tail weak02_no_bee_no_phix.kraken"
   ]
  },
  {
   "cell_type": "code",
   "execution_count": 48,
   "metadata": {},
   "outputs": [
    {
     "name": "stdout",
     "output_type": "stream",
     "text": [
      " 36.74\t20678\t20678\tU\t0\tunclassified\n",
      " 63.26\t35604\t300\tR\t1\troot\n",
      " 60.65\t34134\t278\tR1\t131567\t  cellular organisms\n",
      " 51.81\t29159\t250\tD\t2\t    Bacteria\n",
      " 25.97\t14614\t17\tD1\t1783272\t      Terrabacteria group\n",
      " 18.04\t10152\t18\tP\t1239\t        Firmicutes\n",
      " 17.92\t10083\t21\tC\t91061\t          Bacilli\n",
      " 17.36\t9773\t35\tO\t186826\t            Lactobacillales\n",
      " 17.07\t9607\t24\tF\t33958\t              Lactobacillaceae\n",
      " 13.50\t7600\t240\tG\t1578\t                Lactobacillus\n"
     ]
    }
   ],
   "source": [
    "%%bash\n",
    "\n",
    "cd /data/sn/Benha/honey_bee\n",
    "\n",
    "head weak02_no_bee_no_phix.rpt"
   ]
  },
  {
   "cell_type": "code",
   "execution_count": 49,
   "metadata": {},
   "outputs": [],
   "source": [
    "%%bash\n",
    "\n",
    "cd /data/sn/Benha/honey_bee\n",
    "\n",
    "kraken-biom *.rpt --fmt json -o no_bee_no_phix.biom"
   ]
  },
  {
   "cell_type": "markdown",
   "metadata": {},
   "source": [
    "### [R](https://www.r-project.org/)\n",
    "### [Bioconductor](http://www.bioconductor.org/)"
   ]
  },
  {
   "cell_type": "code",
   "execution_count": 11,
   "metadata": {},
   "outputs": [
    {
     "name": "stderr",
     "output_type": "stream",
     "text": [
      "\n",
      "Attaching package: 'phyloseq'\n",
      "\n",
      "\n",
      "The following object is masked from 'package:pavian':\n",
      "\n",
      "    filter_taxa\n",
      "\n",
      "\n",
      "The following object is masked from 'package:GenomicRanges':\n",
      "\n",
      "    distance\n",
      "\n",
      "\n",
      "The following object is masked from 'package:IRanges':\n",
      "\n",
      "    distance\n",
      "\n",
      "\n",
      "Loading required package: ggplot2\n",
      "\n",
      "\n",
      "microbiome R package (microbiome.github.com)\n",
      "    \n",
      "\n",
      "\n",
      " Copyright (C) 2011-2020 Leo Lahti, \n",
      "    Sudarshan Shetty et al. <microbiome.github.io>\n",
      "\n",
      "\n",
      "\n",
      "Attaching package: 'microbiome'\n",
      "\n",
      "\n",
      "The following object is masked from 'package:ggplot2':\n",
      "\n",
      "    alpha\n",
      "\n",
      "\n",
      "The following object is masked from 'package:Biostrings':\n",
      "\n",
      "    coverage\n",
      "\n",
      "\n",
      "The following object is masked from 'package:Gviz':\n",
      "\n",
      "    coverage\n",
      "\n",
      "\n",
      "The following object is masked from 'package:GenomicRanges':\n",
      "\n",
      "    coverage\n",
      "\n",
      "\n",
      "The following objects are masked from 'package:IRanges':\n",
      "\n",
      "    coverage, transform\n",
      "\n",
      "\n",
      "The following object is masked from 'package:S4Vectors':\n",
      "\n",
      "    transform\n",
      "\n",
      "\n",
      "The following object is masked from 'package:base':\n",
      "\n",
      "    transform\n",
      "\n",
      "\n",
      "── \u001b[1mAttaching packages\u001b[22m ─────────────────────────────────────── tidyverse 1.3.0 ──\n",
      "\n",
      "\u001b[32m✔\u001b[39m \u001b[34mtibble \u001b[39m 3.0.4     \u001b[32m✔\u001b[39m \u001b[34mdplyr  \u001b[39m 1.0.2\n",
      "\u001b[32m✔\u001b[39m \u001b[34mtidyr  \u001b[39m 1.1.2     \u001b[32m✔\u001b[39m \u001b[34mstringr\u001b[39m 1.4.0\n",
      "\u001b[32m✔\u001b[39m \u001b[34mreadr  \u001b[39m 1.4.0     \u001b[32m✔\u001b[39m \u001b[34mforcats\u001b[39m 0.5.0\n",
      "\u001b[32m✔\u001b[39m \u001b[34mpurrr  \u001b[39m 0.3.4     \n",
      "\n",
      "── \u001b[1mConflicts\u001b[22m ────────────────────────────────────────── tidyverse_conflicts() ──\n",
      "\u001b[31m✖\u001b[39m \u001b[34mmicrobiome\u001b[39m::\u001b[32malpha()\u001b[39m masks \u001b[34mggplot2\u001b[39m::alpha()\n",
      "\u001b[31m✖\u001b[39m \u001b[34mdplyr\u001b[39m::\u001b[32mcollapse()\u001b[39m   masks \u001b[34mBiostrings\u001b[39m::collapse(), \u001b[34mIRanges\u001b[39m::collapse()\n",
      "\u001b[31m✖\u001b[39m \u001b[34mdplyr\u001b[39m::\u001b[32mcombine()\u001b[39m    masks \u001b[34mBiocGenerics\u001b[39m::combine()\n",
      "\u001b[31m✖\u001b[39m \u001b[34mpurrr\u001b[39m::\u001b[32mcompact()\u001b[39m    masks \u001b[34mXVector\u001b[39m::compact()\n",
      "\u001b[31m✖\u001b[39m \u001b[34mdplyr\u001b[39m::\u001b[32mcount()\u001b[39m      masks \u001b[34mseqinr\u001b[39m::count()\n",
      "\u001b[31m✖\u001b[39m \u001b[34mdplyr\u001b[39m::\u001b[32mdesc()\u001b[39m       masks \u001b[34mIRanges\u001b[39m::desc()\n",
      "\u001b[31m✖\u001b[39m \u001b[34mtidyr\u001b[39m::\u001b[32mexpand()\u001b[39m     masks \u001b[34mS4Vectors\u001b[39m::expand()\n",
      "\u001b[31m✖\u001b[39m \u001b[34mdplyr\u001b[39m::\u001b[32mfilter()\u001b[39m     masks \u001b[34mstats\u001b[39m::filter()\n",
      "\u001b[31m✖\u001b[39m \u001b[34mdplyr\u001b[39m::\u001b[32mfirst()\u001b[39m      masks \u001b[34mS4Vectors\u001b[39m::first()\n",
      "\u001b[31m✖\u001b[39m \u001b[34mdplyr\u001b[39m::\u001b[32mlag()\u001b[39m        masks \u001b[34mstats\u001b[39m::lag()\n",
      "\u001b[31m✖\u001b[39m \u001b[34mggplot2\u001b[39m::\u001b[32mPosition()\u001b[39m masks \u001b[34mBiocGenerics\u001b[39m::Position(), \u001b[34mbase\u001b[39m::Position()\n",
      "\u001b[31m✖\u001b[39m \u001b[34mpurrr\u001b[39m::\u001b[32mreduce()\u001b[39m     masks \u001b[34mGenomicRanges\u001b[39m::reduce(), \u001b[34mIRanges\u001b[39m::reduce()\n",
      "\u001b[31m✖\u001b[39m \u001b[34mdplyr\u001b[39m::\u001b[32mrename()\u001b[39m     masks \u001b[34mS4Vectors\u001b[39m::rename()\n",
      "\u001b[31m✖\u001b[39m \u001b[34mdplyr\u001b[39m::\u001b[32mslice()\u001b[39m      masks \u001b[34mXVector\u001b[39m::slice(), \u001b[34mIRanges\u001b[39m::slice()\n",
      "\n"
     ]
    },
    {
     "data": {
      "text/plain": [
       "phyloseq-class experiment-level object\n",
       "otu_table()   OTU Table:         [ 3380 taxa and 4 samples ]\n",
       "sample_data() Sample Data:       [ 4 samples by 2 sample variables ]\n",
       "tax_table()   Taxonomy Table:    [ 3380 taxa by 7 taxonomic ranks ]"
      ]
     },
     "metadata": {},
     "output_type": "display_data"
    }
   ],
   "source": [
    "library(phyloseq)\n",
    "library(microbiome)\n",
    "library(tidyverse)\n",
    "library(psadd)\n",
    "\n",
    "setwd('/data/sn/Benha/honey_bee')\n",
    "\n",
    "dat = import_biom('no_bee_no_phix.biom', parseFunction=parse_taxonomy_greengenes)\n",
    "colnames(otu_table(dat)) = matrix(unlist(strsplit(colnames(otu_table(dat)), '_')), nr=4, byrow=T)[,1]\n",
    "sd = data.frame(SampleID=colnames(otu_table(dat)))\n",
    "sd$grp = matrix(unlist(strsplit(colnames(otu_table(dat)), '0')), nc=2, byrow=T)[,1]\n",
    "rownames(sd) = sd$SampleID\n",
    "sample_data(dat) = sd\n",
    "\n",
    "dat\n"
   ]
  },
  {
   "cell_type": "markdown",
   "metadata": {},
   "source": [
    "#### krona\n",
    "https://github.com/marbl/Krona/wiki"
   ]
  },
  {
   "cell_type": "code",
   "execution_count": 2,
   "metadata": {},
   "outputs": [],
   "source": [
    "plot_krona(dat, '/home/sn/pogany2018_honey_bee', 'SampleID', trim=T)\n"
   ]
  },
  {
   "cell_type": "markdown",
   "metadata": {},
   "source": [
    "[pogany2018_honey_bee.html](pogany2018_honey_bee.html)"
   ]
  },
  {
   "cell_type": "markdown",
   "metadata": {},
   "source": [
    "#### pavian\n",
    "https://github.com/fbreitwieser/pavian\n",
    "\n",
    "https://github.com/fbreitwieser/pavian/blob/master/vignettes/MANUAL.md"
   ]
  },
  {
   "cell_type": "code",
   "execution_count": null,
   "metadata": {},
   "outputs": [
    {
     "name": "stderr",
     "output_type": "stream",
     "text": [
      "Loading required package: shiny\n",
      "\n",
      "\n",
      "Listening on http://193.6.204.132:5001\n",
      "\n",
      "[Nov09 18:47] Reading 4 reports ...\n",
      "\n"
     ]
    }
   ],
   "source": [
    "pavian::runApp(host='193.6.204.132', port=5001, load_server_directory=T)"
   ]
  },
  {
   "cell_type": "markdown",
   "metadata": {},
   "source": [
    "http://boci.univet.hu:5000/"
   ]
  },
  {
   "cell_type": "code",
   "execution_count": 12,
   "metadata": {},
   "outputs": [
    {
     "data": {
      "text/plain": [
       "phyloseq-class experiment-level object\n",
       "otu_table()   OTU Table:         [ 2252 taxa and 4 samples ]\n",
       "sample_data() Sample Data:       [ 4 samples by 2 sample variables ]\n",
       "tax_table()   Taxonomy Table:    [ 2252 taxa by 7 taxonomic ranks ]"
      ]
     },
     "metadata": {},
     "output_type": "display_data"
    }
   ],
   "source": [
    "pseq = subset_taxa(dat, Kingdom=='Bacteria')\n",
    "pseq\n"
   ]
  },
  {
   "cell_type": "code",
   "execution_count": 13,
   "metadata": {},
   "outputs": [
    {
     "name": "stderr",
     "output_type": "stream",
     "text": [
      "`set.seed(2019)` was used to initialize repeatable random subsampling.\n",
      "\n",
      "Please record this for your records so others can reproduce.\n",
      "\n",
      "Try `set.seed(2019); .Random.seed` for the full vector\n",
      "\n",
      "...\n",
      "\n",
      "127OTUs were removed because they are no longer \n",
      "present in any sample after random subsampling\n",
      "\n",
      "\n",
      "...\n",
      "\n"
     ]
    },
    {
     "name": "stdout",
     "output_type": "stream",
     "text": [
      "Square root transformation\n",
      "Wisconsin double standardization\n",
      "Run 0 stress 0 \n",
      "Run 1 stress 0 \n",
      "... Procrustes: rmse 0.1052265  max resid 0.1324003 \n",
      "Run 2 stress 0.169102 \n",
      "Run 3 stress 0 \n",
      "... Procrustes: rmse 0.08388077  max resid 0.1011346 \n",
      "Run 4 stress 0 \n",
      "... Procrustes: rmse 0.1085626  max resid 0.1315416 \n",
      "Run 5 stress 0.169102 \n",
      "Run 6 stress 0.169102 \n",
      "Run 7 stress 0 \n",
      "... Procrustes: rmse 0.1417941  max resid 0.1838071 \n",
      "Run 8 stress 0 \n",
      "... Procrustes: rmse 0.1702325  max resid 0.1937367 \n",
      "Run 9 stress 0 \n",
      "... Procrustes: rmse 0.1524734  max resid 0.1950216 \n",
      "Run 10 stress 0 \n",
      "... Procrustes: rmse 0.06832302  max resid 0.08325943 \n",
      "Run 11 stress 0.169102 \n",
      "Run 12 stress 0 \n",
      "... Procrustes: rmse 0.07647253  max resid 0.09674617 \n",
      "Run 13 stress 0.169102 \n",
      "Run 14 stress 0 \n",
      "... Procrustes: rmse 0.1499703  max resid 0.1963992 \n",
      "Run 15 stress 0 \n",
      "... Procrustes: rmse 0.08820003  max resid 0.1083261 \n",
      "Run 16 stress 0 \n",
      "... Procrustes: rmse 0.04313775  max resid 0.05997209 \n",
      "Run 17 stress 0 \n",
      "... Procrustes: rmse 0.05958294  max resid 0.0812475 \n",
      "Run 18 stress 0 \n",
      "... Procrustes: rmse 0.07250513  max resid 0.08883777 \n",
      "Run 19 stress 0.169102 \n",
      "Run 20 stress 9.7345e-05 \n",
      "... Procrustes: rmse 0.1581297  max resid 0.2108623 \n",
      "*** No convergence -- monoMDS stopping criteria:\n",
      "    14: stress < smin\n",
      "     1: stress ratio > sratmax\n",
      "     5: scale factor of the gradient < sfgrmin\n"
     ]
    },
    {
     "name": "stderr",
     "output_type": "stream",
     "text": [
      "Warning message in metaMDS(veganifyOTU(physeq), distance, ...):\n",
      "\"stress is (nearly) zero: you may have insufficient data\"\n",
      "Warning message in postMDS(out$points, dis, plot = max(0, plot - 1), ...):\n",
      "\"skipping half-change scaling: too few points below threshold\"\n"
     ]
    }
   ],
   "source": [
    "pseq.glom = tax_glom(pseq, taxrank='Genus', NArm=TRUE)\n",
    "pseq.rarified = rarefy_even_depth(pseq.glom, rngseed=2019)\n",
    "opseq = pseq.rarified\n",
    "ord = ordinate(opseq, \"NMDS\", \"bray\")\n"
   ]
  },
  {
   "cell_type": "code",
   "execution_count": 14,
   "metadata": {},
   "outputs": [
    {
     "data": {
      "image/png": "[encoded data removed]",
      "text/plain": [
       "plot without title"
      ]
     },
     "metadata": {
      "image/png": {
       "height": 360,
       "width": 1080
      }
     },
     "output_type": "display_data"
    }
   ],
   "source": [
    "plot_ordination(opseq, ord, type=\"samples\", color=\"SampleID\") + \n",
    "geom_point(size=5)\n"
   ]
  },
  {
   "cell_type": "code",
   "execution_count": 15,
   "metadata": {},
   "outputs": [
    {
     "data": {
      "text/plain": [
       "phyloseq-class experiment-level object\n",
       "otu_table()   OTU Table:         [ 8 taxa and 4 samples ]\n",
       "sample_data() Sample Data:       [ 4 samples by 2 sample variables ]\n",
       "tax_table()   Taxonomy Table:    [ 8 taxa by 7 taxonomic ranks ]"
      ]
     },
     "metadata": {},
     "output_type": "display_data"
    }
   ],
   "source": [
    "pseq.core = core(pseq.glom, detection=100, prevalence=0.5)\n",
    "pseq.core\n"
   ]
  },
  {
   "cell_type": "code",
   "execution_count": 16,
   "metadata": {},
   "outputs": [
    {
     "data": {
      "image/png": "[encoded data removed]",
      "text/plain": [
       "plot without title"
      ]
     },
     "metadata": {
      "image/png": {
       "height": 360,
       "width": 1080
      }
     },
     "output_type": "display_data"
    }
   ],
   "source": [
    "transform_sample_counts(pseq.core, function(x){x / sum(x)}) %>%\n",
    "psmelt() %>% \n",
    "ggplot(mapping = aes(x=SampleID, y=Abundance*100)) + \n",
    "geom_bar(mapping = aes(x=SampleID, y=Abundance*100, fill=Genus), stat='identity') + \n",
    "xlab('Genus') + ylab('Abundancia (%)') + \n",
    "theme_bw() +\n",
    "scale_fill_brewer(palette=\"Spectral\")\n"
   ]
  },
  {
   "cell_type": "markdown",
   "metadata": {},
   "source": [
    "## Probiotics capsule resistome\n"
   ]
  },
  {
   "cell_type": "code",
   "execution_count": 5,
   "metadata": {},
   "outputs": [
    {
     "name": "stdout",
     "output_type": "stream",
     "text": [
      "Analysis complete for K8_1.fastq\n",
      "Analysis complete for K8_2.fastq\n"
     ]
    },
    {
     "name": "stderr",
     "output_type": "stream",
     "text": [
      "Started analysis of K8_1.fastq\n",
      "Approx 5% complete for K8_1.fastq\n",
      "Started analysis of K8_2.fastq\n",
      "Approx 10% complete for K8_1.fastq\n",
      "Approx 5% complete for K8_2.fastq\n",
      "Approx 15% complete for K8_1.fastq\n",
      "Approx 10% complete for K8_2.fastq\n",
      "Approx 20% complete for K8_1.fastq\n",
      "Approx 15% complete for K8_2.fastq\n",
      "Approx 25% complete for K8_1.fastq\n",
      "Approx 20% complete for K8_2.fastq\n",
      "Approx 30% complete for K8_1.fastq\n",
      "Approx 35% complete for K8_1.fastq\n",
      "Approx 25% complete for K8_2.fastq\n",
      "Approx 40% complete for K8_1.fastq\n",
      "Approx 30% complete for K8_2.fastq\n",
      "Approx 45% complete for K8_1.fastq\n",
      "Approx 35% complete for K8_2.fastq\n",
      "Approx 50% complete for K8_1.fastq\n",
      "Approx 40% complete for K8_2.fastq\n",
      "Approx 55% complete for K8_1.fastq\n",
      "Approx 45% complete for K8_2.fastq\n",
      "Approx 60% complete for K8_1.fastq\n",
      "Approx 50% complete for K8_2.fastq\n",
      "Approx 65% complete for K8_1.fastq\n",
      "Approx 55% complete for K8_2.fastq\n",
      "Approx 70% complete for K8_1.fastq\n",
      "Approx 60% complete for K8_2.fastq\n",
      "Approx 75% complete for K8_1.fastq\n",
      "Approx 65% complete for K8_2.fastq\n",
      "Approx 80% complete for K8_1.fastq\n",
      "Approx 70% complete for K8_2.fastq\n",
      "Approx 85% complete for K8_1.fastq\n",
      "Approx 75% complete for K8_2.fastq\n",
      "Approx 90% complete for K8_1.fastq\n",
      "Approx 80% complete for K8_2.fastq\n",
      "Approx 95% complete for K8_1.fastq\n",
      "Approx 85% complete for K8_2.fastq\n",
      "Approx 90% complete for K8_2.fastq\n",
      "Approx 95% complete for K8_2.fastq\n",
      "[INFO   ]         multiqc : This is MultiQC v1.10.dev0\n",
      "[INFO   ]         multiqc : Template    : default\n",
      "[INFO   ]         multiqc : Searching   : /data/sn/Benha/resistome\n",
      "[INFO   ]          fastqc : Found 2 reports\n",
      "[INFO   ]         multiqc : Compressing plot data\n",
      "[INFO   ]         multiqc : Report      : multiqc_report.html\n",
      "[INFO   ]         multiqc : Data        : multiqc_data\n",
      "[INFO   ]         multiqc : MultiQC complete\n",
      "TrimmomaticPE: Started with arguments:\n",
      " K8_1.fastq K8_2.fastq K8_trim_1.fq K8_trim_1_un.fq K8_trim_2.fq K8_trim_2_un.fq -threads 38 SLIDINGWINDOW:5:30 MINLEN:50\n",
      "Quality encoding detected as phred33\n",
      "Input Read Pairs: 304985 Both Surviving: 182726 (59.91%) Forward Only Surviving: 77790 (25.51%) Reverse Only Surviving: 5592 (1.83%) Dropped: 38877 (12.75%)\n",
      "TrimmomaticPE: Completed successfully\n",
      "Loading database information... done.\n",
      "182726 sequences (76.76 Mbp) processed in 1.813s (6047.4 Kseq/m, 2540.29 Mbp/m).\n",
      "  182357 sequences classified (99.80%)\n",
      "  369 sequences unclassified (0.20%)\n"
     ]
    }
   ],
   "source": [
    "%%bash\n",
    "\n",
    "cd /data/sn/Benha/resistome\n",
    "\n",
    "export PATH=$PATH:/data/tools/FastQC\n",
    "export PATH=$PATH:/data/tools/kraken2\n",
    "    \n",
    "TRIM='/data/tools/Trimmomatic-0.39/trimmomatic-0.39.jar'\n",
    "\n",
    "db='/data/dbs/kraken2/nt'\n",
    "\n",
    "fastqc -t 38 *.fastq\n",
    "\n",
    "multiqc .\n",
    "\n",
    "for f in *_1.fastq\n",
    "do\n",
    "  r=${f/'_1'/'_2'}\n",
    "  of=${f/'_1.fastq'/'_trim_1.fq'}\n",
    "  or=${r/'_2.fastq'/'_trim_2.fq'}\n",
    "  uf=${f/'_1.fastq'/'_trim_1_un.fq'}\n",
    "  ur=${r/'_2.fastq'/'_trim_2_un.fq'}\n",
    "  java -jar $TRIM PE $f $r $of $uf $or $ur -threads 38 \\\n",
    "    SLIDINGWINDOW:5:30 \\\n",
    "    MINLEN:50\n",
    "\n",
    "  rpt=${of/'_trim_1.fq'/'.rpt'}\n",
    "  out=${of/'_trim_1.fq'/'.kraken'}\n",
    "  kraken2 --threads 38 \\\n",
    "    --db $db \\\n",
    "    --report $rpt --paired $of $or > $out\n",
    "done\n",
    "\n"
   ]
  },
  {
   "cell_type": "code",
   "execution_count": 2,
   "metadata": {},
   "outputs": [
    {
     "name": "stderr",
     "output_type": "stream",
     "text": [
      "\n",
      "Listening on http://193.6.204.132:5000\n",
      "\n"
     ]
    }
   ],
   "source": [
    "pavian::runApp(host='193.6.204.132', port=5000, load_server_directory=T)"
   ]
  },
  {
   "cell_type": "code",
   "execution_count": 1,
   "metadata": {},
   "outputs": [
    {
     "name": "stderr",
     "output_type": "stream",
     "text": [
      "── \u001b[1mAttaching packages\u001b[22m ─────────────────────────────────────── tidyverse 1.3.0 ──\n",
      "\n",
      "\u001b[32m✔\u001b[39m \u001b[34mggplot2\u001b[39m 3.3.2     \u001b[32m✔\u001b[39m \u001b[34mpurrr  \u001b[39m 0.3.4\n",
      "\u001b[32m✔\u001b[39m \u001b[34mtibble \u001b[39m 3.0.4     \u001b[32m✔\u001b[39m \u001b[34mdplyr  \u001b[39m 1.0.2\n",
      "\u001b[32m✔\u001b[39m \u001b[34mtidyr  \u001b[39m 1.1.2     \u001b[32m✔\u001b[39m \u001b[34mstringr\u001b[39m 1.4.0\n",
      "\u001b[32m✔\u001b[39m \u001b[34mreadr  \u001b[39m 1.4.0     \u001b[32m✔\u001b[39m \u001b[34mforcats\u001b[39m 0.5.0\n",
      "\n",
      "── \u001b[1mConflicts\u001b[22m ────────────────────────────────────────── tidyverse_conflicts() ──\n",
      "\u001b[31m✖\u001b[39m \u001b[34mdplyr\u001b[39m::\u001b[32mfilter()\u001b[39m masks \u001b[34mstats\u001b[39m::filter()\n",
      "\u001b[31m✖\u001b[39m \u001b[34mdplyr\u001b[39m::\u001b[32mlag()\u001b[39m    masks \u001b[34mstats\u001b[39m::lag()\n",
      "\n",
      "Loading required package: BiocGenerics\n",
      "\n",
      "Loading required package: parallel\n",
      "\n",
      "\n",
      "Attaching package: ‘BiocGenerics’\n",
      "\n",
      "\n",
      "The following objects are masked from ‘package:parallel’:\n",
      "\n",
      "    clusterApply, clusterApplyLB, clusterCall, clusterEvalQ,\n",
      "    clusterExport, clusterMap, parApply, parCapply, parLapply,\n",
      "    parLapplyLB, parRapply, parSapply, parSapplyLB\n",
      "\n",
      "\n",
      "The following objects are masked from ‘package:dplyr’:\n",
      "\n",
      "    combine, intersect, setdiff, union\n",
      "\n",
      "\n",
      "The following object is masked from ‘package:pavian’:\n",
      "\n",
      "    normalize\n",
      "\n",
      "\n",
      "The following objects are masked from ‘package:stats’:\n",
      "\n",
      "    IQR, mad, sd, var, xtabs\n",
      "\n",
      "\n",
      "The following objects are masked from ‘package:base’:\n",
      "\n",
      "    anyDuplicated, append, as.data.frame, basename, cbind, colnames,\n",
      "    dirname, do.call, duplicated, eval, evalq, Filter, Find, get, grep,\n",
      "    grepl, intersect, is.unsorted, lapply, Map, mapply, match, mget,\n",
      "    order, paste, pmax, pmax.int, pmin, pmin.int, Position, rank,\n",
      "    rbind, Reduce, rownames, sapply, setdiff, sort, table, tapply,\n",
      "    union, unique, unsplit, which, which.max, which.min\n",
      "\n",
      "\n",
      "Loading required package: BiocParallel\n",
      "\n",
      "Loading required package: Biostrings\n",
      "\n",
      "Loading required package: S4Vectors\n",
      "\n",
      "Loading required package: stats4\n",
      "\n",
      "\n",
      "Attaching package: ‘S4Vectors’\n",
      "\n",
      "\n",
      "The following objects are masked from ‘package:dplyr’:\n",
      "\n",
      "    first, rename\n",
      "\n",
      "\n",
      "The following object is masked from ‘package:tidyr’:\n",
      "\n",
      "    expand\n",
      "\n",
      "\n",
      "The following object is masked from ‘package:base’:\n",
      "\n",
      "    expand.grid\n",
      "\n",
      "\n",
      "Loading required package: IRanges\n",
      "\n",
      "\n",
      "Attaching package: ‘IRanges’\n",
      "\n",
      "\n",
      "The following objects are masked from ‘package:dplyr’:\n",
      "\n",
      "    collapse, desc, slice\n",
      "\n",
      "\n",
      "The following object is masked from ‘package:purrr’:\n",
      "\n",
      "    reduce\n",
      "\n",
      "\n",
      "Loading required package: XVector\n",
      "\n",
      "\n",
      "Attaching package: ‘XVector’\n",
      "\n",
      "\n",
      "The following object is masked from ‘package:purrr’:\n",
      "\n",
      "    compact\n",
      "\n",
      "\n",
      "\n",
      "Attaching package: ‘Biostrings’\n",
      "\n",
      "\n",
      "The following object is masked from ‘package:base’:\n",
      "\n",
      "    strsplit\n",
      "\n",
      "\n",
      "Loading required package: Rsamtools\n",
      "\n",
      "Loading required package: GenomeInfoDb\n",
      "\n",
      "Loading required package: GenomicRanges\n",
      "\n",
      "Loading required package: GenomicAlignments\n",
      "\n",
      "Loading required package: SummarizedExperiment\n",
      "\n",
      "Loading required package: Biobase\n",
      "\n",
      "Welcome to Bioconductor\n",
      "\n",
      "    Vignettes contain introductory material; view with\n",
      "    'browseVignettes()'. To cite Bioconductor, see\n",
      "    'citation(\"Biobase\")', and for packages 'citation(\"pkgname\")'.\n",
      "\n",
      "\n",
      "Loading required package: DelayedArray\n",
      "\n",
      "Loading required package: matrixStats\n",
      "\n",
      "\n",
      "Attaching package: ‘matrixStats’\n",
      "\n",
      "\n",
      "The following objects are masked from ‘package:Biobase’:\n",
      "\n",
      "    anyMissing, rowMedians\n",
      "\n",
      "\n",
      "The following object is masked from ‘package:dplyr’:\n",
      "\n",
      "    count\n",
      "\n",
      "\n",
      "\n",
      "Attaching package: ‘DelayedArray’\n",
      "\n",
      "\n",
      "The following objects are masked from ‘package:matrixStats’:\n",
      "\n",
      "    colMaxs, colMins, colRanges, rowMaxs, rowMins, rowRanges\n",
      "\n",
      "\n",
      "The following object is masked from ‘package:purrr’:\n",
      "\n",
      "    simplify\n",
      "\n",
      "\n",
      "The following objects are masked from ‘package:base’:\n",
      "\n",
      "    aperm, apply, rowsum\n",
      "\n",
      "\n",
      "\n",
      "Attaching package: ‘GenomicAlignments’\n",
      "\n",
      "\n",
      "The following object is masked from ‘package:dplyr’:\n",
      "\n",
      "    last\n",
      "\n",
      "\n",
      "\n",
      "Attaching package: ‘ShortRead’\n",
      "\n",
      "\n",
      "The following object is masked from ‘package:dplyr’:\n",
      "\n",
      "    id\n",
      "\n",
      "\n",
      "The following object is masked from ‘package:purrr’:\n",
      "\n",
      "    compose\n",
      "\n",
      "\n",
      "The following object is masked from ‘package:tibble’:\n",
      "\n",
      "    view\n",
      "\n",
      "\n",
      "\n",
      "\u001b[36m──\u001b[39m \u001b[1m\u001b[1mColumn specification\u001b[1m\u001b[22m \u001b[36m────────────────────────────────────────────────────────\u001b[39m\n",
      "cols(\n",
      "  X1 = \u001b[31mcol_character()\u001b[39m,\n",
      "  X2 = \u001b[31mcol_character()\u001b[39m,\n",
      "  X3 = \u001b[32mcol_double()\u001b[39m,\n",
      "  X4 = \u001b[31mcol_character()\u001b[39m,\n",
      "  X5 = \u001b[31mcol_character()\u001b[39m\n",
      ")\n",
      "\n",
      "\n",
      "Joining, by = \"taxID\"\n",
      "\n",
      "Joining, by = \"readid\"\n",
      "\n",
      "Joining, by = \"readid\"\n",
      "\n"
     ]
    }
   ],
   "source": [
    "library(pavian)\n",
    "library(tidyverse)\n",
    "library(ShortRead)\n",
    "\n",
    "setwd('/data/sn/Benha/resistome')\n",
    "\n",
    "bact = read_report2('K8.rpt') %>% tibble() %>% filter(str_detect(taxLineage, 'd_Bacteria'))\n",
    "\n",
    "kraken = read_tsv('K8.kraken', col_names=F) %>% dplyr::rename(readid=2,taxID=3)\n",
    "\n",
    "bact_reads = inner_join(kraken, bact)\n",
    "\n",
    "fr = readFastq('K8_trim_1.fq')\n",
    "rr = readFastq('K8_trim_2.fq')\n",
    "\n",
    "tabf = id(fr) %>% data.frame() %>% tibble() %>% dplyr::rename(read=1) %>% \n",
    "        mutate(id=1:dim(.)[1]) %>% separate(read, c('readid', 'extra'), ' ')\n",
    "tabr = id(rr) %>% data.frame() %>% tibble() %>% dplyr::rename(read=1) %>% \n",
    "        mutate(id=1:dim(.)[1]) %>% separate(read, c('readid', 'extra'), ' ')\n",
    "\n",
    "writeFastq(fr[inner_join(bact_reads, tabf) %>% pull(id)], file='K8_trim_bact_1.fq', compress=F)\n",
    "writeFastq(rr[inner_join(bact_reads, tabr) %>% pull(id)], file='K8_trim_bact_2.fq', compress=F)\n"
   ]
  },
  {
   "cell_type": "code",
   "execution_count": 1,
   "metadata": {},
   "outputs": [
    {
     "name": "stdout",
     "output_type": "stream",
     "text": [
      "total 736M\n",
      "-rw-rw-r-- 1 sn sn  39M Oct 25 08:53 K8.kraken\n",
      "-rw-rw-r-- 1 sn sn  53K Oct 25 08:53 K8.rpt\n",
      "-rw-r--r-- 1 sn sn 162M Oct 25 08:41 K8_1.fastq\n",
      "-rw-rw-r-- 1 sn sn 665K Oct 25 08:48 K8_1_fastqc.html\n",
      "-rw-rw-r-- 1 sn sn 353K Oct 25 08:48 K8_1_fastqc.zip\n",
      "-rw-r--r-- 1 sn sn 166M Oct 25 08:45 K8_2.fastq\n",
      "-rw-rw-r-- 1 sn sn 654K Oct 25 08:48 K8_2_fastqc.html\n",
      "-rw-rw-r-- 1 sn sn 395K Oct 25 08:48 K8_2_fastqc.zip\n",
      "-rw-rw-r-- 1 sn sn  91M Oct 25 08:48 K8_trim_1.fq\n",
      "-rw-rw-r-- 1 sn sn  35M Oct 25 08:48 K8_trim_1_un.fq\n",
      "-rw-rw-r-- 1 sn sn  78M Oct 25 08:48 K8_trim_2.fq\n",
      "-rw-rw-r-- 1 sn sn 2.0M Oct 25 08:48 K8_trim_2_un.fq\n",
      "-rw-rw-r-- 1 sn sn  87M Oct 25 09:25 K8_trim_bact_1.fq\n",
      "-rw-rw-r-- 1 sn sn  75M Oct 25 09:25 K8_trim_bact_2.fq\n",
      "drwxrwxr-x 2 sn sn    7 Oct 25 08:48 multiqc_data\n",
      "-rw-rw-r-- 1 sn sn 1.2M Oct 25 08:48 multiqc_report.html\n"
     ]
    }
   ],
   "source": [
    "%%bash\n",
    "\n",
    "cd /data/sn/Benha/resistome\n",
    "\n",
    "ls -lh"
   ]
  },
  {
   "cell_type": "code",
   "execution_count": 2,
   "metadata": {},
   "outputs": [
    {
     "name": "stderr",
     "output_type": "stream",
     "text": [
      "2020-10-25 09:27:36 - MEGAHIT v1.2.9\n",
      "2020-10-25 09:27:36 - Using megahit_core with POPCNT and BMI2 support\n",
      "2020-10-25 09:27:36 - Convert reads to binary library\n",
      "2020-10-25 09:27:39 - INFO  sequence/io/sequence_lib.cpp  :   77 - Lib 0 (/data/sn/Benha/resistome/K8_trim_bact_1.fq,/data/sn/Benha/resistome/K8_trim_bact_2.fq): pe, 349428 reads, 251 max length\n",
      "2020-10-25 09:27:39 - INFO  utils/utils.h                 :  152 - Real: 3.1676\tuser: 3.0500\tsys: 0.1199\tmaxrss: 43268\n",
      "2020-10-25 09:27:39 - k-max reset to: 141 \n",
      "2020-10-25 09:27:39 - Start assembly. Number of CPU threads 38 \n",
      "2020-10-25 09:27:39 - k list: 21,29,39,59,79,99,119,141 \n",
      "2020-10-25 09:27:39 - Memory used: 243343956787\n",
      "2020-10-25 09:27:39 - Extract solid (k+1)-mers for k = 21 \n",
      "2020-10-25 09:27:46 - Build graph for k = 21 \n",
      "2020-10-25 09:27:56 - Assemble contigs from SdBG for k = 21\n",
      "2020-10-25 09:28:05 - Local assembly for k = 21\n",
      "2020-10-25 09:28:20 - Extract iterative edges from k = 21 to 29 \n",
      "2020-10-25 09:28:23 - Build graph for k = 29 \n",
      "2020-10-25 09:28:29 - Assemble contigs from SdBG for k = 29\n",
      "2020-10-25 09:28:39 - Local assembly for k = 29\n",
      "2020-10-25 09:28:51 - Extract iterative edges from k = 29 to 39 \n",
      "2020-10-25 09:28:54 - Build graph for k = 39 \n",
      "2020-10-25 09:28:58 - Assemble contigs from SdBG for k = 39\n",
      "2020-10-25 09:29:08 - Local assembly for k = 39\n",
      "2020-10-25 09:29:22 - Extract iterative edges from k = 39 to 59 \n",
      "2020-10-25 09:29:24 - Build graph for k = 59 \n",
      "2020-10-25 09:29:28 - Assemble contigs from SdBG for k = 59\n",
      "2020-10-25 09:29:37 - Local assembly for k = 59\n",
      "2020-10-25 09:29:51 - Extract iterative edges from k = 59 to 79 \n",
      "2020-10-25 09:29:53 - Build graph for k = 79 \n",
      "2020-10-25 09:29:56 - Assemble contigs from SdBG for k = 79\n",
      "2020-10-25 09:30:05 - Local assembly for k = 79\n",
      "2020-10-25 09:30:18 - Extract iterative edges from k = 79 to 99 \n",
      "2020-10-25 09:30:20 - Build graph for k = 99 \n",
      "2020-10-25 09:30:23 - Assemble contigs from SdBG for k = 99\n",
      "2020-10-25 09:30:32 - Local assembly for k = 99\n",
      "2020-10-25 09:30:46 - Extract iterative edges from k = 99 to 119 \n",
      "2020-10-25 09:30:48 - Build graph for k = 119 \n",
      "2020-10-25 09:30:51 - Assemble contigs from SdBG for k = 119\n",
      "2020-10-25 09:30:59 - Local assembly for k = 119\n",
      "2020-10-25 09:31:13 - Extract iterative edges from k = 119 to 141 \n",
      "2020-10-25 09:31:14 - Build graph for k = 141 \n",
      "2020-10-25 09:31:17 - Assemble contigs from SdBG for k = 141\n",
      "2020-10-25 09:31:25 - Merging to output final contigs \n",
      "2020-10-25 09:31:25 - 7513 contigs, total 10908676 bp, min 202 bp, max 49801 bp, avg 1451 bp, N50 3290 bp\n",
      "2020-10-25 09:31:25 - ALL DONE. Time elapsed: 228.679106 seconds \n"
     ]
    }
   ],
   "source": [
    "%%bash \n",
    "\n",
    "cd /data/sn/Benha/resistome\n",
    "\n",
    "export PATH=/data/tools/megahit/build:$PATH\n",
    "\n",
    "for f in *_bact_1.fq\n",
    "do  \n",
    "  r=${f/'_1'/'_2'}\n",
    "  o=${f/'_trim_bact_1.fq'/''}\n",
    "  d=\"megahit_\"$o\n",
    "  if [ ! -d $d ] \n",
    "  then\n",
    "    megahit -t 38 -1 $f -2 $r -o $d\n",
    "  fi\n",
    "done\n"
   ]
  },
  {
   "cell_type": "code",
   "execution_count": 4,
   "metadata": {},
   "outputs": [
    {
     "name": "stdout",
     "output_type": "stream",
     "text": [
      "total 11M\n",
      "-rw-rw-r-- 1 sn sn  262 Oct 25 09:31 checkpoints.txt\n",
      "-rw-rw-r-- 1 sn sn    0 Oct 25 09:31 done\n",
      "-rw-rw-r-- 1 sn sn  11M Oct 25 09:31 final.contigs.fa\n",
      "drwxrwxr-x 2 sn sn   80 Oct 25 09:31 intermediate_contigs\n",
      "-rw-rw-r-- 1 sn sn 128K Oct 25 09:31 log\n",
      "-rw-rw-r-- 1 sn sn  895 Oct 25 09:27 options.json\n"
     ]
    }
   ],
   "source": [
    "%%bash \n",
    "\n",
    "cd /data/sn/Benha/resistome/megahit_K8\n",
    "\n",
    "ls -lh"
   ]
  },
  {
   "cell_type": "code",
   "execution_count": 6,
   "metadata": {},
   "outputs": [
    {
     "name": "stdout",
     "output_type": "stream",
     "text": [
      ">k141_3199 flag=1 multi=2.0000 len=309\n",
      "CTGCCGATGCGCGCTGGCGGACCAAAGCTGGTATTCAAACGGCAGGGCCGCGGTATTTTGGCTTTGATTATGATTATCAGCCAGTAGAAGACTTGGTGGCCAAGGCGGACTGAGGTTTTGATGAGCGGCGGATAAGTACCTTCTTCCGCACTGACTTGAACACTCACAAATAGGGGGATTTCCATGTATCGATTAGGAATTGACGTCGGCGGCACCAATACCGATGCCATCATTTTGGATGATCAGCAGCATGTCATCAATTCAGTTAAACGGCACACAACTAAGGATATTCAAACCGGCATTACGAAC\n",
      ">k141_5189 flag=1 multi=3.0000 len=308\n",
      "CTATTCCTAAAACTATTATCGTTGGCCAAAATGATTTTTTAACTCTAGATTCAAAACCTCTACCCATTGCAATTAGCAAGAAAGCAAATATCACGTCTGTCATTTGATGTAAGAATAAAAATGTTAACGGATATAACTTGACCAGAATAAAGTTAGAAAAAGCAAAACTTGGAACAGCTGCTTCTATTAACATTATTATGCCAGATGCATACATAAAAATTGTAATTAATATATGAGCCGTTTTTTGTAATAATGCACTTGGAATACCATCGAAGTACTCATTCACTTTATTACCTAGAGTATGCACA\n",
      ">k141_4592 flag=1 multi=2.0000 len=322\n",
      "TCTCTCGGCTCTCAGATTACGGGAACTACCAGTCAAAAAGAGGATTCTGCGAGCCTTGCGCTCCGGCGGTGAACGGCAAATGAAAGCAGTGCGAAGGTGAGGTTACTCACAGCGAACATCCGTGCCGGCAGCGAAGAAAACCACTATCCTTAAGAGTGGAACAACACGTCGTACTCATACCCATGAAAGGATTCGACATGGCAGTCATCACTCCGGAAATCAAGGAATTCATCCAGAACAACCTCGGCTGGATCACCACCATCTCCAAGGACGGCGAACTAGATCTCGGCCCGAAGATGTCCCTGTTCGTGCTGGACGACAC\n",
      ">k141_6582 flag=1 multi=3.0000 len=339\n",
      "CTTCCCGATTGGCACCCCATCTACTTCAACGGTATCATGCGGTCCGATCTTGATGCCCATTTCTGTCGTAACGTGACCGTTAACTTTAACGTGGCCAGATGCGATGAGTGTTTCTGCATGTCGCCGTGATGCAATACCGGCGTTGGCAATGACTTTTTGCAGTCGTTCATTTTTGGTTGTCATGTTGTTGGTTTTGCTCCATTTTCTTATCATCTTCAGCCGTTTGTGACTGATCATCATCGCGAAATGCCGTAAAGAGATCGACTTCTCCTGTATCCTCAGGTGCATCGGCTAGTGGCGGCAAGTCGGCCAATTGATTGAGGCCAAAATAATCCAGGA\n",
      ">k141_2600 flag=1 multi=3.0000 len=320\n",
      "TAAAGCCGTTTGTTCTCCTTTTTCCCGGCTTGCCTCGAGCGCCTGTTTGACTTGTGCCCCCACATCCTTGATCCGGTCCGGATTTTCGGTGTATTGTTGGGATAAATAATGCAACACTTCTTTAAAACCGGGCATCCCATACCGGCTTTCCCGCGGAAAATAGGTTCCGGCATAAAAAGGGACCTTCTCCGGCGTCAAAAATACGCTCAACGGCCAGCCGCCCTGCCCGGTCATCATTTGGCAAACAAGCATATAAATGGCATCAATATCCGGCCGCTCTTCCCTGTCCACCTTAATCGCCACAAATTTCTCATTCAGGA\n"
     ]
    }
   ],
   "source": [
    "%%bash \n",
    "\n",
    "cd /data/sn/Benha/resistome/megahit_K8\n",
    "\n",
    "head final.contigs.fa"
   ]
  },
  {
   "cell_type": "code",
   "execution_count": 5,
   "metadata": {},
   "outputs": [
    {
     "name": "stdout",
     "output_type": "stream",
     "text": [
      "total 60M\n",
      "-rw-rw-r-- 1 sn sn  262 Oct 25 09:31 checkpoints.txt\n",
      "-rw-rw-r-- 1 sn sn    0 Oct 25 09:31 done\n",
      "-rw-rw-r-- 1 sn sn  11M Oct 25 09:31 final.contigs.fa\n",
      "drwxrwxr-x 2 sn sn   80 Oct 25 09:31 intermediate_contigs\n",
      "-rw-rw-r-- 1 sn sn 128K Oct 25 09:31 log\n",
      "-rw-rw-r-- 1 sn sn  895 Oct 25 09:27 options.json\n",
      "-rw-rw-r-- 1 sn sn 5.5M Oct 25 09:48 orfs.draft\n",
      "-rw-rw-r-- 1 sn sn  35M Oct 25 09:48 orfs.tab\n",
      "-rw-rw-r-- 1 sn sn  11M Oct 25 09:48 orfs_nuc.fsa\n",
      "-rw-rw-r-- 1 sn sn 4.8M Oct 25 09:48 orfs_prt.fsa\n"
     ]
    }
   ],
   "source": [
    "%%bash\n",
    "\n",
    "cd /data/sn/Benha/resistome/megahit_K8\n",
    "\n",
    "export PATH=$PATH:/data/tools/Prodigal  \n",
    "\n",
    "prodigal -q -m -n -p meta \\\n",
    " -i final.contigs.fa \\\n",
    " -a orfs_prt.fsa \\\n",
    " -d orfs_nuc.fsa \\\n",
    " -o orfs.draft \\\n",
    " -s orfs.tab\n",
    " \n",
    "sed -i 's/*//g' *_prt.fsa\n",
    "\n",
    "ls -lh"
   ]
  },
  {
   "cell_type": "code",
   "execution_count": 8,
   "metadata": {},
   "outputs": [
    {
     "name": "stdout",
     "output_type": "stream",
     "text": [
      ">k141_3199_1 # 3 # 113 # 1 # ID=1_1;partial=10;start_type=Edge;rbs_motif=None;rbs_spacer=None;gc_cont=0.550\n",
      "GCCGATGCGCGCTGGCGGACCAAAGCTGGTATTCAAACGGCAGGGCCGCGGTATTTTGGCTTTGATTATG\n",
      "ATTATCAGCCAGTAGAAGACTTGGTGGCCAAGGCGGACTGA\n",
      ">k141_3199_2 # 184 # 309 # 1 # ID=1_2;partial=01;start_type=ATG;rbs_motif=AGxAGG/AGGxGG;rbs_spacer=5-10bp;gc_cont=0.437\n",
      "ATGTATCGATTAGGAATTGACGTCGGCGGCACCAATACCGATGCCATCATTTTGGATGATCAGCAGCATG\n",
      "TCATCAATTCAGTTAAACGGCACACAACTAAGGATATTCAAACCGGCATTACGAAC\n",
      ">k141_5189_1 # 2 # 307 # -1 # ID=2_1;partial=11;start_type=Edge;rbs_motif=None;rbs_spacer=None;gc_cont=0.304\n",
      "GTGCATACTCTAGGTAATAAAGTGAATGAGTACTTCGATGGTATTCCAAGTGCATTATTACAAAAAACGG\n",
      "CTCATATATTAATTACAATTTTTATGTATGCATCTGGCATAATAATGTTAATAGAAGCAGCTGTTCCAAG\n",
      "TTTTGCTTTTTCTAACTTTATTCTGGTCAAGTTATATCCGTTAACATTTTTATTCTTACATCAAATGACA\n"
     ]
    }
   ],
   "source": [
    "%%bash\n",
    "\n",
    "cd /data/sn/Benha/resistome/megahit_K8\n",
    "\n",
    "head orfs_nuc.fsa"
   ]
  },
  {
   "cell_type": "code",
   "execution_count": 9,
   "metadata": {},
   "outputs": [
    {
     "name": "stdout",
     "output_type": "stream",
     "text": [
      ">k141_3199_1 # 3 # 113 # 1 # ID=1_1;partial=10;start_type=Edge;rbs_motif=None;rbs_spacer=None;gc_cont=0.550\n",
      "ADARWRTKAGIQTAGPRYFGFDYDYQPVEDLVAKAD\n",
      ">k141_3199_2 # 184 # 309 # 1 # ID=1_2;partial=01;start_type=ATG;rbs_motif=AGxAGG/AGGxGG;rbs_spacer=5-10bp;gc_cont=0.437\n",
      "MYRLGIDVGGTNTDAIILDDQQHVINSVKRHTTKDIQTGITN\n",
      ">k141_5189_1 # 2 # 307 # -1 # ID=2_1;partial=11;start_type=Edge;rbs_motif=None;rbs_spacer=None;gc_cont=0.304\n",
      "VHTLGNKVNEYFDGIPSALLQKTAHILITIFMYASGIIMLIEAAVPSFAFSNFILVKLYP\n",
      "LTFLFLHQMTDVIFAFLLIAMGRGFESRVKKSFWPTIIVLGI\n",
      ">k141_4592_1 # 198 # 320 # 1 # ID=3_1;partial=01;start_type=ATG;rbs_motif=AGGA;rbs_spacer=5-10bp;gc_cont=0.545\n",
      "MAVITPEIKEFIQNNLGWITTISKDGELDLGPKMSLFVLDD\n",
      ">k141_6582_1 # 1 # 183 # -1 # ID=4_1;partial=10;start_type=ATG;rbs_motif=None;rbs_spacer=None;gc_cont=0.481\n"
     ]
    }
   ],
   "source": [
    "%%bash\n",
    "\n",
    "cd /data/sn/Benha/resistome/megahit_K8\n",
    "\n",
    "head orfs_prt.fsa"
   ]
  },
  {
   "cell_type": "code",
   "execution_count": 10,
   "metadata": {},
   "outputs": [],
   "source": [
    "%%bash\n",
    "\n",
    "cd /data/sn/Benha/resistome/megahit_K8\n",
    "\n",
    "export PATH=$PATH:/data/tools/rgi-5.1.1\n",
    "export PATH=$PATH:/data/tools/DIAMONDv2.0.4\n",
    "    \n",
    "rgi load \\\n",
    "  --card_json /data/dbs/CARD/broadstreet-v3.1.0/card.json \\\n",
    "  --local\n",
    "\n",
    "rgi main --input_sequence orfs_prt.fsa \\\n",
    "  --input_type protein \\\n",
    "  --output_file res_DIAMOND_pr \\\n",
    "  --local \\\n",
    "  -n 38\n"
   ]
  },
  {
   "cell_type": "code",
   "execution_count": 11,
   "metadata": {},
   "outputs": [
    {
     "name": "stdout",
     "output_type": "stream",
     "text": [
      "total 262M\n",
      "-rw-rw-r-- 1 sn sn  262 Oct 25 09:31 checkpoints.txt\n",
      "-rw-rw-r-- 1 sn sn    0 Oct 25 09:31 done\n",
      "-rw-rw-r-- 1 sn sn  11M Oct 25 09:31 final.contigs.fa\n",
      "drwxrwxr-x 2 sn sn   80 Oct 25 09:31 intermediate_contigs\n",
      "drwxrwxr-x 2 sn sn   12 Oct 25 10:01 localDB\n",
      "-rw-rw-r-- 1 sn sn 128K Oct 25 09:31 log\n",
      "-rw-rw-r-- 1 sn sn  895 Oct 25 09:27 options.json\n",
      "-rw-rw-r-- 1 sn sn 5.5M Oct 25 09:48 orfs.draft\n",
      "-rw-rw-r-- 1 sn sn  35M Oct 25 09:48 orfs.tab\n",
      "-rw-rw-r-- 1 sn sn  11M Oct 25 09:48 orfs_nuc.fsa\n",
      "-rw-rw-r-- 1 sn sn 4.8M Oct 25 09:48 orfs_prt.fsa\n",
      "-rw-rw-r-- 1 sn sn 192M Oct 25 10:02 orfs_prt.fsa.temp.blastRes.xml\n",
      "-rw-rw-r-- 1 sn sn 802K Oct 25 10:02 orfs_prt.fsa.temp.homolog.json\n",
      "-rw-rw-r-- 1 sn sn    2 Oct 25 10:02 orfs_prt.fsa.temp.overexpression.json\n",
      "-rw-rw-r-- 1 sn sn 5.7K Oct 25 10:02 orfs_prt.fsa.temp.variant.json\n",
      "-rw-rw-r-- 1 sn sn 808K Oct 25 10:02 res_DIAMOND_pr.json\n",
      "-rw-rw-r-- 1 sn sn  14K Oct 25 10:02 res_DIAMOND_pr.txt\n"
     ]
    }
   ],
   "source": [
    "%%bash\n",
    "\n",
    "cd /data/sn/Benha/resistome/megahit_K8\n",
    "\n",
    "ls -lh"
   ]
  },
  {
   "cell_type": "code",
   "execution_count": 12,
   "metadata": {},
   "outputs": [
    {
     "name": "stdout",
     "output_type": "stream",
     "text": [
      "ORF_ID\tContig\tStart\tStop\tOrientation\tCut_Off\tPass_Bitscore\tBest_Hit_Bitscore\tBest_Hit_ARO\tBest_Identities\tARO\tModel_type\tSNPs_in_Best_Hit_ARO\tOther_SNPs\tDrug Class\tResistance Mechanism\tAMR Gene Family\tPredicted_DNA\tPredicted_Protein\tCARD_Protein_Sequence\tPercentage Length of Reference Sequence\tID\tModel_ID\tNudged\tNote\r\n",
      "k141_1216_4 # 2975 # 3148 # -1 # ID=664_4;partial=01;start_type=Edge;rbs_motif=None;rbs_spacer=None;gc_cont=0.466\t\t\t\t\tStrict\t500\t21.1718\tOXA-168\t100.0\t3001468\tprotein homolog model\tn/a\tn/a\tcephalosporin; penam\tantibiotic inactivation\tOXA beta-lactamase\t\tNLKPGDLVFFHTYSKGVSHVAIYIGHNQVIHSVSQGVKIDSLSNPYWKPRYVGAKRL\tMNKYFTCYVVASLFLSGCTVQHNLINETPSQIVQGHNQVIHQYFDEKNTSGVLVIQTDKKINLYGNALSRANTEYVPASTFKMLNALIGLENQKTDINEIFKWKGEKRSFTAWEKDMTLGEAMKLSAVPVYQELARRIGLDLMQKEVKRIGFGNAEIGQQVDNFWLVGPLKVTPIQEVEFVSQLAHTQLPFSEKVQANVKNMLLLEESNGYKIFGKTGWAMDIKPQVGWLAGWVEQPDGKIVAFALNMEMRSEMPASIRNELLMKSLKQLNII\t20.88\tgnl|BL_ORD_ID|1703|hsp_num:0\t1802\tTrue\tloose hit with at least 95 percent identity pushed strict\r\n",
      "k141_613_26 # 27526 # 28446 # 1 # ID=1322_26;partial=00;start_type=ATG;rbs_motif=GGA/GAG/AGG;rbs_spacer=5-10bp;gc_cont=0.471\t\t\t\t\tStrict\t500\t524.628\tmphK\t80.72\t3004541\tprotein homolog model\tn/a\tn/a\tmacrolide antibiotic\tantibiotic inactivation\tmacrolide phosphotransferase (MPH)\t\tMTNQNDMQLITETVALARNQGLAVHSENAKLNETGMDFQVVFVEDDTGMPWVLRKPRRSDVVERAASEGRTLAFLRTVLTADVPDWKIHTPELIAYPMLKGTPAAGIDLEQKQYVWNMNHQPPSDHFIRTLAEILAELHGVNPADACQSGIKVMSPEEVRRNTVESMDDVKNKLGVSEQLWQRWQTWINDDAYWPGFSALIHGDLHPAHILIGQNEHVTGLLDWTESKVADPAKDFIFYQMLFGEEETARLLEYYSQAGGRIWAKMQEHIAEMQAAYPLEVAKFALQTQQEEHINMALEALGVKSD\tMTNLNEKQLITEIVGLARSQGLTVHSENAQLNETGMDFQVVFAKDDTGMPWVLRKPRRSDVVERASAEGITLAFLRANLTADVPDWRIHTPELIAYPMLKGTPAAGIDLEQKQYVWNMDHQPPSDDFVRTLADILAELHGTDQISAGQSGIEVIRPEDFRQMTADSMVDVKNKLGVSTTLWERWQKWVDDDAYWPGFSSLIHGDLHPPHILIDQNGRVTGLLDWTEAKVADPAKDFVLYQTIFGEKETARLLEYYDQAGGRIWAKMQEHISEMQAAYPVEIAKLALQTQQEEHINMALEALGVTSD\t100.00\tgnl|BL_ORD_ID|2752|hsp_num:0\t3217\t\t\r\n",
      "k141_2024_17 # 15429 # 17054 # 1 # ID=2057_17;partial=00;start_type=ATG;rbs_motif=GGAG/GAGG;rbs_spacer=5-10bp;gc_cont=0.437\t\t\t\t\tStrict\t1000\t1048.11\tvmlR\t94.27\t3004476\tprotein homolog model\tn/a\tn/a\tmacrolide antibiotic; lincosamide antibiotic; streptogramin antibiotic; tetracycline antibiotic; oxazolidinone antibiotic; phenicol antibiotic; pleuromutilin antibiotic\tantibiotic target protection\tABC-F ATP-binding cassette ribosomal protection protein\t\tMKEIVTLTNVSYEVKDLTVFKNVNASVQQGDIIGIIGKNGAGKSTLLHLIHNDLAPAQGQILRQDIKMTMVEQETASYSFADQTPAEKKLLEKWRVPVRDFQQLSGGEKLKARLAKGLSEDADLLLLDEPTNHLDESSLQFLIQQLKSYRGTVILVSHDRYFLDEAATKIWSLEDQTLIEFKGNYSGYMKFREKKRLAQQREYEKQQKMVERIEAQMNELASWSKKAHDQSTKKEGFKEYHRVKAKRTDAQIKSKQKRLEKELEKAKAEPVKPEYTVHFSIDTTKKTGKRFLEVQHITKAFGERTLFKNANFTIQHGEKVAIIGPNGSGKTTLLKIILGQETAEGSVWVSPSANIGYLTQEVFDLPLEQTPEELFDNETYKARGHVQSLMRHLGFTASQWTEPIKHMSMGERVKCKLMAYILEEKDVLILDEPTNHLDLPSREQLEETLSQYSGTLLAVSHDRYFLEKTTNSKLVISDNGIEKQLNDVPTERNEREELRLKLETERQEVLGKLSFMMPNDKGYKELDQAFNELTKRIKELD\tMKEIVTLTNVSYEVKDQTVFKHVNASVQQGDIIGIIGKNGAGKSTLLHLIHNDLAPAQGQILRKDIKLALVEQETAAYSFADQTPAEKKLLEKWHVPLRDFHQLSGGEKLKARLAKGLSEDADLLLLDEPTNHLDEKSLQFLIQQLKHYNGTVILVSHDRYFLDEAATKIWSLEDQTLIEFKGNYSGYMKFREKKRLTQQREYEKQQKMVERIEAQMNGLASWSEKAHAQSTKKEGFKEYHRVKAKRTDAQIKSKQKRLEKELEKAKAEPVTPEYTVRFSIDTTHKTGKRFLEVQNVTKAFGERTLFKNANFTIQHGEKVAIIGPNGSGKTTLLNIILGQETAEGSVWVSPSANIGYLTQEVFDLPLEQTPEELFENETFKARGHVQNLMRHLGFTAAQWTEPIKHMSMGERVKIKLMAYILEEKDVLILDEPTNHLDLPSREQLEETLSQYSGTLLAVSHDRYFLEKTTNSKLVISNNGIEKQLNDVPSERNEREELRLKLETERQEVLGKLSFMTPNDKGYKELDQAFNELTKRIKELDHQDKKD\t98.90\tgnl|BL_ORD_ID|2645|hsp_num:0\t2907\t\t\r\n",
      "k141_6660_1 # 1 # 309 # 1 # ID=2492_1;partial=11;start_type=Edge;rbs_motif=None;rbs_spacer=None;gc_cont=0.401\t\t\t\t\tStrict\t565\t22.3274\tAAC(3)-IIe\t100.0\t3004621\tprotein homolog model\tn/a\tn/a\taminoglycoside antibiotic\tantibiotic inactivation\tAAC(3)\t\tPTRRSSDLWNDYKSGVIRHDSASVIQDVAISDYKENSSTCAYTSSDGAIRFNKTVMSDLSSKERQYVATHELGHALGLKHHTSSDMMYKYEIARITLNANESA\tMHTRKAITEAIRKFGVQTGDLLMVHASLKAIGPVEGGAETVVAALRSAVGPTGTVMGYASWDRSPYEETLNGARLDDKARRTWPPFDPATAGTYRGFGLLNQFLVQAPGARRSAHPDASMVAVGPLAETLTEPHELGHALGEGSPVERFVRLGGKALLLGAPLNSVTALHYAEAVADIPNKRWVTYEMPMLGRNGEVAWKTASEYDSNGILDCFAIEGKPDAVETIANAYVKLGRHREGVVGFAQCYLFDAQDIVTFGVTYLEKHFGATPIVPAQKAAQRSCEPSG\t36.01\tgnl|BL_ORD_ID|2135|hsp_num:0\t3321\tTrue\tloose hit with at least 95 percent identity pushed strict\r\n",
      "k141_2073_9 # 6556 # 7989 # 1 # ID=4036_9;partial=00;start_type=TTG;rbs_motif=GGAG/GAGG;rbs_spacer=5-10bp;gc_cont=0.487\t\t\t\t\tStrict\t900\t924.08\tlmrB\t97.9\t3002813\tprotein homolog model\tn/a\tn/a\tlincosamide antibiotic\tantibiotic efflux\tATP-binding cassette (ABC) antibiotic efflux pump\t\tMETAAKASQQYKVMPIMISLLLAGFIGMFSETALNIALTDLMKELNITAATVQWLTTGYLLVLGILVPVSGLLLQWFTTRQLFIVSLIFSIIGTLIAALAPSFSFLLAARIVQALGTGLLLPLMFNTILVIFPPHKRGAAMGTIGLVIMFAPAIGPTFSGLVLEHLNWHWIFWISLPFLVLALVFGIAYMQNVSDITKPKIDVLSIILSTIGFGGIVFGFSNAGEGSGGWSSPTVIVSLIVGVVGLILFSIRQLTMKQPMMNLRAFKYPMFILGVIMVFICMMVILSSMLLLPMYLQGGLVLTAFASGLILLPGGILNGFMSPVTGRLFDKYGPKWLVIPGFVIVTVVLWFFSNITTTSTAALIIILHTCLMIGISMIMMPAQTNGLNQLPREFYPDGTAIMNTLQQMAGAIGTAVAVSIMAAGQHDYMSTVKNPADPAVIPQALTAGVQHAFVFAMIVAIIGLIGAFFLKRVKVDH\tMETTAKASQQYKVMPIMISLLLAGFIGMFSETALNIALTDLMKELNITAATVQWLTTGYLLVLGILVPVSGLLLQWFTTRQLFTVSLIFSILGTFIAALAPSFSFLLAARIVQALGTGLLLPLMFNTILVIFPPHKRGAAMGTIGLVIMFAPAIGPTFSGLVLEHLNWHWIFWISLPFLVLALVFGIAYMQNVSETTKPKIDVLSIILSTIGFGGIVFGFSNAGEGSGGWSSPTVIVSLIVGVVGLILFSIRQLTMKQPMMNLRAFKYPMFILGVIMVFICMMVILSSMLLLPMYLQGGLVLTAFASGLVLLPGGILNGFMSPVTGRLFDKYGPKWLVIPGFVIVTVVLWFFSNVTTTSTAVLIIILHTCLMIGISMIMMPAQTNGLNQLPREFYPDGTAIMNTLQQMAGAIGTAVAVSIMAAGQHDYMSTVKNPADPAVIPQALTAGVQHAFVFAMIVAIIGLIGAFFMKRVKVDH\t100.00\tgnl|BL_ORD_ID|554|hsp_num:0\t592\t\t\r\n",
      "k141_5724_4 # 1080 # 1247 # 1 # ID=4399_4;partial=00;start_type=ATG;rbs_motif=AGGAGG;rbs_spacer=5-10bp;gc_cont=0.417\t\t\t\t\tStrict\t700\t20.4014\tvanKI\t100.0\t3003727\tprotein homolog model\tn/a\tn/a\tglycopeptide antibiotic\tantibiotic target alteration\tglycopeptide resistance gene cluster; vanK\t\tMAAYMGQRIIDKAYTYDFVINKRADLKEGIDAYLTEHGQANLITNTGTQQDHTVT\tMLNVDKISEETYYAFISQADLGNFMQYPSWAKVKTEWTSDLLGWFTPDNKLAGCGLILYRKMPCLNRYLAYCPRGPLIDWQSPNLREWFEPLVAYLRSKQVFSIKIDPPVVQAKWSAPTIKTFLGQAREQGSKGKVLRDLPPDEDYTTVQQVQQQLRQMGWRKQRGDTGFAATQPQYVYRLPLEGRSLEEVFAGFHTNWRRNVKKAERLGVKVRVGTEQDLPAFYELLKVTSERDHFKVRSFSYFSNLYRSLKAEAADRIALYLAEDEEELLAATLAVHSNAHSWYLYGASSNVKREKAPNHAIQWRMIQDAYQLKAYTYDFRGISPTLDESDPLFGLLRFKLGFGGEACEMISAWDYPLQPLLYRAFQLYLKRR\t14.67\tgnl|BL_ORD_ID|2092|hsp_num:0\t2245\tTrue\tloose hit with at least 95 percent identity pushed strict\r\n",
      "k141_3702_2 # 266 # 583 # 1 # ID=4678_2;partial=00;start_type=ATG;rbs_motif=AGGAG;rbs_spacer=5-10bp;gc_cont=0.478\t\t\t\t\tStrict\t180\t202.601\tykkD\t96.19\t3003064\tprotein homolog model\tn/a\tn/a\taminoglycoside antibiotic; tetracycline antibiotic; phenicol antibiotic\tantibiotic efflux\tsmall multidrug resistance (SMR) antibiotic efflux pump\t\tMLHWISLLCAGCLEMAGVALMNQYAKEKNVKWVLLIIVGFAASFSLLSYAMETIPMGTAYAVWTGIGTAGGALVGILFYKEPKDAKRIFFIALILCSAVGLKILS\tMLHWISLLCAGCLEMAGVALMNQYAKEKSVKWVLLIIVGFAASFSLLSYAMETTPMGTAYAVWTGIGTAGGALIGILFYKEQKDAKRIFFIALILCSAVGLKILS\t100.00\tgnl|BL_ORD_ID|326|hsp_num:0\t350\t\t\r\n",
      "k141_2755_4 # 1783 # 1851 # 1 # ID=5510_4;partial=01;start_type=ATG;rbs_motif=4Base/6BMM;rbs_spacer=13-15bp;gc_cont=0.493\t\t\t\t\tStrict\t1000\t19.2458\tefpA\t100.0\t3003955\tprotein homolog model\tn/a\tn/a\trifamycin antibiotic; isoniazid\tantibiotic efflux\tmajor facilitator superfamily (MFS) antibiotic efflux pump\t\tMGWMSGIFTRTICVKKLRSFHRK\tMTALNDTERAVRNWTAGRPHRPAPMRPPRSEETASERPSRYYPTWLPSRSFIAAVIAIGGMQLLATMDSTVAIVALPKIQNELSLSDAGRSWVITAYVLTFGGLMLLGGRLGDTIGRKRTFIVGVALFTISSVLCAVAWDEATLVIARLSQGVGSAIASPTGLALVATTFPKGPARNAATAVFAAMTAIGSVMGLVVGGALTEVSWRWAFLVNVPIGLVMIYLARTALRETNKERMKLDATGAILATLACTAAVFAFSIGPEKGWMSGITIGSGLVALAAAVAFVIVERTAENPVVPFHLFRDRNRLVTFSAILLAGGVMFSLTVCIGLYVQDILGYSALRAGVGFIPFVIAMGIGLGVSSQLVSRFSPRVLTIGGGYLLFGAMLYGSFFMHRGVPYFPNLVMPIVVGGIGIGMAVVPLTLSAIAGVGFDQIGPVSAIALMLQSLGGPLVLAVIQAVITSRTLYLGGTTGPVKFMNDVQLAALDHAYTYGLLWVAGAAIIVGGMALFIGYTPQQVAHAQEVKEAIDAGEL\t4.34\tgnl|BL_ORD_ID|2245|hsp_num:0\t2427\tTrue\tloose hit with at least 95 percent identity pushed strict\r\n",
      "k141_7127_1 # 3 # 83 # -1 # ID=6396_1;partial=10;start_type=ATG;rbs_motif=AAAAAA;rbs_spacer=15bp;gc_cont=0.370\t\t\t\t\tStrict\t800\t18.4754\tChlamydia trachomatis intrinsic murA conferring resistance to fosfomycin\t100.0\t3003785\tprotein homolog model\tn/a\tn/a\tfosfomycin\tantibiotic target alteration\tantibiotic-resistant murA transferase\t\tMDEGYWLCLRICLHVFKAVCMFTQTQT\tMPGIKVFGETVLRGSVRVSGAKNATTKLLVASLLSDQRTILKNVPNIEDVRQTVDLCRVLGAIVEWDQQAQVIEIHTPRILLSKVPPQFSCVNRIPILLLGALLRRCPYGIFVPILGGDAIGPRTLHFHLEGWKKLGAEIVISDEGYWASAPNGLVGAHITLPYPSVGATENLILASVGAQGRTIIKNAALEVEIIDLIVFLQKAGVEITTDNDKTIEIFGCQDFYSVEHFIIPDKIEAASFGMAAVVSQGRIFVEQARHEHMIPFLKVLRSIGGGFSVHENGIEFFYDKPLKGGVLLETDVHPGFITDWQQPFAVLLSQSEGCSVIHETVHENRLGYLKGLVKMGAHCDLFHECLSAKSCRYSTGNHPHSAVIHGPTPLQATDLVIPDLRAGFAYVMAALIAEGGASWIENTEMLDRGYTDWRGKLERLGAKVLARDAVSVYV\t6.08\tgnl|BL_ORD_ID|2414|hsp_num:0\t2291\tTrue\tloose hit with at least 95 percent identity pushed strict\r\n"
     ]
    }
   ],
   "source": [
    "%%bash\n",
    "\n",
    "cd /data/sn/Benha/resistome/megahit_K8\n",
    "\n",
    "head res_DIAMOND_pr.txt"
   ]
  },
  {
   "cell_type": "code",
   "execution_count": 2,
   "metadata": {},
   "outputs": [
    {
     "name": "stderr",
     "output_type": "stream",
     "text": [
      "\n",
      "\u001b[36m──\u001b[39m \u001b[1m\u001b[1mColumn specification\u001b[1m\u001b[22m \u001b[36m────────────────────────────────────────────────────────\u001b[39m\n",
      "cols(\n",
      "  .default = col_character(),\n",
      "  Contig = \u001b[33mcol_logical()\u001b[39m,\n",
      "  Start = \u001b[33mcol_logical()\u001b[39m,\n",
      "  Stop = \u001b[33mcol_logical()\u001b[39m,\n",
      "  Orientation = \u001b[33mcol_logical()\u001b[39m,\n",
      "  Pass_Bitscore = \u001b[32mcol_double()\u001b[39m,\n",
      "  Best_Hit_Bitscore = \u001b[32mcol_double()\u001b[39m,\n",
      "  Best_Identities = \u001b[32mcol_double()\u001b[39m,\n",
      "  ARO = \u001b[32mcol_double()\u001b[39m,\n",
      "  Predicted_DNA = \u001b[33mcol_logical()\u001b[39m,\n",
      "  `Percentage Length of Reference Sequence` = \u001b[32mcol_double()\u001b[39m,\n",
      "  Model_ID = \u001b[32mcol_double()\u001b[39m,\n",
      "  Nudged = \u001b[33mcol_logical()\u001b[39m\n",
      ")\n",
      "\u001b[36mℹ\u001b[39m Use \u001b[30m\u001b[47m\u001b[30m\u001b[47m`spec()`\u001b[47m\u001b[30m\u001b[49m\u001b[39m for the full column specifications.\n",
      "\n",
      "\n"
     ]
    },
    {
     "data": {
      "text/html": [
       "<table>\n",
       "<caption>A tibble: 13 × 6</caption>\n",
       "<thead>\n",
       "\t<tr><th scope=col>Best_Hit_ARO</th><th scope=col>Best_Identities</th><th scope=col>Percentage Length of Reference Sequence</th><th scope=col>Drug Class</th><th scope=col>Resistance Mechanism</th><th scope=col>AMR Gene Family</th></tr>\n",
       "\t<tr><th scope=col>&lt;chr&gt;</th><th scope=col>&lt;dbl&gt;</th><th scope=col>&lt;dbl&gt;</th><th scope=col>&lt;chr&gt;</th><th scope=col>&lt;chr&gt;</th><th scope=col>&lt;chr&gt;</th></tr>\n",
       "</thead>\n",
       "<tbody>\n",
       "\t<tr><td>OXA-168                                                                 </td><td>100.00</td><td> 20.88</td><td>cephalosporin; penam                                                                                                                                                    </td><td>antibiotic inactivation           </td><td>OXA beta-lactamase                                        </td></tr>\n",
       "\t<tr><td>mphK                                                                    </td><td> 80.72</td><td>100.00</td><td>macrolide antibiotic                                                                                                                                                    </td><td>antibiotic inactivation           </td><td>macrolide phosphotransferase (MPH)                        </td></tr>\n",
       "\t<tr><td>vmlR                                                                    </td><td> 94.27</td><td> 98.90</td><td>macrolide antibiotic; lincosamide antibiotic; streptogramin antibiotic; tetracycline antibiotic; oxazolidinone antibiotic; phenicol antibiotic; pleuromutilin antibiotic</td><td>antibiotic target protection      </td><td>ABC-F ATP-binding cassette ribosomal protection protein   </td></tr>\n",
       "\t<tr><td>AAC(3)-IIe                                                              </td><td>100.00</td><td> 36.01</td><td>aminoglycoside antibiotic                                                                                                                                               </td><td>antibiotic inactivation           </td><td>AAC(3)                                                    </td></tr>\n",
       "\t<tr><td>lmrB                                                                    </td><td> 97.90</td><td>100.00</td><td>lincosamide antibiotic                                                                                                                                                  </td><td>antibiotic efflux                 </td><td>ATP-binding cassette (ABC) antibiotic efflux pump         </td></tr>\n",
       "\t<tr><td>vanKI                                                                   </td><td>100.00</td><td> 14.67</td><td>glycopeptide antibiotic                                                                                                                                                 </td><td>antibiotic target alteration      </td><td>glycopeptide resistance gene cluster; vanK                </td></tr>\n",
       "\t<tr><td>ykkD                                                                    </td><td> 96.19</td><td>100.00</td><td>aminoglycoside antibiotic; tetracycline antibiotic; phenicol antibiotic                                                                                                 </td><td>antibiotic efflux                 </td><td>small multidrug resistance (SMR) antibiotic efflux pump   </td></tr>\n",
       "\t<tr><td>efpA                                                                    </td><td>100.00</td><td>  4.34</td><td>rifamycin antibiotic; isoniazid                                                                                                                                         </td><td>antibiotic efflux                 </td><td>major facilitator superfamily (MFS) antibiotic efflux pump</td></tr>\n",
       "\t<tr><td>Chlamydia trachomatis intrinsic murA conferring resistance to fosfomycin</td><td>100.00</td><td>  6.08</td><td>fosfomycin                                                                                                                                                              </td><td>antibiotic target alteration      </td><td>antibiotic-resistant murA transferase                     </td></tr>\n",
       "\t<tr><td>tmrB                                                                    </td><td> 89.85</td><td>100.00</td><td>nucleoside antibiotic                                                                                                                                                   </td><td>reduced permeability to antibiotic</td><td>tunicamycin resistance protein                            </td></tr>\n",
       "\t<tr><td>Bacillus subtilis mprF                                                  </td><td> 96.26</td><td>100.00</td><td>peptide antibiotic                                                                                                                                                      </td><td>antibiotic target alteration      </td><td>defensin resistant mprF                                   </td></tr>\n",
       "\t<tr><td>bmr                                                                     </td><td> 95.37</td><td>100.00</td><td>fluoroquinolone antibiotic; nucleoside antibiotic; acridine dye; phenicol antibiotic                                                                                    </td><td>antibiotic efflux                 </td><td>major facilitator superfamily (MFS) antibiotic efflux pump</td></tr>\n",
       "\t<tr><td>Bacillus subtilis pgsA with mutation conferring resistance to daptomycin</td><td> 97.11</td><td> 91.05</td><td>peptide antibiotic                                                                                                                                                      </td><td>antibiotic target alteration      </td><td>daptomycin resistant pgsA                                 </td></tr>\n",
       "</tbody>\n",
       "</table>\n"
      ],
      "text/latex": [
       "A tibble: 13 × 6\n",
       "\\begin{tabular}{llllll}\n",
       " Best\\_Hit\\_ARO & Best\\_Identities & Percentage Length of Reference Sequence & Drug Class & Resistance Mechanism & AMR Gene Family\\\\\n",
       " <chr> & <dbl> & <dbl> & <chr> & <chr> & <chr>\\\\\n",
       "\\hline\n",
       "\t OXA-168                                                                  & 100.00 &  20.88 & cephalosporin; penam                                                                                                                                                     & antibiotic inactivation            & OXA beta-lactamase                                        \\\\\n",
       "\t mphK                                                                     &  80.72 & 100.00 & macrolide antibiotic                                                                                                                                                     & antibiotic inactivation            & macrolide phosphotransferase (MPH)                        \\\\\n",
       "\t vmlR                                                                     &  94.27 &  98.90 & macrolide antibiotic; lincosamide antibiotic; streptogramin antibiotic; tetracycline antibiotic; oxazolidinone antibiotic; phenicol antibiotic; pleuromutilin antibiotic & antibiotic target protection       & ABC-F ATP-binding cassette ribosomal protection protein   \\\\\n",
       "\t AAC(3)-IIe                                                               & 100.00 &  36.01 & aminoglycoside antibiotic                                                                                                                                                & antibiotic inactivation            & AAC(3)                                                    \\\\\n",
       "\t lmrB                                                                     &  97.90 & 100.00 & lincosamide antibiotic                                                                                                                                                   & antibiotic efflux                  & ATP-binding cassette (ABC) antibiotic efflux pump         \\\\\n",
       "\t vanKI                                                                    & 100.00 &  14.67 & glycopeptide antibiotic                                                                                                                                                  & antibiotic target alteration       & glycopeptide resistance gene cluster; vanK                \\\\\n",
       "\t ykkD                                                                     &  96.19 & 100.00 & aminoglycoside antibiotic; tetracycline antibiotic; phenicol antibiotic                                                                                                  & antibiotic efflux                  & small multidrug resistance (SMR) antibiotic efflux pump   \\\\\n",
       "\t efpA                                                                     & 100.00 &   4.34 & rifamycin antibiotic; isoniazid                                                                                                                                          & antibiotic efflux                  & major facilitator superfamily (MFS) antibiotic efflux pump\\\\\n",
       "\t Chlamydia trachomatis intrinsic murA conferring resistance to fosfomycin & 100.00 &   6.08 & fosfomycin                                                                                                                                                               & antibiotic target alteration       & antibiotic-resistant murA transferase                     \\\\\n",
       "\t tmrB                                                                     &  89.85 & 100.00 & nucleoside antibiotic                                                                                                                                                    & reduced permeability to antibiotic & tunicamycin resistance protein                            \\\\\n",
       "\t Bacillus subtilis mprF                                                   &  96.26 & 100.00 & peptide antibiotic                                                                                                                                                       & antibiotic target alteration       & defensin resistant mprF                                   \\\\\n",
       "\t bmr                                                                      &  95.37 & 100.00 & fluoroquinolone antibiotic; nucleoside antibiotic; acridine dye; phenicol antibiotic                                                                                     & antibiotic efflux                  & major facilitator superfamily (MFS) antibiotic efflux pump\\\\\n",
       "\t Bacillus subtilis pgsA with mutation conferring resistance to daptomycin &  97.11 &  91.05 & peptide antibiotic                                                                                                                                                       & antibiotic target alteration       & daptomycin resistant pgsA                                 \\\\\n",
       "\\end{tabular}\n"
      ],
      "text/markdown": [
       "\n",
       "A tibble: 13 × 6\n",
       "\n",
       "| Best_Hit_ARO &lt;chr&gt; | Best_Identities &lt;dbl&gt; | Percentage Length of Reference Sequence &lt;dbl&gt; | Drug Class &lt;chr&gt; | Resistance Mechanism &lt;chr&gt; | AMR Gene Family &lt;chr&gt; |\n",
       "|---|---|---|---|---|---|\n",
       "| OXA-168                                                                  | 100.00 |  20.88 | cephalosporin; penam                                                                                                                                                     | antibiotic inactivation            | OXA beta-lactamase                                         |\n",
       "| mphK                                                                     |  80.72 | 100.00 | macrolide antibiotic                                                                                                                                                     | antibiotic inactivation            | macrolide phosphotransferase (MPH)                         |\n",
       "| vmlR                                                                     |  94.27 |  98.90 | macrolide antibiotic; lincosamide antibiotic; streptogramin antibiotic; tetracycline antibiotic; oxazolidinone antibiotic; phenicol antibiotic; pleuromutilin antibiotic | antibiotic target protection       | ABC-F ATP-binding cassette ribosomal protection protein    |\n",
       "| AAC(3)-IIe                                                               | 100.00 |  36.01 | aminoglycoside antibiotic                                                                                                                                                | antibiotic inactivation            | AAC(3)                                                     |\n",
       "| lmrB                                                                     |  97.90 | 100.00 | lincosamide antibiotic                                                                                                                                                   | antibiotic efflux                  | ATP-binding cassette (ABC) antibiotic efflux pump          |\n",
       "| vanKI                                                                    | 100.00 |  14.67 | glycopeptide antibiotic                                                                                                                                                  | antibiotic target alteration       | glycopeptide resistance gene cluster; vanK                 |\n",
       "| ykkD                                                                     |  96.19 | 100.00 | aminoglycoside antibiotic; tetracycline antibiotic; phenicol antibiotic                                                                                                  | antibiotic efflux                  | small multidrug resistance (SMR) antibiotic efflux pump    |\n",
       "| efpA                                                                     | 100.00 |   4.34 | rifamycin antibiotic; isoniazid                                                                                                                                          | antibiotic efflux                  | major facilitator superfamily (MFS) antibiotic efflux pump |\n",
       "| Chlamydia trachomatis intrinsic murA conferring resistance to fosfomycin | 100.00 |   6.08 | fosfomycin                                                                                                                                                               | antibiotic target alteration       | antibiotic-resistant murA transferase                      |\n",
       "| tmrB                                                                     |  89.85 | 100.00 | nucleoside antibiotic                                                                                                                                                    | reduced permeability to antibiotic | tunicamycin resistance protein                             |\n",
       "| Bacillus subtilis mprF                                                   |  96.26 | 100.00 | peptide antibiotic                                                                                                                                                       | antibiotic target alteration       | defensin resistant mprF                                    |\n",
       "| bmr                                                                      |  95.37 | 100.00 | fluoroquinolone antibiotic; nucleoside antibiotic; acridine dye; phenicol antibiotic                                                                                     | antibiotic efflux                  | major facilitator superfamily (MFS) antibiotic efflux pump |\n",
       "| Bacillus subtilis pgsA with mutation conferring resistance to daptomycin |  97.11 |  91.05 | peptide antibiotic                                                                                                                                                       | antibiotic target alteration       | daptomycin resistant pgsA                                  |\n",
       "\n"
      ],
      "text/plain": [
       "   Best_Hit_ARO                                                            \n",
       "1  OXA-168                                                                 \n",
       "2  mphK                                                                    \n",
       "3  vmlR                                                                    \n",
       "4  AAC(3)-IIe                                                              \n",
       "5  lmrB                                                                    \n",
       "6  vanKI                                                                   \n",
       "7  ykkD                                                                    \n",
       "8  efpA                                                                    \n",
       "9  Chlamydia trachomatis intrinsic murA conferring resistance to fosfomycin\n",
       "10 tmrB                                                                    \n",
       "11 Bacillus subtilis mprF                                                  \n",
       "12 bmr                                                                     \n",
       "13 Bacillus subtilis pgsA with mutation conferring resistance to daptomycin\n",
       "   Best_Identities Percentage Length of Reference Sequence\n",
       "1  100.00           20.88                                 \n",
       "2   80.72          100.00                                 \n",
       "3   94.27           98.90                                 \n",
       "4  100.00           36.01                                 \n",
       "5   97.90          100.00                                 \n",
       "6  100.00           14.67                                 \n",
       "7   96.19          100.00                                 \n",
       "8  100.00            4.34                                 \n",
       "9  100.00            6.08                                 \n",
       "10  89.85          100.00                                 \n",
       "11  96.26          100.00                                 \n",
       "12  95.37          100.00                                 \n",
       "13  97.11           91.05                                 \n",
       "   Drug Class                                                                                                                                                              \n",
       "1  cephalosporin; penam                                                                                                                                                    \n",
       "2  macrolide antibiotic                                                                                                                                                    \n",
       "3  macrolide antibiotic; lincosamide antibiotic; streptogramin antibiotic; tetracycline antibiotic; oxazolidinone antibiotic; phenicol antibiotic; pleuromutilin antibiotic\n",
       "4  aminoglycoside antibiotic                                                                                                                                               \n",
       "5  lincosamide antibiotic                                                                                                                                                  \n",
       "6  glycopeptide antibiotic                                                                                                                                                 \n",
       "7  aminoglycoside antibiotic; tetracycline antibiotic; phenicol antibiotic                                                                                                 \n",
       "8  rifamycin antibiotic; isoniazid                                                                                                                                         \n",
       "9  fosfomycin                                                                                                                                                              \n",
       "10 nucleoside antibiotic                                                                                                                                                   \n",
       "11 peptide antibiotic                                                                                                                                                      \n",
       "12 fluoroquinolone antibiotic; nucleoside antibiotic; acridine dye; phenicol antibiotic                                                                                    \n",
       "13 peptide antibiotic                                                                                                                                                      \n",
       "   Resistance Mechanism              \n",
       "1  antibiotic inactivation           \n",
       "2  antibiotic inactivation           \n",
       "3  antibiotic target protection      \n",
       "4  antibiotic inactivation           \n",
       "5  antibiotic efflux                 \n",
       "6  antibiotic target alteration      \n",
       "7  antibiotic efflux                 \n",
       "8  antibiotic efflux                 \n",
       "9  antibiotic target alteration      \n",
       "10 reduced permeability to antibiotic\n",
       "11 antibiotic target alteration      \n",
       "12 antibiotic efflux                 \n",
       "13 antibiotic target alteration      \n",
       "   AMR Gene Family                                           \n",
       "1  OXA beta-lactamase                                        \n",
       "2  macrolide phosphotransferase (MPH)                        \n",
       "3  ABC-F ATP-binding cassette ribosomal protection protein   \n",
       "4  AAC(3)                                                    \n",
       "5  ATP-binding cassette (ABC) antibiotic efflux pump         \n",
       "6  glycopeptide resistance gene cluster; vanK                \n",
       "7  small multidrug resistance (SMR) antibiotic efflux pump   \n",
       "8  major facilitator superfamily (MFS) antibiotic efflux pump\n",
       "9  antibiotic-resistant murA transferase                     \n",
       "10 tunicamycin resistance protein                            \n",
       "11 defensin resistant mprF                                   \n",
       "12 major facilitator superfamily (MFS) antibiotic efflux pump\n",
       "13 daptomycin resistant pgsA                                 "
      ]
     },
     "metadata": {},
     "output_type": "display_data"
    }
   ],
   "source": [
    "library(tidyverse)\n",
    "\n",
    "setwd('/data/sn/Benha/resistome/megahit_K8')\n",
    "\n",
    "restab = read_tsv('res_DIAMOND_pr.txt') %>% \n",
    "  select(Best_Hit_ARO, Best_Identities, `Percentage Length of Reference Sequence`, `Drug Class`, `Resistance Mechanism`, `AMR Gene Family`)\n",
    "\n",
    "restab"
   ]
  },
  {
   "cell_type": "code",
   "execution_count": 3,
   "metadata": {},
   "outputs": [
    {
     "name": "stderr",
     "output_type": "stream",
     "text": [
      "Joining, by = \"drugclass\"\n",
      "\n",
      "`summarise()` regrouping output by 'ab', 'Best_Identities' (override with `.groups` argument)\n",
      "\n",
      "`summarise()` ungrouping output (override with `.groups` argument)\n",
      "\n",
      "Joining, by = c(\"ab\", \"s\")\n",
      "\n"
     ]
    }
   ],
   "source": [
    "library(RColorBrewer)\n",
    "\n",
    "restab = restab %>% dplyr::rename(drugclass=`Drug Class`)\n",
    "drugs = restab %>% pull(4)\n",
    "i = 1\n",
    "htab = tibble(drugclass=drugs[i], ab=unlist(strsplit(drugs[i], '; ')))\n",
    "\n",
    "for(i in 1:length(drugs)){\n",
    "  htab = rbind(htab, tibble(drugclass=drugs[i], ab=unlist(strsplit(drugs[i], '; '))))\n",
    "}\n",
    "\n",
    "htab = htab %>% mutate(ab=gsub(' antibiotic', '', ab)) %>% unique()\n",
    "\n",
    "tmp = inner_join(restab, htab) %>% unique() %>% group_by(ab, Best_Identities, `Percentage Length of Reference Sequence`) %>% summarize(s=Best_Identities+`Percentage Length of Reference Sequence`)\n",
    "pd = inner_join(tmp, tmp %>% group_by(ab) %>% summarize(s=max(s))) \n"
   ]
  },
  {
   "cell_type": "code",
   "execution_count": 6,
   "metadata": {},
   "outputs": [
    {
     "data": {
      "text/html": [
       "<table>\n",
       "<caption>A grouped_df: 18 × 4</caption>\n",
       "<thead>\n",
       "\t<tr><th scope=col>ab</th><th scope=col>Best_Identities</th><th scope=col>Percentage Length of Reference Sequence</th><th scope=col>s</th></tr>\n",
       "\t<tr><th scope=col>&lt;chr&gt;</th><th scope=col>&lt;dbl&gt;</th><th scope=col>&lt;dbl&gt;</th><th scope=col>&lt;dbl&gt;</th></tr>\n",
       "</thead>\n",
       "<tbody>\n",
       "\t<tr><td>acridine dye   </td><td> 95.37</td><td>100.00</td><td>195.37</td></tr>\n",
       "\t<tr><td>aminoglycoside </td><td> 96.19</td><td>100.00</td><td>196.19</td></tr>\n",
       "\t<tr><td>cephalosporin  </td><td>100.00</td><td> 20.88</td><td>120.88</td></tr>\n",
       "\t<tr><td>fluoroquinolone</td><td> 95.37</td><td>100.00</td><td>195.37</td></tr>\n",
       "\t<tr><td>fosfomycin     </td><td>100.00</td><td>  6.08</td><td>106.08</td></tr>\n",
       "\t<tr><td>glycopeptide   </td><td>100.00</td><td> 14.67</td><td>114.67</td></tr>\n",
       "\t<tr><td>isoniazid      </td><td>100.00</td><td>  4.34</td><td>104.34</td></tr>\n",
       "\t<tr><td>lincosamide    </td><td> 97.90</td><td>100.00</td><td>197.90</td></tr>\n",
       "\t<tr><td>macrolide      </td><td> 94.27</td><td> 98.90</td><td>193.17</td></tr>\n",
       "\t<tr><td>nucleoside     </td><td> 95.37</td><td>100.00</td><td>195.37</td></tr>\n",
       "\t<tr><td>oxazolidinone  </td><td> 94.27</td><td> 98.90</td><td>193.17</td></tr>\n",
       "\t<tr><td>penam          </td><td>100.00</td><td> 20.88</td><td>120.88</td></tr>\n",
       "\t<tr><td>peptide        </td><td> 96.26</td><td>100.00</td><td>196.26</td></tr>\n",
       "\t<tr><td>phenicol       </td><td> 96.19</td><td>100.00</td><td>196.19</td></tr>\n",
       "\t<tr><td>pleuromutilin  </td><td> 94.27</td><td> 98.90</td><td>193.17</td></tr>\n",
       "\t<tr><td>rifamycin      </td><td>100.00</td><td>  4.34</td><td>104.34</td></tr>\n",
       "\t<tr><td>streptogramin  </td><td> 94.27</td><td> 98.90</td><td>193.17</td></tr>\n",
       "\t<tr><td>tetracycline   </td><td> 96.19</td><td>100.00</td><td>196.19</td></tr>\n",
       "</tbody>\n",
       "</table>\n"
      ],
      "text/latex": [
       "A grouped\\_df: 18 × 4\n",
       "\\begin{tabular}{llll}\n",
       " ab & Best\\_Identities & Percentage Length of Reference Sequence & s\\\\\n",
       " <chr> & <dbl> & <dbl> & <dbl>\\\\\n",
       "\\hline\n",
       "\t acridine dye    &  95.37 & 100.00 & 195.37\\\\\n",
       "\t aminoglycoside  &  96.19 & 100.00 & 196.19\\\\\n",
       "\t cephalosporin   & 100.00 &  20.88 & 120.88\\\\\n",
       "\t fluoroquinolone &  95.37 & 100.00 & 195.37\\\\\n",
       "\t fosfomycin      & 100.00 &   6.08 & 106.08\\\\\n",
       "\t glycopeptide    & 100.00 &  14.67 & 114.67\\\\\n",
       "\t isoniazid       & 100.00 &   4.34 & 104.34\\\\\n",
       "\t lincosamide     &  97.90 & 100.00 & 197.90\\\\\n",
       "\t macrolide       &  94.27 &  98.90 & 193.17\\\\\n",
       "\t nucleoside      &  95.37 & 100.00 & 195.37\\\\\n",
       "\t oxazolidinone   &  94.27 &  98.90 & 193.17\\\\\n",
       "\t penam           & 100.00 &  20.88 & 120.88\\\\\n",
       "\t peptide         &  96.26 & 100.00 & 196.26\\\\\n",
       "\t phenicol        &  96.19 & 100.00 & 196.19\\\\\n",
       "\t pleuromutilin   &  94.27 &  98.90 & 193.17\\\\\n",
       "\t rifamycin       & 100.00 &   4.34 & 104.34\\\\\n",
       "\t streptogramin   &  94.27 &  98.90 & 193.17\\\\\n",
       "\t tetracycline    &  96.19 & 100.00 & 196.19\\\\\n",
       "\\end{tabular}\n"
      ],
      "text/markdown": [
       "\n",
       "A grouped_df: 18 × 4\n",
       "\n",
       "| ab &lt;chr&gt; | Best_Identities &lt;dbl&gt; | Percentage Length of Reference Sequence &lt;dbl&gt; | s &lt;dbl&gt; |\n",
       "|---|---|---|---|\n",
       "| acridine dye    |  95.37 | 100.00 | 195.37 |\n",
       "| aminoglycoside  |  96.19 | 100.00 | 196.19 |\n",
       "| cephalosporin   | 100.00 |  20.88 | 120.88 |\n",
       "| fluoroquinolone |  95.37 | 100.00 | 195.37 |\n",
       "| fosfomycin      | 100.00 |   6.08 | 106.08 |\n",
       "| glycopeptide    | 100.00 |  14.67 | 114.67 |\n",
       "| isoniazid       | 100.00 |   4.34 | 104.34 |\n",
       "| lincosamide     |  97.90 | 100.00 | 197.90 |\n",
       "| macrolide       |  94.27 |  98.90 | 193.17 |\n",
       "| nucleoside      |  95.37 | 100.00 | 195.37 |\n",
       "| oxazolidinone   |  94.27 |  98.90 | 193.17 |\n",
       "| penam           | 100.00 |  20.88 | 120.88 |\n",
       "| peptide         |  96.26 | 100.00 | 196.26 |\n",
       "| phenicol        |  96.19 | 100.00 | 196.19 |\n",
       "| pleuromutilin   |  94.27 |  98.90 | 193.17 |\n",
       "| rifamycin       | 100.00 |   4.34 | 104.34 |\n",
       "| streptogramin   |  94.27 |  98.90 | 193.17 |\n",
       "| tetracycline    |  96.19 | 100.00 | 196.19 |\n",
       "\n"
      ],
      "text/plain": [
       "   ab              Best_Identities Percentage Length of Reference Sequence\n",
       "1  acridine dye     95.37          100.00                                 \n",
       "2  aminoglycoside   96.19          100.00                                 \n",
       "3  cephalosporin   100.00           20.88                                 \n",
       "4  fluoroquinolone  95.37          100.00                                 \n",
       "5  fosfomycin      100.00            6.08                                 \n",
       "6  glycopeptide    100.00           14.67                                 \n",
       "7  isoniazid       100.00            4.34                                 \n",
       "8  lincosamide      97.90          100.00                                 \n",
       "9  macrolide        94.27           98.90                                 \n",
       "10 nucleoside       95.37          100.00                                 \n",
       "11 oxazolidinone    94.27           98.90                                 \n",
       "12 penam           100.00           20.88                                 \n",
       "13 peptide          96.26          100.00                                 \n",
       "14 phenicol         96.19          100.00                                 \n",
       "15 pleuromutilin    94.27           98.90                                 \n",
       "16 rifamycin       100.00            4.34                                 \n",
       "17 streptogramin    94.27           98.90                                 \n",
       "18 tetracycline     96.19          100.00                                 \n",
       "   s     \n",
       "1  195.37\n",
       "2  196.19\n",
       "3  120.88\n",
       "4  195.37\n",
       "5  106.08\n",
       "6  114.67\n",
       "7  104.34\n",
       "8  197.90\n",
       "9  193.17\n",
       "10 195.37\n",
       "11 193.17\n",
       "12 120.88\n",
       "13 196.26\n",
       "14 196.19\n",
       "15 193.17\n",
       "16 104.34\n",
       "17 193.17\n",
       "18 196.19"
      ]
     },
     "metadata": {},
     "output_type": "display_data"
    }
   ],
   "source": [
    "pd"
   ]
  },
  {
   "cell_type": "code",
   "execution_count": null,
   "metadata": {},
   "outputs": [],
   "source": [
    "library(repr)\n",
    "\n",
    "options(repr.plot.width = 18, repr.plot.height = 15)"
   ]
  },
  {
   "cell_type": "code",
   "execution_count": 11,
   "metadata": {},
   "outputs": [
    {
     "data": {
      "image/png": "[encoded data removed]",
      "text/plain": [
       "plot without title"
      ]
     },
     "metadata": {
      "image/png": {
       "height": 420,
       "width": 420
      }
     },
     "output_type": "display_data"
    }
   ],
   "source": [
    "pd %>%\n",
    "ggplot(mapping = aes(x=ab, y=`Percentage Length of Reference Sequence`)) + \n",
    "geom_bar(mapping = aes(x=ab, y=`Percentage Length of Reference Sequence`, fill=Best_Identities), position= position_dodge2(preserve = \"single\"), stat='identity') +\n",
    "scale_fill_gradient(name=\"Identity (%)\", low=brewer.pal(9,'Reds')[5], high=brewer.pal(9,'Reds')[9]) +\n",
    "xlab('Drug class') + ylab('Coverage of Reference Sequence (%)') + \n",
    "theme_bw() + \n",
    "theme(\n",
    "  legend.text.align=0, \n",
    "   legend.title = element_text(size=10), \n",
    "   axis.text=element_text(size=10),\n",
    "  plot.margin = margin(1, 7, 1, 1, 'mm'), \n",
    "  axis.text.x = element_text(angle = 60, hjust=0.95, vjust=0.9)\n",
    ") "
   ]
  },
  {
   "cell_type": "code",
   "execution_count": null,
   "metadata": {},
   "outputs": [],
   "source": []
  }
 ],
 "metadata": {
  "kernelspec": {
   "display_name": "R",
   "language": "R",
   "name": "ir"
  },
  "language_info": {
   "codemirror_mode": "r",
   "file_extension": ".r",
   "mimetype": "text/x-r-source",
   "name": "R",
   "pygments_lexer": "r",
   "version": "4.0.2"
  }
 },
 "nbformat": 4,
 "nbformat_minor": 4
}
